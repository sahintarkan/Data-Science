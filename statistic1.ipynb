{
  "nbformat": 4,
  "nbformat_minor": 0,
  "metadata": {
    "colab": {
      "name": "statistic1.ipynb",
      "provenance": [],
      "authorship_tag": "ABX9TyOIPHFusilAywnpUg7p43wo",
      "include_colab_link": true
    },
    "kernelspec": {
      "name": "python3",
      "display_name": "Python 3"
    },
    "language_info": {
      "name": "python"
    }
  },
  "cells": [
    {
      "cell_type": "markdown",
      "metadata": {
        "id": "view-in-github",
        "colab_type": "text"
      },
      "source": [
        "<a href=\"https://colab.research.google.com/github/sahintarkan/Data-Science/blob/main/statistic1.ipynb\" target=\"_parent\"><img src=\"https://colab.research.google.com/assets/colab-badge.svg\" alt=\"Open In Colab\"/></a>"
      ]
    },
    {
      "cell_type": "code",
      "execution_count": 3,
      "metadata": {
        "colab": {
          "base_uri": "https://localhost:8080/"
        },
        "id": "q-EzYIx-eZCv",
        "outputId": "18100f88-924b-4947-9bd6-cc463a79e6dc"
      },
      "outputs": [
        {
          "output_type": "stream",
          "name": "stdout",
          "text": [
            "mean : 37.0\n",
            "median:  30.0\n",
            "mode:  ModeResult(mode=array([33]), count=array([3]))\n"
          ]
        }
      ],
      "source": [
        "import numpy as np\n",
        "from scipy import stats\n",
        "salary=[102,33,26,27,30,25,33,33,24]\n",
        "mean_salary=np.mean(salary)\n",
        "print(\"mean :\",mean_salary)\n",
        "\n",
        "median_salary=np.median(salary)\n",
        "print(\"median: \", median_salary)\n",
        "\n",
        "mode_salary=stats.mode(salary)\n",
        "print(\"mode: \", mode_salary)"
      ]
    },
    {
      "cell_type": "code",
      "source": [
        "import numpy as np\n",
        "from scipy import stats\n",
        "salary=[102,33,26,27,30,25,33,33,24]\n",
        "print(\"range :\" , (np.max(salary)-np.min(salary)))\n",
        "print(\"variance \" , (np.var(salary)))\n",
        "print(\"STD :\" , (np.std(salary)))\n",
        "print(\"Q1 :\" , (np.percentile(salary , 25)))\n",
        "print(\"Q2 :\" , (np.percentile(salary , 50)))\n",
        "print(\"Q3 :\" , (np.percentile(salary , 75)))\n",
        "print(\"IQR :\" , (stats.iqr(salary)))"
      ],
      "metadata": {
        "colab": {
          "base_uri": "https://localhost:8080/"
        },
        "id": "ME8n1XTWedqp",
        "outputId": "c697535c-1d0a-44d8-9444-b758e4387a92"
      },
      "execution_count": 2,
      "outputs": [
        {
          "output_type": "stream",
          "name": "stdout",
          "text": [
            "range : 78\n",
            "variance  539.5555555555555\n",
            "STD : 23.22833518691246\n",
            "Q1 : 26.0\n",
            "Q2 : 30.0\n",
            "Q3 : 33.0\n",
            "IQR : 7.0\n"
          ]
        }
      ]
    },
    {
      "cell_type": "code",
      "source": [
        "print(\"varience :\" , np.var(salary)) # parantezsiz de oluyor"
      ],
      "metadata": {
        "colab": {
          "base_uri": "https://localhost:8080/"
        },
        "id": "_MtYEmuLedoK",
        "outputId": "4d837c91-e333-4382-e5f6-1df8086b2cdd"
      },
      "execution_count": 12,
      "outputs": [
        {
          "output_type": "stream",
          "name": "stdout",
          "text": [
            "varience : 539.5555555555555\n"
          ]
        }
      ]
    },
    {
      "cell_type": "code",
      "source": [
        "pow(23.22833518691246 , 2)"
      ],
      "metadata": {
        "colab": {
          "base_uri": "https://localhost:8080/"
        },
        "id": "ZhJ9GLYVedjo",
        "outputId": "64640501-9c3d-474c-efea-110a4bb196c5"
      },
      "execution_count": 13,
      "outputs": [
        {
          "output_type": "execute_result",
          "data": {
            "text/plain": [
              "539.5555555555555"
            ]
          },
          "metadata": {},
          "execution_count": 13
        }
      ]
    },
    {
      "cell_type": "code",
      "source": [
        "a=[1, 10, 7, 12, 0, 30, 15, 22, 8, 2]\n",
        "print(\"STD :\" , (np.std(a)))"
      ],
      "metadata": {
        "colab": {
          "base_uri": "https://localhost:8080/"
        },
        "id": "JlozTND4edg_",
        "outputId": "d02258a0-9e64-4d45-c0ea-51d9dbc4f0d1"
      },
      "execution_count": 3,
      "outputs": [
        {
          "output_type": "stream",
          "name": "stdout",
          "text": [
            "STD 9.089004345911603\n"
          ]
        }
      ]
    },
    {
      "cell_type": "code",
      "source": [
        "b=[9, 11, 4, 14, 8, 2, 10, 3, 10, 9, 6, 0, 1]"
      ],
      "metadata": {
        "id": "7fKiqjwAedfC"
      },
      "execution_count": 18,
      "outputs": []
    },
    {
      "cell_type": "code",
      "source": [
        "print(\"IQR :\" , (stats.iqr(b)))"
      ],
      "metadata": {
        "colab": {
          "base_uri": "https://localhost:8080/"
        },
        "id": "cdRjOzs9edb7",
        "outputId": "7592cb90-2e1c-40ce-f0f7-28289d1bf99b"
      },
      "execution_count": 19,
      "outputs": [
        {
          "output_type": "stream",
          "name": "stdout",
          "text": [
            "IQR : 7.0\n"
          ]
        }
      ]
    },
    {
      "cell_type": "code",
      "source": [
        "c=[8, 10, 4, 24, 8, 3, 10, 3, 40, 7, 6, 12, 4]\n",
        "print(stats.iqr(c))"
      ],
      "metadata": {
        "colab": {
          "base_uri": "https://localhost:8080/"
        },
        "id": "gZK85mjYedZJ",
        "outputId": "742a5304-63ac-45f0-d7f2-02a8f08894b9"
      },
      "execution_count": 20,
      "outputs": [
        {
          "output_type": "stream",
          "name": "stdout",
          "text": [
            "6.0\n"
          ]
        }
      ]
    }
  ]
}