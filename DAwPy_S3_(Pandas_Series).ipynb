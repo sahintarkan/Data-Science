{
  "cells": [
    {
      "cell_type": "markdown",
      "metadata": {
        "id": "view-in-github",
        "colab_type": "text"
      },
      "source": [
        "<a href=\"https://colab.research.google.com/github/sahintarkan/Data-Science/blob/main/DAwPy_S3_(Pandas_Series).ipynb\" target=\"_parent\"><img src=\"https://colab.research.google.com/assets/colab-badge.svg\" alt=\"Open In Colab\"/></a>"
      ]
    },
    {
      "cell_type": "markdown",
      "metadata": {
        "id": "MkTCBtBXuPZA"
      },
      "source": [
        "___\n",
        "\n",
        "<p style=\"text-align: center;\"><img src=\"https://docs.google.com/uc?id=1lY0Uj5R04yMY3-ZppPWxqCr5pvBLYPnV\" class=\"img-fluid\" \n",
        "alt=\"CLRSWY\"></p>\n",
        "\n",
        "## <p style=\"background-color:#FDFEFE; font-family:newtimeroman; color:#9d4f8c; font-size:100%; text-align:center; border-radius:10px 10px;\">WAY TO REINVENT YOURSELF</p>\n",
        "\n",
        "___"
      ]
    },
    {
      "cell_type": "markdown",
      "metadata": {
        "id": "_iTzeZoZlL41"
      },
      "source": [
        "<img src=https://i.ibb.co/6gCsHd6/1200px-Pandas-logo-svg.png width=\"700\" height=\"200\">\n",
        "\n",
        "## <p style=\"background-color:#FDFEFE; font-family:newtimeroman; color:#060108; font-size:200%; text-align:center; border-radius:10px 10px;\">Data Analysis with Python</p>\n",
        "\n",
        "## <p style=\"background-color:#FDFEFE; font-family:newtimeroman; color:#060108; font-size:150%; text-align:center; border-radius:10px 10px;\">Session - 03</p>\n",
        "\n",
        "## <p style=\"background-color:#FDFEFE; font-family:newtimeroman; color:#4d77cf; font-size:200%; text-align:center; border-radius:10px 10px;\">Pandas Series</p>"
      ]
    },
    {
      "cell_type": "markdown",
      "metadata": {
        "id": "AR4cQhDElL45"
      },
      "source": [
        "<a id=\"toc\"></a>\n",
        "\n",
        "## <p style=\"background-color:#9d4f8c; font-family:newtimeroman; color:#FFF9ED; font-size:150%; text-align:center; border-radius:10px 10px;\">Content</p>\n",
        "\n",
        "* [IMPORTING LIBRARIES NEEDED IN THIS NOTEBOOK](#0)\n",
        "* [CREATING PANDAS SERIES](#1)\n",
        "    * [Using Lists](#1.1)\n",
        "    * [Using Numpy Arrays](#1.2)\n",
        "    * [Using Dictionaries](#1.3)\n",
        "    * [Using Scalar Value](#1.4)\n",
        "* [DATA IN A SERIES](#2)\n",
        "* [BASIC ATTRIBUTES & METHODS OF SERIES](#3)\n",
        "* [INDEXING AND SLICING WİTH PANDAS SERIES](#4)\n",
        "* [Selection with Condition and Broadcasting](#5)\n",
        "* [RECAP FOR SEVERAL SELECTING ATTRIBUTES](#6)\n",
        "* [THE END OF THE SESSION-03](#7)"
      ]
    },
    {
      "cell_type": "markdown",
      "metadata": {
        "id": "P7zmnbXglL47"
      },
      "source": [
        "## <p style=\"background-color:#9d4f8c; font-family:newtimeroman; color:#FFF9ED; font-size:175%; text-align:center; border-radius:10px 10px;\">Importing Libraries Needed in This Notebook</p>\n",
        "\n",
        "<a id=\"0\"></a>\n",
        "<a href=\"#toc\" class=\"btn btn-primary btn-sm\" role=\"button\" aria-pressed=\"true\" \n",
        "style=\"color:blue; background-color:#dfa8e4\" data-toggle=\"popover\">Content</a>\n",
        "\n",
        "Once you've installed NumPy & Pandas you can import them as a library:"
      ]
    },
    {
      "cell_type": "code",
      "execution_count": null,
      "metadata": {
        "id": "i7VkXwmNuPZL"
      },
      "outputs": [],
      "source": [
        "import numpy as np\n",
        "import pandas as pd"
      ]
    },
    {
      "cell_type": "markdown",
      "metadata": {
        "id": "4Tx8fzjZlL4_"
      },
      "source": [
        "## <p style=\"background-color:#9d4f8c; font-family:newtimeroman; color:#FFF9ED; font-size:175%; text-align:center; border-radius:10px 10px;\">Creating a Pandas Series</p>\n",
        "\n",
        "<a id=\"1\"></a>\n",
        "<a href=\"#toc\" class=\"btn btn-primary btn-sm\" role=\"button\" aria-pressed=\"true\" \n",
        "style=\"color:blue; background-color:#dfa8e4\" data-toggle=\"popover\">Content</a>\n",
        "\n",
        "Pandas series is a one-dimensional data structure. It can hold data of many types including objects, floats, strings and integers. You can create a series by calling pandas.Series(). A list, numpy array, dict can be turned into a pandas series. You should use the simplest data structure that meets your needs [Source](https://pythonbasics.org/pandas-series/). The axis labels are collectively called index. Labels need not be unique but must be a hashable type. The object supports both integer and label-based indexing and provides a host of methods for performing operations involving the index [Source](https://www.geeksforgeeks.org/creating-a-pandas-series/).\n",
        "\n",
        "[SOURCE01](https://pandas.pydata.org/docs/reference/api/pandas.Series.html), [SOURCE02](https://www.datasciencemadesimple.com/create-series-in-python-pandas/), \n",
        "[SOURCE03](https://www.cbsecsip.in/2020/08/pandas-data-structure-series.html), \n",
        "[SOURCE04](https://towardsdatascience.com/pandas-series-a-lightweight-intro-b7963a0d62a2), \n",
        "[SOURCE05](https://www.educba.com/pandas-series/), \n",
        "[SOURCE06](http://www.rebellionrider.com/python-pandas-series-in-detail-part-1/), \n",
        "[SOURCE06](https://www.javatpoint.com/python-pandas-series), &\n",
        "[SOURCE06](https://towardsdatascience.com/20-examples-to-master-pandas-series-bc4c68200324)<br>\n",
        "\n",
        "In this lecture we will discuss how to create Pandas Series, use basic attributes of Series, index Pandas Series & be familiar with Pandas Dataframes."
      ]
    },
    {
      "cell_type": "markdown",
      "metadata": {
        "id": "3Z5JzlrklL5B"
      },
      "source": [
        "**You can create a series by calling pandas. Series() . A list, numpy array, dict and scalar value can be turned into a pandas series.**\n",
        "\n",
        "**``pd.Series(data=None, index=None, dtype=None, name=None, copy=False, fastpath=False)``**\n",
        "\n",
        "One-dimensional ndarray with axis labels (including time series)."
      ]
    },
    {
      "cell_type": "code",
      "execution_count": null,
      "metadata": {
        "id": "XUnr4ijkuPZS"
      },
      "outputs": [],
      "source": [
        "labels = ['a', 'b', 'c']\n",
        "my_list = [10, 20, 30]\n",
        "arr = np.array([10, 20, 30])\n",
        "d = {'a': 10, 'b': 20, 'c': 30}"
      ]
    },
    {
      "cell_type": "markdown",
      "metadata": {
        "id": "AGLLQFthlL5E"
      },
      "source": [
        "### <p style=\"background-color:#9d4f8c; font-family:newtimeroman; color:#FFF9ED; font-size:150%; text-align:center; border-radius:10px 10px;\">Using Lists</p>\n",
        "\n",
        "<a id=\"1.2.1\"></a>\n",
        "<a href=\"#toc\" class=\"btn btn-primary btn-sm\" role=\"button\" aria-pressed=\"true\" \n",
        "style=\"color:blue; background-color:#dfa8e4\" data-toggle=\"popover\">Content</a>\n",
        "\n",
        "**To turn a list into a series, all you have to do is:**"
      ]
    },
    {
      "cell_type": "code",
      "execution_count": null,
      "metadata": {
        "colab": {
          "base_uri": "https://localhost:8080/"
        },
        "id": "NLASEzrbuPZT",
        "outputId": "5ea96ab1-dd1f-47bd-aa94-742397bfd9b0"
      },
      "outputs": [
        {
          "data": {
            "text/plain": [
              "0    10\n",
              "1    20\n",
              "2    30\n",
              "dtype: int64"
            ]
          },
          "execution_count": 11,
          "metadata": {},
          "output_type": "execute_result"
        }
      ],
      "source": [
        "pd.Series(my_list)"
      ]
    },
    {
      "cell_type": "code",
      "execution_count": null,
      "metadata": {
        "id": "trb2dzHMlL5H",
        "outputId": "505aea4d-78e1-4c7c-b6ce-178da8d96d6d"
      },
      "outputs": [
        {
          "data": {
            "text/plain": [
              "0    10\n",
              "1    20\n",
              "2    30\n",
              "dtype: int64"
            ]
          },
          "execution_count": 12,
          "metadata": {},
          "output_type": "execute_result"
        }
      ],
      "source": [
        "pd.Series([10, 20, 30])"
      ]
    },
    {
      "cell_type": "markdown",
      "metadata": {
        "id": "KiBmRBjmlL5I"
      },
      "source": [
        "By default it assigns an index. First it shows the index, then the element value."
      ]
    },
    {
      "cell_type": "markdown",
      "metadata": {
        "id": "qMJtGLSmlL5J"
      },
      "source": [
        "### <p style=\"background-color:#9d4f8c; font-family:newtimeroman; color:#FFF9ED; font-size:150%; text-align:center; border-radius:10px 10px;\">Using NumPy Arrays</p>\n",
        "\n",
        "<a id=\"1.2.2\"></a>\n",
        "<a href=\"#toc\" class=\"btn btn-primary btn-sm\" role=\"button\" aria-pressed=\"true\" \n",
        "style=\"color:blue; background-color:#dfa8e4\" data-toggle=\"popover\">Content</a>\n",
        "\n",
        "**You can create a series from a numpy ndarray.**"
      ]
    },
    {
      "cell_type": "code",
      "execution_count": null,
      "metadata": {
        "id": "4TnS9uzOlL5K",
        "outputId": "b8e84fdf-1e4f-42da-fa71-ca0208919380"
      },
      "outputs": [
        {
          "data": {
            "text/plain": [
              "array([10, 20, 30])"
            ]
          },
          "execution_count": 13,
          "metadata": {},
          "output_type": "execute_result"
        }
      ],
      "source": [
        "arr"
      ]
    },
    {
      "cell_type": "code",
      "execution_count": null,
      "metadata": {
        "id": "rklGMN0nlL5K",
        "outputId": "7ff642da-5c72-4c4f-fca0-10ae2941122f"
      },
      "outputs": [
        {
          "data": {
            "text/plain": [
              "0    10\n",
              "1    20\n",
              "2    30\n",
              "dtype: int32"
            ]
          },
          "execution_count": 14,
          "metadata": {},
          "output_type": "execute_result"
        }
      ],
      "source": [
        "pd.Series(arr)"
      ]
    },
    {
      "cell_type": "code",
      "execution_count": null,
      "metadata": {
        "colab": {
          "base_uri": "https://localhost:8080/"
        },
        "id": "bMxCiRcxuPZU",
        "outputId": "fd28e2fc-1ddf-4b32-8450-7a6b91d13a99"
      },
      "outputs": [
        {
          "data": {
            "text/plain": [
              "a    10\n",
              "b    20\n",
              "c    30\n",
              "dtype: int32"
            ]
          },
          "execution_count": 15,
          "metadata": {},
          "output_type": "execute_result"
        }
      ],
      "source": [
        "pd.Series(data=arr, index=labels)"
      ]
    },
    {
      "cell_type": "markdown",
      "metadata": {
        "id": "eoV0P38plL5M"
      },
      "source": [
        "### <p style=\"background-color:#9d4f8c; font-family:newtimeroman; color:#FFF9ED; font-size:150%; text-align:center; border-radius:10px 10px;\">Using Dictionaries</p>\n",
        "\n",
        "<a id=\"1.2.3\"></a>\n",
        "<a href=\"#toc\" class=\"btn btn-primary btn-sm\" role=\"button\" aria-pressed=\"true\" \n",
        "style=\"color:blue; background-color:#dfa8e4\" data-toggle=\"popover\">Content</a>\n",
        "\n",
        "**If you have a dictionary, you can turn it into a series:**"
      ]
    },
    {
      "cell_type": "code",
      "execution_count": null,
      "metadata": {
        "colab": {
          "base_uri": "https://localhost:8080/"
        },
        "id": "qjd4_CbY9kPN",
        "outputId": "0cf69d9d-12eb-47c3-d2eb-51b57f9854e7"
      },
      "outputs": [
        {
          "data": {
            "text/plain": [
              "{'a': 10, 'b': 20, 'c': 30}"
            ]
          },
          "execution_count": 16,
          "metadata": {},
          "output_type": "execute_result"
        }
      ],
      "source": [
        "d"
      ]
    },
    {
      "cell_type": "code",
      "execution_count": null,
      "metadata": {
        "colab": {
          "base_uri": "https://localhost:8080/"
        },
        "id": "mhSuOow-uPZV",
        "outputId": "8f41ce28-30b9-4fa6-ba10-e2861888155a"
      },
      "outputs": [
        {
          "data": {
            "text/plain": [
              "a    10\n",
              "b    20\n",
              "c    30\n",
              "dtype: int64"
            ]
          },
          "execution_count": 17,
          "metadata": {},
          "output_type": "execute_result"
        }
      ],
      "source": [
        "pd.Series(d)"
      ]
    },
    {
      "cell_type": "markdown",
      "metadata": {
        "id": "6RPqu-UplL5P"
      },
      "source": [
        "It used the dictionary keys as index. The keys of the dictionary match with the Index values; hence, the default Index values have no effect."
      ]
    },
    {
      "cell_type": "code",
      "execution_count": null,
      "metadata": {
        "colab": {
          "base_uri": "https://localhost:8080/"
        },
        "id": "lZrm9t_IuPZV",
        "outputId": "8be20530-244d-448c-d4bb-8f34bb3b661e"
      },
      "outputs": [
        {
          "data": {
            "text/plain": [
              "q     NaN\n",
              "c    30.0\n",
              "y     NaN\n",
              "dtype: float64"
            ]
          },
          "execution_count": 18,
          "metadata": {},
          "output_type": "execute_result"
        }
      ],
      "source": [
        "pd.Series(data=d, index=['q', 'c', 'y'])"
      ]
    },
    {
      "cell_type": "markdown",
      "metadata": {
        "id": "uN5_PoD1lL5Q"
      },
      "source": [
        "Note that the Index is first build with the keys from the dictionary. After this the Series is reindexed with the given Index values, hence we get all NaN as a result."
      ]
    },
    {
      "cell_type": "markdown",
      "metadata": {
        "id": "cKZdBimRlL5R"
      },
      "source": [
        "### <p style=\"background-color:#9d4f8c; font-family:newtimeroman; color:#FFF9ED; font-size:150%; text-align:center; border-radius:10px 10px;\">Using Scalar Value</p>\n",
        "\n",
        "<a id=\"1.2.4\"></a>\n",
        "<a href=\"#toc\" class=\"btn btn-primary btn-sm\" role=\"button\" aria-pressed=\"true\" \n",
        "style=\"color:blue; background-color:#dfa8e4\" data-toggle=\"popover\">Content</a>\n",
        "\n",
        "**``Scalars``** are single values representing one unit of data, such as an integer or bool, as opposed to data structures like a list or tuple, which are composed of scalars.\n",
        "\n",
        "If data is a scalar value, an index must be provided. The value will be repeated to match the length of index [Source](https://www.tutorialspoint.com/python_pandas/python_pandas_series.htm)."
      ]
    },
    {
      "cell_type": "code",
      "execution_count": null,
      "metadata": {
        "id": "DQLe05nC93Y0",
        "outputId": "a851f29b-8d78-4de8-a6d0-496d8db083c6"
      },
      "outputs": [
        {
          "data": {
            "text/plain": [
              "0    Steve\n",
              "dtype: object"
            ]
          },
          "execution_count": 19,
          "metadata": {},
          "output_type": "execute_result"
        }
      ],
      "source": [
        "pd.Series(data=\"Steve\")"
      ]
    },
    {
      "cell_type": "code",
      "execution_count": null,
      "metadata": {
        "id": "V6rqr53693Y0",
        "outputId": "b428a60c-1beb-462d-f60d-aa79d386d9ca"
      },
      "outputs": [
        {
          "data": {
            "text/plain": [
              "0    Steve\n",
              "1    Steve\n",
              "2    Steve\n",
              "dtype: object"
            ]
          },
          "execution_count": 20,
          "metadata": {},
          "output_type": "execute_result"
        }
      ],
      "source": [
        "pd.Series(data=\"Steve\", index=range(3))"
      ]
    },
    {
      "cell_type": "code",
      "execution_count": null,
      "metadata": {
        "id": "hpncx0vL93Y1",
        "outputId": "662a98ed-534b-462f-ea8f-27851f69d77f"
      },
      "outputs": [
        {
          "data": {
            "text/plain": [
              "a    10\n",
              "b    10\n",
              "c    10\n",
              "dtype: int64"
            ]
          },
          "execution_count": 21,
          "metadata": {},
          "output_type": "execute_result"
        }
      ],
      "source": [
        "pd.Series(data = 10, index= ['a', 'b', 'c'])"
      ]
    },
    {
      "cell_type": "markdown",
      "metadata": {
        "id": "zK1CZtLouPZV"
      },
      "source": [
        "## <p style=\"background-color:#9d4f8c; font-family:newtimeroman; color:#FFF9ED; font-size:175%; text-align:center; border-radius:10px 10px;\">Data in a Series</p>\n",
        "\n",
        "<a id=\"2\"></a>\n",
        "<a href=\"#toc\" class=\"btn btn-primary btn-sm\" role=\"button\" aria-pressed=\"true\" \n",
        "style=\"color:blue; background-color:#dfa8e4\" data-toggle=\"popover\">Content</a>\n",
        "\n",
        "**``A series``** is a **one-dimensional data structure**. A Series is very **similar to a NumPy array** (in fact it is built on top of the NumPy array object). **What differentiates** the NumPy array from a Series, is that a Series can **have axis labels**, meaning it can be indexed by a label, instead of just a number location. It also doesn’t need to hold numeric data, it can hold any arbitrary Python Object [Source](http://www.datasciencelovers.com/python-for-data-science/pandas-series/).\n",
        "\n",
        "So important point to remember for Pandas series is:\n",
        "\n",
        "- Homogeneous data\n",
        "- Size Immutable\n",
        "- Values of Data Mutable\n",
        "\n",
        "**A pandas Series can hold a variety of object types:**"
      ]
    },
    {
      "cell_type": "code",
      "execution_count": null,
      "metadata": {
        "id": "QK6ABf8jlL5U",
        "outputId": "df9c1d79-d5fb-4bb4-f2e3-f76e161e9144"
      },
      "outputs": [
        {
          "data": {
            "text/plain": [
              "0     <class 'set'>\n",
              "1    <class 'list'>\n",
              "2    <class 'dict'>\n",
              "dtype: object"
            ]
          },
          "execution_count": 22,
          "metadata": {},
          "output_type": "execute_result"
        }
      ],
      "source": [
        "pd.Series([set, list, dict])"
      ]
    },
    {
      "cell_type": "code",
      "execution_count": null,
      "metadata": {
        "colab": {
          "base_uri": "https://localhost:8080/"
        },
        "id": "baQMWFZyuPZW",
        "outputId": "c0a149e6-ab2e-40a3-cdef-b0a65275973d"
      },
      "outputs": [
        {
          "data": {
            "text/plain": [
              "{2, 5, 7, 8}"
            ]
          },
          "execution_count": 23,
          "metadata": {},
          "output_type": "execute_result"
        }
      ],
      "source": [
        "pd.Series(set)[0]([2, 5, 7, 5, 8, 2])"
      ]
    },
    {
      "cell_type": "markdown",
      "metadata": {
        "id": "e2pW_WXhlL5V"
      },
      "source": [
        "Even functions (although unlikely that you will use this)"
      ]
    },
    {
      "cell_type": "code",
      "execution_count": null,
      "metadata": {
        "colab": {
          "base_uri": "https://localhost:8080/"
        },
        "id": "xuunC4i_uPZW",
        "outputId": "5f22ece4-515a-4b94-a14f-f8f7d7761d18"
      },
      "outputs": [
        {
          "data": {
            "text/plain": [
              "0      <built-in function sum>\n",
              "1    <built-in function print>\n",
              "2      <built-in function len>\n",
              "dtype: object"
            ]
          },
          "execution_count": 24,
          "metadata": {},
          "output_type": "execute_result"
        }
      ],
      "source": [
        "pd.Series([sum, print, len])"
      ]
    },
    {
      "cell_type": "code",
      "execution_count": null,
      "metadata": {
        "id": "SMU5jdDi93Y3",
        "outputId": "28a27363-3ce8-484a-8505-51290f0072f0"
      },
      "outputs": [
        {
          "name": "stdout",
          "output_type": "stream",
          "text": [
            "a\n"
          ]
        }
      ],
      "source": [
        "pd.Series([sum, print, len])[1](\"a\")"
      ]
    },
    {
      "cell_type": "code",
      "execution_count": null,
      "metadata": {
        "id": "7MSHhVktlL5X",
        "outputId": "ca615da9-e1ce-4a1f-ffc3-534b5115e7ff"
      },
      "outputs": [
        {
          "data": {
            "text/plain": [
              "9"
            ]
          },
          "execution_count": 26,
          "metadata": {},
          "output_type": "execute_result"
        }
      ],
      "source": [
        "pd.Series([sum, print, len])[2](\"clarusway\")"
      ]
    },
    {
      "cell_type": "code",
      "execution_count": null,
      "metadata": {
        "id": "W4LwTYgauPZX"
      },
      "outputs": [],
      "source": [
        "mix_data = ['Aziz', 2, True]"
      ]
    },
    {
      "cell_type": "code",
      "execution_count": null,
      "metadata": {
        "id": "SK6jxicMlL5X",
        "outputId": "eec48e81-dd85-425a-f6f9-10ca15aef875"
      },
      "outputs": [
        {
          "data": {
            "text/plain": [
              "0    Aziz\n",
              "1       2\n",
              "2    True\n",
              "dtype: object"
            ]
          },
          "execution_count": 28,
          "metadata": {},
          "output_type": "execute_result"
        }
      ],
      "source": [
        "ser = pd.Series(mix_data)\n",
        "ser"
      ]
    },
    {
      "cell_type": "code",
      "execution_count": null,
      "metadata": {
        "id": "FttPCBSPlL5Y",
        "outputId": "a090c612-e2cb-4465-822f-38f0a06012f5"
      },
      "outputs": [
        {
          "data": {
            "text/plain": [
              "dtype('O')"
            ]
          },
          "execution_count": 29,
          "metadata": {},
          "output_type": "execute_result"
        }
      ],
      "source": [
        "ser.dtype"
      ]
    },
    {
      "cell_type": "code",
      "execution_count": null,
      "metadata": {
        "id": "iUdaXkNSlL5Z",
        "outputId": "fca0e5db-28c8-4f3b-d69f-e723b1b515d0"
      },
      "outputs": [
        {
          "data": {
            "text/plain": [
              "pandas.core.series.Series"
            ]
          },
          "execution_count": 30,
          "metadata": {},
          "output_type": "execute_result"
        }
      ],
      "source": [
        "type(ser)"
      ]
    },
    {
      "cell_type": "code",
      "execution_count": null,
      "metadata": {
        "id": "nHqXthdRlL5Z",
        "outputId": "b7ecca16-4a9e-42bb-8ab3-912252cba900"
      },
      "outputs": [
        {
          "data": {
            "text/plain": [
              "str"
            ]
          },
          "execution_count": 31,
          "metadata": {},
          "output_type": "execute_result"
        }
      ],
      "source": [
        "type(ser[0])"
      ]
    },
    {
      "cell_type": "code",
      "execution_count": null,
      "metadata": {
        "id": "rBpWrZaHlL5a",
        "outputId": "a2b8ce02-7d7a-4551-8bef-b2092b093bf7"
      },
      "outputs": [
        {
          "data": {
            "text/plain": [
              "int"
            ]
          },
          "execution_count": 32,
          "metadata": {},
          "output_type": "execute_result"
        }
      ],
      "source": [
        "type(ser[1])"
      ]
    },
    {
      "cell_type": "code",
      "execution_count": null,
      "metadata": {
        "id": "wf5jbdGY93Y5",
        "outputId": "b9b443e3-bbba-4877-8948-06fcd2b84154"
      },
      "outputs": [
        {
          "data": {
            "text/plain": [
              "array(['Aziz', '2', 'True'], dtype='<U4')"
            ]
          },
          "execution_count": 33,
          "metadata": {},
          "output_type": "execute_result"
        }
      ],
      "source": [
        "arr = np.array(mix_data)\n",
        "arr"
      ]
    },
    {
      "cell_type": "code",
      "execution_count": null,
      "metadata": {
        "id": "Em1x15lKlL5b",
        "outputId": "ebd4c6ee-167b-4172-ff94-cbee562a2bd7"
      },
      "outputs": [
        {
          "data": {
            "text/plain": [
              "numpy.str_"
            ]
          },
          "execution_count": 34,
          "metadata": {},
          "output_type": "execute_result"
        }
      ],
      "source": [
        "type(arr[2])"
      ]
    },
    {
      "cell_type": "markdown",
      "metadata": {
        "id": "PdodehRSlL5b"
      },
      "source": [
        "[Reminder Source for Numpy Arrays](https://pythonguides.com/python-numpy-data-types/)"
      ]
    },
    {
      "cell_type": "markdown",
      "metadata": {
        "id": "Nj09DoDWlL5b"
      },
      "source": [
        "## <p style=\"background-color:#9d4f8c; font-family:newtimeroman; color:#FFF9ED; font-size:150%; text-align:center; border-radius:10px 10px;\">BASIC ATTRIBUTES & METHODS OF SERIES</p>\n",
        "\n",
        "<a id=\"3\"></a>\n",
        "<a href=\"#toc\" class=\"btn btn-primary btn-sm\" role=\"button\" aria-pressed=\"true\" \n",
        "style=\"color:blue; background-color:#dfa8e4\" data-toggle=\"popover\">Content</a>\n",
        "\n",
        "**SOME COMMON ATTRIBUTES** [Official Pandas API Document](https://pandas.pydata.org/docs/reference/api/pandas.Series.html)<br>\n",
        "\n",
        "**Series.dtype**\tIt returns the data type of the data.<br>\n",
        "**Series.shape**\tIt returns a tuple of shape of the data.<br>\n",
        "**Series.size**\t    It returns the size of the data.<br>\n",
        "**Series.ndim**\t    It returns the number of dimensions in the data.<br>\n",
        "**Series.index**\tDefines the index of the Series.<br>\n",
        "**Series.keys**  \tReturn alias for index.<br>\n",
        "**Series.values**   Returns Series as ndarray or ndarray-like depending on the dtype.<br>\n",
        "**Series.items**\tLazily iterate over (index, value) tuples.<br>\n",
        "**Series.head**   \tReturn the first n rows.<br>\n",
        "**Series.tail** \tReturn the last n rows.<br>\n",
        "**Series.sample**   Return a random sample of items from an axis of object.<br>\n",
        "**Series.sort_index**  Sort Series by index labels.<br>\n",
        "**Series.sort_values**  Sort by the values.<br>\n",
        "**Series.isin**     Whether elements in Series are contained in values.<br>"
      ]
    },
    {
      "cell_type": "code",
      "execution_count": null,
      "metadata": {
        "id": "6Ea9CHIblL5c",
        "outputId": "a25fab94-54e4-4e89-d0e3-1f82f502cbb3"
      },
      "outputs": [
        {
          "data": {
            "text/plain": [
              "0    78\n",
              "1    65\n",
              "2    55\n",
              "3    30\n",
              "4    44\n",
              "5    45\n",
              "6    98\n",
              "dtype: int32"
            ]
          },
          "execution_count": 35,
          "metadata": {},
          "output_type": "execute_result"
        }
      ],
      "source": [
        "ser = pd.Series(np.random.randint(0, 100, 7))\n",
        "ser"
      ]
    },
    {
      "cell_type": "code",
      "execution_count": null,
      "metadata": {
        "colab": {
          "base_uri": "https://localhost:8080/"
        },
        "id": "kQ7aH-fRuPZN",
        "outputId": "179e6817-2d3d-4ef5-96e3-66b04776b2a4"
      },
      "outputs": [
        {
          "data": {
            "text/plain": [
              "pandas.core.series.Series"
            ]
          },
          "execution_count": 36,
          "metadata": {},
          "output_type": "execute_result"
        }
      ],
      "source": [
        "type(ser)"
      ]
    },
    {
      "cell_type": "code",
      "execution_count": null,
      "metadata": {
        "colab": {
          "base_uri": "https://localhost:8080/"
        },
        "id": "zE8qiun2uPZN",
        "outputId": "afee59bf-2d8a-43bc-f1ec-197d3ddfb4b0"
      },
      "outputs": [
        {
          "data": {
            "text/plain": [
              "dtype('int32')"
            ]
          },
          "execution_count": 37,
          "metadata": {},
          "output_type": "execute_result"
        }
      ],
      "source": [
        "ser.dtype"
      ]
    },
    {
      "cell_type": "code",
      "execution_count": null,
      "metadata": {
        "id": "edipdQn_93Y6",
        "outputId": "19dbfe70-316c-41e7-ae90-066b6ded22b5"
      },
      "outputs": [
        {
          "data": {
            "text/plain": [
              "(7,)"
            ]
          },
          "execution_count": 38,
          "metadata": {},
          "output_type": "execute_result"
        }
      ],
      "source": [
        "ser.shape"
      ]
    },
    {
      "cell_type": "code",
      "execution_count": null,
      "metadata": {
        "colab": {
          "base_uri": "https://localhost:8080/"
        },
        "id": "5RMJSNl0uPZO",
        "outputId": "7a8f3ea4-075b-4bad-d6ef-6f599ac55933"
      },
      "outputs": [
        {
          "data": {
            "text/plain": [
              "7"
            ]
          },
          "execution_count": 39,
          "metadata": {},
          "output_type": "execute_result"
        }
      ],
      "source": [
        "ser.size"
      ]
    },
    {
      "cell_type": "code",
      "execution_count": null,
      "metadata": {
        "id": "WiDwQuJB93Y7",
        "outputId": "60249d13-94bf-4843-8a70-a81352ebf765"
      },
      "outputs": [
        {
          "data": {
            "text/plain": [
              "7"
            ]
          },
          "execution_count": 40,
          "metadata": {},
          "output_type": "execute_result"
        }
      ],
      "source": [
        "len(ser)"
      ]
    },
    {
      "cell_type": "code",
      "execution_count": null,
      "metadata": {
        "colab": {
          "base_uri": "https://localhost:8080/"
        },
        "id": "vGNZHvNBuPZO",
        "outputId": "8e51dcdc-a74f-4129-9d72-cb01f86eb250"
      },
      "outputs": [
        {
          "data": {
            "text/plain": [
              "1"
            ]
          },
          "execution_count": 41,
          "metadata": {},
          "output_type": "execute_result"
        }
      ],
      "source": [
        "ser.ndim"
      ]
    },
    {
      "cell_type": "code",
      "execution_count": null,
      "metadata": {
        "id": "7tlvjHwh93Y7",
        "outputId": "519b5e81-a454-4b41-cc05-4d35ffb4b49e"
      },
      "outputs": [
        {
          "data": {
            "text/plain": [
              "0    78\n",
              "1    65\n",
              "2    55\n",
              "3    30\n",
              "4    44\n",
              "5    45\n",
              "6    98\n",
              "dtype: int32"
            ]
          },
          "execution_count": 42,
          "metadata": {},
          "output_type": "execute_result"
        }
      ],
      "source": [
        "ser"
      ]
    },
    {
      "cell_type": "code",
      "execution_count": null,
      "metadata": {
        "id": "m6C462qc93Y7",
        "outputId": "0434ae49-23fa-474b-ef24-12cee74728fb"
      },
      "outputs": [
        {
          "data": {
            "text/plain": [
              "RangeIndex(start=0, stop=7, step=1)"
            ]
          },
          "execution_count": 43,
          "metadata": {},
          "output_type": "execute_result"
        }
      ],
      "source": [
        "ser.index"
      ]
    },
    {
      "cell_type": "code",
      "execution_count": null,
      "metadata": {
        "id": "ewObUJISlL5g",
        "outputId": "cf22c069-04c4-4841-fdbb-2073c4bb9dff"
      },
      "outputs": [
        {
          "data": {
            "text/plain": [
              "RangeIndex(start=0, stop=7, step=1)"
            ]
          },
          "execution_count": 45,
          "metadata": {},
          "output_type": "execute_result"
        }
      ],
      "source": [
        "ser.keys()"
      ]
    },
    {
      "cell_type": "code",
      "execution_count": null,
      "metadata": {
        "id": "VqKx_NPulL5g",
        "outputId": "7eab4994-0037-4985-b751-f9e0dea4095e"
      },
      "outputs": [
        {
          "data": {
            "text/plain": [
              "[0, 1, 2, 3, 4, 5, 6]"
            ]
          },
          "execution_count": 46,
          "metadata": {},
          "output_type": "execute_result"
        }
      ],
      "source": [
        "list(ser.index) # we can also use \"keys()\" instead of \"index\""
      ]
    },
    {
      "cell_type": "code",
      "execution_count": null,
      "metadata": {
        "id": "WXoDXB7FlL5h",
        "outputId": "f0694463-71fe-4b67-8cc9-9cba0d1db6d4"
      },
      "outputs": [
        {
          "name": "stdout",
          "output_type": "stream",
          "text": [
            "0\n",
            "1\n",
            "2\n",
            "3\n",
            "4\n",
            "5\n",
            "6\n"
          ]
        }
      ],
      "source": [
        "for i in ser.index: # we can also use \"keys()\" instead of \"index\"\n",
        "    print(i)"
      ]
    },
    {
      "cell_type": "code",
      "execution_count": null,
      "metadata": {
        "colab": {
          "base_uri": "https://localhost:8080/"
        },
        "id": "0Ai6IgSH9kPJ",
        "outputId": "6f94fdc6-b25e-4e5b-84fc-998ff0becb67"
      },
      "outputs": [
        {
          "data": {
            "text/plain": [
              "array([55, 87, 85, 18, 45, 40, 12])"
            ]
          },
          "execution_count": 39,
          "metadata": {},
          "output_type": "execute_result"
        }
      ],
      "source": [
        "ser.values"
      ]
    },
    {
      "cell_type": "code",
      "execution_count": null,
      "metadata": {
        "colab": {
          "base_uri": "https://localhost:8080/"
        },
        "id": "vIColgkR9kPJ",
        "outputId": "2e8648e8-3e58-4d2d-e4d9-02d7eb6bdf56"
      },
      "outputs": [
        {
          "data": {
            "text/plain": [
              "[55, 87, 85, 18, 45, 40, 12]"
            ]
          },
          "execution_count": 40,
          "metadata": {},
          "output_type": "execute_result"
        }
      ],
      "source": [
        "[i for i in ser.values]"
      ]
    },
    {
      "cell_type": "code",
      "execution_count": null,
      "metadata": {
        "colab": {
          "base_uri": "https://localhost:8080/"
        },
        "id": "ZsRJWpnm9kPJ",
        "outputId": "b65f2cdd-dc04-40f4-bc4d-1c71b9e868b3"
      },
      "outputs": [
        {
          "name": "stdout",
          "output_type": "stream",
          "text": [
            "55\n",
            "87\n",
            "85\n",
            "18\n",
            "45\n",
            "40\n",
            "12\n"
          ]
        }
      ],
      "source": [
        "for i in ser.values:\n",
        "    print(i)"
      ]
    },
    {
      "cell_type": "code",
      "execution_count": null,
      "metadata": {
        "id": "uBGiXTo393Y9",
        "outputId": "d6c0fbf1-f9ed-4d54-94d0-60e59f300bc8",
        "scrolled": true
      },
      "outputs": [
        {
          "data": {
            "text/plain": [
              "<bound method Series.items of 0    55\n",
              "1    87\n",
              "2    85\n",
              "3    18\n",
              "4    45\n",
              "5    40\n",
              "6    12\n",
              "dtype: int32>"
            ]
          },
          "execution_count": 42,
          "metadata": {},
          "output_type": "execute_result"
        }
      ],
      "source": [
        "ser.items"
      ]
    },
    {
      "cell_type": "code",
      "execution_count": null,
      "metadata": {
        "id": "GBkzvFy-lL5k",
        "outputId": "ed8b08be-86ad-40e6-975c-b71fad2abdc9"
      },
      "outputs": [
        {
          "data": {
            "text/plain": [
              "<zip at 0x223446e9888>"
            ]
          },
          "execution_count": 43,
          "metadata": {},
          "output_type": "execute_result"
        }
      ],
      "source": [
        "ser.items()"
      ]
    },
    {
      "cell_type": "code",
      "execution_count": null,
      "metadata": {
        "id": "7TJ_O9yO93ZF",
        "outputId": "02d23113-12bc-46d5-c893-5bf6695199bf"
      },
      "outputs": [
        {
          "data": {
            "text/plain": [
              "[(0, 55), (1, 87), (2, 85), (3, 18), (4, 45), (5, 40), (6, 12)]"
            ]
          },
          "execution_count": 44,
          "metadata": {},
          "output_type": "execute_result"
        }
      ],
      "source": [
        "list(ser.items())"
      ]
    },
    {
      "cell_type": "code",
      "execution_count": null,
      "metadata": {
        "id": "1Lk3quVE93ZG",
        "outputId": "2dbc6f34-3d09-48df-9a87-238fa8f04a22"
      },
      "outputs": [
        {
          "name": "stdout",
          "output_type": "stream",
          "text": [
            "Index : 0, Value : 55\n",
            "Index : 1, Value : 87\n",
            "Index : 2, Value : 85\n",
            "Index : 3, Value : 18\n",
            "Index : 4, Value : 45\n",
            "Index : 5, Value : 40\n",
            "Index : 6, Value : 12\n"
          ]
        }
      ],
      "source": [
        "for index, value in ser.items():\n",
        "    print(f\"Index : {index}, Value : {value}\")"
      ]
    },
    {
      "cell_type": "code",
      "execution_count": null,
      "metadata": {
        "id": "ruFnc9jb9kPK"
      },
      "outputs": [],
      "source": [
        "ser = pd.Series(data = np.random.randint(0, 25, 10), index = [i for i in \"cbaefdgihj\"])"
      ]
    },
    {
      "cell_type": "code",
      "execution_count": null,
      "metadata": {
        "colab": {
          "base_uri": "https://localhost:8080/"
        },
        "id": "_nMHdILx9kPK",
        "outputId": "e7234154-a082-4dbf-e525-a9bf1d912364"
      },
      "outputs": [
        {
          "data": {
            "text/plain": [
              "c     9\n",
              "b    21\n",
              "a    16\n",
              "e    16\n",
              "f    14\n",
              "d     1\n",
              "g    24\n",
              "i    14\n",
              "h    20\n",
              "j     6\n",
              "dtype: int32"
            ]
          },
          "execution_count": 47,
          "metadata": {},
          "output_type": "execute_result"
        }
      ],
      "source": [
        "ser"
      ]
    },
    {
      "cell_type": "code",
      "execution_count": null,
      "metadata": {
        "colab": {
          "base_uri": "https://localhost:8080/"
        },
        "id": "PSWBb1jJ9kPL",
        "outputId": "a5b13b30-55b2-4c13-c14d-e741ae7ee697"
      },
      "outputs": [
        {
          "data": {
            "text/plain": [
              "c     9\n",
              "b    21\n",
              "a    16\n",
              "dtype: int32"
            ]
          },
          "execution_count": 48,
          "metadata": {},
          "output_type": "execute_result"
        }
      ],
      "source": [
        "ser.head(3)"
      ]
    },
    {
      "cell_type": "code",
      "execution_count": null,
      "metadata": {
        "colab": {
          "base_uri": "https://localhost:8080/"
        },
        "id": "tuheIJWg9kPL",
        "outputId": "44ed0aa3-acab-485e-ddf0-f8f495ad3f75"
      },
      "outputs": [
        {
          "data": {
            "text/plain": [
              "h    20\n",
              "j     6\n",
              "dtype: int32"
            ]
          },
          "execution_count": 49,
          "metadata": {},
          "output_type": "execute_result"
        }
      ],
      "source": [
        "ser.tail(2)"
      ]
    },
    {
      "cell_type": "code",
      "execution_count": null,
      "metadata": {
        "id": "vMVnXHJK93ZI",
        "outputId": "797816df-d31a-489a-e60c-dfb668dae005"
      },
      "outputs": [
        {
          "data": {
            "text/plain": [
              "g    24\n",
              "i    14\n",
              "dtype: int32"
            ]
          },
          "execution_count": 50,
          "metadata": {},
          "output_type": "execute_result"
        }
      ],
      "source": [
        "ser.sample(2)"
      ]
    },
    {
      "cell_type": "code",
      "execution_count": null,
      "metadata": {
        "id": "a2H_48m593ZI",
        "outputId": "4ec25c98-6699-4e1b-caab-1211f5469f90"
      },
      "outputs": [
        {
          "data": {
            "text/plain": [
              "a    16\n",
              "b    21\n",
              "c     9\n",
              "d     1\n",
              "e    16\n",
              "f    14\n",
              "g    24\n",
              "h    20\n",
              "i    14\n",
              "j     6\n",
              "dtype: int32"
            ]
          },
          "execution_count": 51,
          "metadata": {},
          "output_type": "execute_result"
        }
      ],
      "source": [
        "ser.sort_index(ascending=True)"
      ]
    },
    {
      "cell_type": "code",
      "execution_count": null,
      "metadata": {
        "id": "kBUMrfPj93ZJ",
        "outputId": "f188af2c-666b-4878-81dd-a85913c54f30"
      },
      "outputs": [
        {
          "data": {
            "text/plain": [
              "g    24\n",
              "b    21\n",
              "h    20\n",
              "a    16\n",
              "e    16\n",
              "f    14\n",
              "i    14\n",
              "c     9\n",
              "j     6\n",
              "d     1\n",
              "dtype: int32"
            ]
          },
          "execution_count": 52,
          "metadata": {},
          "output_type": "execute_result"
        }
      ],
      "source": [
        "ser.sort_values(ascending=False)"
      ]
    },
    {
      "cell_type": "code",
      "execution_count": null,
      "metadata": {
        "id": "SolrDB1d93ZJ",
        "outputId": "612198d2-986c-4df9-cf13-c602944f05dc"
      },
      "outputs": [
        {
          "data": {
            "text/plain": [
              "c     9\n",
              "b    21\n",
              "a    16\n",
              "e    16\n",
              "f    14\n",
              "d     1\n",
              "g    24\n",
              "i    14\n",
              "h    20\n",
              "j     6\n",
              "dtype: int32"
            ]
          },
          "execution_count": 53,
          "metadata": {},
          "output_type": "execute_result"
        }
      ],
      "source": [
        "ser"
      ]
    },
    {
      "cell_type": "code",
      "execution_count": null,
      "metadata": {
        "id": "shKrWBfM93ZJ",
        "outputId": "271aeaca-1473-4b56-e29e-0b850deee3c5"
      },
      "outputs": [
        {
          "data": {
            "text/plain": [
              "c     True\n",
              "b    False\n",
              "a    False\n",
              "e    False\n",
              "f    False\n",
              "d    False\n",
              "g    False\n",
              "i    False\n",
              "h    False\n",
              "j    False\n",
              "dtype: bool"
            ]
          },
          "execution_count": 54,
          "metadata": {},
          "output_type": "execute_result"
        }
      ],
      "source": [
        "ser.isin([5, 9])"
      ]
    },
    {
      "cell_type": "markdown",
      "metadata": {
        "id": "LLA4QNehuPZb"
      },
      "source": [
        "## <p style=\"background-color:#9d4f8c; font-family:newtimeroman; color:#FFF9ED; font-size:150%; text-align:center; border-radius:10px 10px;\">Indexing and Slicing with Pandas Series</p>\n",
        "\n",
        "<a id=\"4\"></a>\n",
        "<a href=\"#toc\" class=\"btn btn-primary btn-sm\" role=\"button\" aria-pressed=\"true\" \n",
        "style=\"color:blue; background-color:#dfa8e4\" data-toggle=\"popover\">Content</a>\n",
        "\n",
        "As stated and implemented by examples above, a Series is very similar to a NumPy array. What differentiates the NumPy array from a Series is that **a Series can have axis labels**, meaning it can be indexed by a label, instead of just a number location. It also doesn’t need to hold numeric data, it can hold any arbitrary Python Object [Source](https://rpubs.com/pjozefek/659184).\n",
        "\n",
        "The key to using a Series is understanding its index. Pandas makes use of these index names or numbers by allowing for fast look up of information.\n",
        "\n",
        "The axis labeling information in pandas objects serves many purposes:\n",
        "\n",
        "- Identifies data (i.e. provides metadata) using known indicators, important for analysis, visualization, and interactive console display.\n",
        "- Enables automatic and explicit data alignment.\n",
        "- Allows intuitive getting and setting of subsets of the data set.\n",
        "\n",
        "In this section, we will focus on the final point: namely, how to slice, dice, and generally get and set subsets of pandas objects. The primary focus will be on Series and DataFrame as they have received more development attention in this area. For more information, please visit [pandas-docs.github.io](https://pandas-docs.github.io/pandas-docs-travis/user_guide/indexing.html)\n",
        "\n",
        "Let's see some examples of how to grab information from a Series. Let us create two sereis, ser1 and ser2:"
      ]
    },
    {
      "cell_type": "code",
      "execution_count": null,
      "metadata": {
        "id": "S5WOmI-OuPZb"
      },
      "outputs": [],
      "source": [
        "ser1 = pd.Series([1, 2, 3, 4], index = ['USA', 'Germany','RF', 'Japan'])\n",
        "ser2 = pd.Series([1, 2, 5, 4, 6], index = ['USA', 'Germany','Italy', 'Japan', 'Spain'])"
      ]
    },
    {
      "cell_type": "markdown",
      "metadata": {
        "id": "OXTHS5BmlL5u"
      },
      "source": [
        "The two main data structures in pandas both have at least one axis. A **Series** has **one axis**, the index. A **DataFrame** has **two axes**, the index and the columns. It’s useful to note here that in all the DataFrame functions that can be applied to either rows or columns, an axis of 0 refers to the index, an axis of 1 refers to the columns."
      ]
    },
    {
      "cell_type": "code",
      "execution_count": null,
      "metadata": {
        "colab": {
          "base_uri": "https://localhost:8080/"
        },
        "id": "1l7jha5E9kPP",
        "outputId": "2f4844e5-7480-429d-cbbe-7ea276b2dd26"
      },
      "outputs": [
        {
          "data": {
            "text/plain": [
              "USA        1\n",
              "Germany    2\n",
              "RF         3\n",
              "Japan      4\n",
              "dtype: int64"
            ]
          },
          "execution_count": 56,
          "metadata": {},
          "output_type": "execute_result"
        }
      ],
      "source": [
        "ser1"
      ]
    },
    {
      "cell_type": "code",
      "execution_count": null,
      "metadata": {
        "id": "nD-rKSj-lL5w",
        "outputId": "c48a6503-bd9e-4eb7-ad44-1796bafbba7f"
      },
      "outputs": [
        {
          "data": {
            "text/plain": [
              "USA        1\n",
              "Germany    2\n",
              "Italy      5\n",
              "Japan      4\n",
              "Spain      6\n",
              "dtype: int64"
            ]
          },
          "execution_count": 57,
          "metadata": {},
          "output_type": "execute_result"
        }
      ],
      "source": [
        "ser2"
      ]
    },
    {
      "cell_type": "code",
      "execution_count": null,
      "metadata": {
        "colab": {
          "base_uri": "https://localhost:8080/"
        },
        "id": "VHrzUsxX9kPP",
        "outputId": "56abdbe8-27fd-4552-9dd0-88f62ade4439"
      },
      "outputs": [
        {
          "data": {
            "text/plain": [
              "Germany    2\n",
              "Japan      4\n",
              "RF         3\n",
              "USA        1\n",
              "dtype: int64"
            ]
          },
          "execution_count": 58,
          "metadata": {},
          "output_type": "execute_result"
        }
      ],
      "source": [
        "ser1.sort_index()"
      ]
    },
    {
      "cell_type": "code",
      "execution_count": null,
      "metadata": {
        "colab": {
          "base_uri": "https://localhost:8080/"
        },
        "id": "-a4ZenL69kPP",
        "outputId": "6c695529-db10-4b42-f87c-76a2bf3de6f1"
      },
      "outputs": [
        {
          "data": {
            "text/plain": [
              "USA        1\n",
              "Germany    2\n",
              "Japan      4\n",
              "Italy      5\n",
              "Spain      6\n",
              "dtype: int64"
            ]
          },
          "execution_count": 59,
          "metadata": {},
          "output_type": "execute_result"
        }
      ],
      "source": [
        "ser2.sort_values()"
      ]
    },
    {
      "cell_type": "markdown",
      "metadata": {
        "id": "4BIHHd1ilL5y"
      },
      "source": [
        "**We're going to start with the basic form of selecting, using the [ ] operator.**\n",
        "\n",
        "If we don’t introduce labels into our Series the index by default will be the natural numbers starting from 0. So the index will be the number of data introduced - 1."
      ]
    },
    {
      "cell_type": "code",
      "execution_count": null,
      "metadata": {
        "id": "6anEMO7PlL5y",
        "outputId": "6170b6da-e3b3-4ef1-f68c-9cf968ea89ee"
      },
      "outputs": [
        {
          "data": {
            "text/plain": [
              "USA        1\n",
              "Germany    2\n",
              "RF         3\n",
              "Japan      4\n",
              "dtype: int64"
            ]
          },
          "execution_count": 60,
          "metadata": {},
          "output_type": "execute_result"
        }
      ],
      "source": [
        "ser1"
      ]
    },
    {
      "cell_type": "code",
      "execution_count": null,
      "metadata": {
        "id": "NqxWoxUtlL5z",
        "outputId": "091911a2-c3f6-48e7-9716-36ac9e708fa4"
      },
      "outputs": [
        {
          "data": {
            "text/plain": [
              "4"
            ]
          },
          "execution_count": 61,
          "metadata": {},
          "output_type": "execute_result"
        }
      ],
      "source": [
        "ser1[3]"
      ]
    },
    {
      "cell_type": "code",
      "execution_count": null,
      "metadata": {
        "id": "LENjM8k8lL5z",
        "outputId": "22dc0728-aced-4f59-b3c6-226d4bc743f3"
      },
      "outputs": [
        {
          "data": {
            "text/plain": [
              "'Japan'"
            ]
          },
          "execution_count": 62,
          "metadata": {},
          "output_type": "execute_result"
        }
      ],
      "source": [
        "ser1.index[3]"
      ]
    },
    {
      "cell_type": "code",
      "execution_count": null,
      "metadata": {
        "id": "BxCkMRaklL50",
        "outputId": "50f1430d-4ffd-4d33-910c-fa9e8623ddd2"
      },
      "outputs": [
        {
          "data": {
            "text/plain": [
              "3"
            ]
          },
          "execution_count": 63,
          "metadata": {},
          "output_type": "execute_result"
        }
      ],
      "source": [
        "# pandas.index.get_loc\n",
        "# index.get_loc(key, method=None, tolerance=None)[source]\n",
        "# Get integer location, slice or boolean mask for requested label.\n",
        "\n",
        "ser1.index.get_loc('Japan') "
      ]
    },
    {
      "cell_type": "markdown",
      "metadata": {
        "id": "XEHoq2UalL50"
      },
      "source": [
        "Here we can see how 'calling' a label works."
      ]
    },
    {
      "cell_type": "code",
      "execution_count": null,
      "metadata": {
        "colab": {
          "base_uri": "https://localhost:8080/"
        },
        "id": "J1YUlUc_9kPP",
        "outputId": "47009a76-77e6-4145-e502-9265fa9faa3f"
      },
      "outputs": [
        {
          "data": {
            "text/plain": [
              "4"
            ]
          },
          "execution_count": 64,
          "metadata": {},
          "output_type": "execute_result"
        }
      ],
      "source": [
        "ser1['Japan']"
      ]
    },
    {
      "cell_type": "code",
      "execution_count": null,
      "metadata": {
        "id": "B8dR_PQ493ZM",
        "outputId": "df38d38b-91b9-4810-a5cb-135bf8e0108c"
      },
      "outputs": [
        {
          "data": {
            "text/plain": [
              "4"
            ]
          },
          "execution_count": 65,
          "metadata": {},
          "output_type": "execute_result"
        }
      ],
      "source": [
        "ser1.Japan"
      ]
    },
    {
      "cell_type": "code",
      "execution_count": null,
      "metadata": {
        "colab": {
          "base_uri": "https://localhost:8080/"
        },
        "id": "TA4UqJ5Y9kPP",
        "outputId": "b118fdb2-8e3d-4e6d-bf12-d543f79732e3"
      },
      "outputs": [
        {
          "name": "stdout",
          "output_type": "stream",
          "text": [
            "The value for 'Japan': 4\n"
          ]
        }
      ],
      "source": [
        "print(\"The value for 'Japan':\", ser1['Japan'])"
      ]
    },
    {
      "cell_type": "code",
      "execution_count": null,
      "metadata": {
        "id": "WuRcOWNrlL52",
        "outputId": "e7dc78e8-ee61-4ef9-c6e2-1593b6221540"
      },
      "outputs": [
        {
          "name": "stdout",
          "output_type": "stream",
          "text": [
            "The value for the 3rd index: 4\n"
          ]
        }
      ],
      "source": [
        "print(\"The value for the 3rd index:\", ser1[3])"
      ]
    },
    {
      "cell_type": "code",
      "execution_count": null,
      "metadata": {
        "id": "VWquF1_OlL52"
      },
      "outputs": [],
      "source": [
        "# ser1[4]  # IndexError: index 4 is out of bounds for axis 0 with size 4"
      ]
    },
    {
      "cell_type": "code",
      "execution_count": null,
      "metadata": {
        "id": "lJXQhUYLlL53",
        "outputId": "2523c912-3721-4abc-ff0d-1aaf19ea551d"
      },
      "outputs": [
        {
          "name": "stdout",
          "output_type": "stream",
          "text": [
            "Nope, the index you selected is out of bounds. That's not how you select rows (index) in a Series.\n"
          ]
        }
      ],
      "source": [
        "try:\n",
        "    print(\"The value of the fourth element in the Series:\", ser1[4])\n",
        "except IndexError as error:\n",
        "    print(\"Nope, the index you selected is out of bounds. That's not how you select rows (index) in a Series.\")"
      ]
    },
    {
      "cell_type": "markdown",
      "metadata": {
        "id": "9uO2MBM7lL53"
      },
      "source": [
        "As seen above, with a Series, the call will return a single scalar value that matches the value at that label in the index. If you pass in a value for a label that doesn't exist, you will get a KeyError raised. Also, if you pass in an integer and your index has that value, it will return it. But if you don't have an integer value in your index, it will return the value by position. This is convenient, but can be confusing."
      ]
    },
    {
      "cell_type": "markdown",
      "metadata": {
        "id": "Xw-vPtrKlL54"
      },
      "source": [
        "**Let's see some slicing example with Series**"
      ]
    },
    {
      "cell_type": "code",
      "execution_count": null,
      "metadata": {
        "id": "GtzV7D9clL54",
        "outputId": "f2913a9a-12b7-45b0-9e7a-4bf623f03dff"
      },
      "outputs": [
        {
          "data": {
            "text/plain": [
              "USA        1\n",
              "Germany    2\n",
              "Italy      5\n",
              "Japan      4\n",
              "Spain      6\n",
              "dtype: int64"
            ]
          },
          "execution_count": 70,
          "metadata": {},
          "output_type": "execute_result"
        }
      ],
      "source": [
        "ser2"
      ]
    },
    {
      "cell_type": "code",
      "execution_count": null,
      "metadata": {
        "colab": {
          "base_uri": "https://localhost:8080/",
          "height": 35
        },
        "id": "Bv_9LH7r9kPQ",
        "outputId": "88307206-77aa-4e3e-96d9-d4490ab9f891"
      },
      "outputs": [
        {
          "data": {
            "text/plain": [
              "1"
            ]
          },
          "execution_count": 71,
          "metadata": {},
          "output_type": "execute_result"
        }
      ],
      "source": [
        "ser2[0]"
      ]
    },
    {
      "cell_type": "code",
      "execution_count": null,
      "metadata": {
        "colab": {
          "base_uri": "https://localhost:8080/"
        },
        "id": "xrytly2yuPZf",
        "outputId": "520d6194-3a5b-4a06-9429-51597a7141ac"
      },
      "outputs": [
        {
          "data": {
            "text/plain": [
              "Italy    5\n",
              "Japan    4\n",
              "Spain    6\n",
              "dtype: int64"
            ]
          },
          "execution_count": 72,
          "metadata": {},
          "output_type": "execute_result"
        }
      ],
      "source": [
        "ser2[2:]"
      ]
    },
    {
      "cell_type": "code",
      "execution_count": null,
      "metadata": {
        "id": "pFaVX9UG93ZQ",
        "outputId": "4b708c02-003e-41eb-85f4-48b27c9f1cd0"
      },
      "outputs": [
        {
          "data": {
            "text/plain": [
              "Spain      6\n",
              "Japan      4\n",
              "Italy      5\n",
              "Germany    2\n",
              "USA        1\n",
              "dtype: int64"
            ]
          },
          "execution_count": 73,
          "metadata": {},
          "output_type": "execute_result"
        }
      ],
      "source": [
        "ser2[::-1]"
      ]
    },
    {
      "cell_type": "markdown",
      "metadata": {
        "id": "FuAlZSDAuPZd"
      },
      "source": [
        "**Another huge pro of using labelled indexes is that you can perform operations between two different series and pandas know what labels have both series in common and does the addition automatically.**\n",
        "\n",
        "Operations are then also done based on index:"
      ]
    },
    {
      "cell_type": "code",
      "execution_count": null,
      "metadata": {
        "colab": {
          "base_uri": "https://localhost:8080/"
        },
        "id": "5XacyJBK9kPQ",
        "outputId": "0eb913f5-ac96-49c9-e09d-c000d834436c"
      },
      "outputs": [
        {
          "data": {
            "text/plain": [
              "Germany    4.0\n",
              "Italy      NaN\n",
              "Japan      8.0\n",
              "RF         NaN\n",
              "Spain      NaN\n",
              "USA        2.0\n",
              "dtype: float64"
            ]
          },
          "execution_count": 74,
          "metadata": {},
          "output_type": "execute_result"
        }
      ],
      "source": [
        "ser1 + ser2"
      ]
    },
    {
      "cell_type": "code",
      "execution_count": null,
      "metadata": {
        "scrolled": true,
        "id": "iMEdj3zzlL57",
        "outputId": "f991e976-582c-4cfe-881c-8157a77e7568"
      },
      "outputs": [
        {
          "data": {
            "text/plain": [
              "Germany     4.0\n",
              "Italy       NaN\n",
              "Japan      16.0\n",
              "RF          NaN\n",
              "Spain       NaN\n",
              "USA         1.0\n",
              "dtype: float64"
            ]
          },
          "execution_count": 75,
          "metadata": {},
          "output_type": "execute_result"
        }
      ],
      "source": [
        "ser1 * ser2"
      ]
    },
    {
      "cell_type": "markdown",
      "metadata": {
        "id": "azQYXR4wlL57"
      },
      "source": [
        "**Let's make changes on indexes:**"
      ]
    },
    {
      "cell_type": "code",
      "execution_count": null,
      "metadata": {
        "colab": {
          "base_uri": "https://localhost:8080/"
        },
        "id": "SzUGaG2YuPZg",
        "outputId": "227793d2-d2d8-4275-d375-fd002cce4f05"
      },
      "outputs": [
        {
          "data": {
            "text/plain": [
              "terry      121\n",
              "micheal    200\n",
              "orion      150\n",
              "jason       99\n",
              "dtype: int64"
            ]
          },
          "execution_count": 76,
          "metadata": {},
          "output_type": "execute_result"
        }
      ],
      "source": [
        "ser = pd.Series(data = [121, 200, 150, 99], index = [\"terry\", \"micheal\", \"orion\", \"jason\"])\n",
        "ser"
      ]
    },
    {
      "cell_type": "code",
      "execution_count": null,
      "metadata": {
        "id": "Ts-QtqA7lL58",
        "outputId": "8a3e43d8-6dca-4d02-9acc-f4b1e5dd1cfb"
      },
      "outputs": [
        {
          "data": {
            "text/plain": [
              "Index(['terry', 'micheal', 'orion', 'jason'], dtype='object')"
            ]
          },
          "execution_count": 77,
          "metadata": {},
          "output_type": "execute_result"
        }
      ],
      "source": [
        "ser.index"
      ]
    },
    {
      "cell_type": "code",
      "execution_count": null,
      "metadata": {
        "colab": {
          "base_uri": "https://localhost:8080/"
        },
        "id": "-Cw2RyopuPZg",
        "outputId": "636d9e26-ad9c-434e-f1e7-900c0c2958e8"
      },
      "outputs": [
        {
          "data": {
            "text/plain": [
              "121"
            ]
          },
          "execution_count": 78,
          "metadata": {},
          "output_type": "execute_result"
        }
      ],
      "source": [
        "ser['terry']"
      ]
    },
    {
      "cell_type": "code",
      "execution_count": null,
      "metadata": {
        "colab": {
          "base_uri": "https://localhost:8080/"
        },
        "id": "Zh2miOopuPZg",
        "outputId": "62b8612e-4bb7-4fa3-9a01-778a128585b4"
      },
      "outputs": [
        {
          "data": {
            "text/plain": [
              "121"
            ]
          },
          "execution_count": 79,
          "metadata": {},
          "output_type": "execute_result"
        }
      ],
      "source": [
        "ser[0]"
      ]
    },
    {
      "cell_type": "code",
      "execution_count": null,
      "metadata": {
        "id": "ht0QiyNolL59",
        "outputId": "afdd2809-55bf-4db3-b11e-5f6ef494e635"
      },
      "outputs": [
        {
          "data": {
            "text/plain": [
              "terry    121\n",
              "orion    150\n",
              "dtype: int64"
            ]
          },
          "execution_count": 80,
          "metadata": {},
          "output_type": "execute_result"
        }
      ],
      "source": [
        "ser[[0,2]]"
      ]
    },
    {
      "cell_type": "code",
      "execution_count": null,
      "metadata": {
        "colab": {
          "base_uri": "https://localhost:8080/"
        },
        "id": "wCbdbGNouPZg",
        "outputId": "827f15c4-b125-4efb-f017-858030dd9ac6"
      },
      "outputs": [
        {
          "data": {
            "text/plain": [
              "terry    121\n",
              "orion    150\n",
              "dtype: int64"
            ]
          },
          "execution_count": 81,
          "metadata": {},
          "output_type": "execute_result"
        }
      ],
      "source": [
        "ser[[\"terry\", \"orion\"]]"
      ]
    },
    {
      "cell_type": "code",
      "execution_count": null,
      "metadata": {
        "colab": {
          "base_uri": "https://localhost:8080/"
        },
        "id": "9Y3jUO8M9kPS",
        "outputId": "7178da0b-ab32-49f9-dd5a-cff6d69c57bc"
      },
      "outputs": [
        {
          "data": {
            "text/plain": [
              "terry      121\n",
              "micheal    200\n",
              "orion      150\n",
              "dtype: int64"
            ]
          },
          "execution_count": 82,
          "metadata": {},
          "output_type": "execute_result"
        }
      ],
      "source": [
        "ser[0:3]"
      ]
    },
    {
      "cell_type": "code",
      "execution_count": null,
      "metadata": {
        "colab": {
          "base_uri": "https://localhost:8080/"
        },
        "id": "TaoY0bgw9kPR",
        "outputId": "0d2d8980-2fd8-42f3-ce8b-b08d8dc3670e"
      },
      "outputs": [
        {
          "data": {
            "text/plain": [
              "terry      121\n",
              "micheal    200\n",
              "orion      150\n",
              "dtype: int64"
            ]
          },
          "execution_count": 83,
          "metadata": {},
          "output_type": "execute_result"
        }
      ],
      "source": [
        "ser['terry':'orion']"
      ]
    },
    {
      "cell_type": "markdown",
      "metadata": {
        "id": "nHVZt_KslL6A"
      },
      "source": [
        "## <p style=\"background-color:#9d4f8c; font-family:newtimeroman; color:#FFF9ED; font-size:150%; text-align:center; border-radius:10px 10px;\">Selection with Condition and Broadcasting</p>\n",
        "\n",
        "<a id=\"5\"></a>\n",
        "<a href=\"#toc\" class=\"btn btn-primary btn-sm\" role=\"button\" aria-pressed=\"true\" \n",
        "style=\"color:blue; background-color:#dfa8e4\" data-toggle=\"popover\">Content</a>"
      ]
    },
    {
      "cell_type": "code",
      "execution_count": null,
      "metadata": {
        "colab": {
          "base_uri": "https://localhost:8080/"
        },
        "id": "vBxqIQ-09kPV",
        "outputId": "1ad7db08-1069-42c3-e50a-41857306f308",
        "scrolled": true
      },
      "outputs": [
        {
          "data": {
            "text/plain": [
              "terry      121\n",
              "micheal    200\n",
              "orion      150\n",
              "jason       99\n",
              "dtype: int64"
            ]
          },
          "execution_count": 84,
          "metadata": {},
          "output_type": "execute_result"
        }
      ],
      "source": [
        "ser"
      ]
    },
    {
      "cell_type": "code",
      "execution_count": null,
      "metadata": {
        "colab": {
          "base_uri": "https://localhost:8080/"
        },
        "id": "usbYLx3j9kPU",
        "outputId": "7c5bd16f-13d8-4a5f-f03a-7c978d52cb1d"
      },
      "outputs": [
        {
          "data": {
            "text/plain": [
              "True"
            ]
          },
          "execution_count": 85,
          "metadata": {},
          "output_type": "execute_result"
        }
      ],
      "source": [
        "'terry' in ser"
      ]
    },
    {
      "cell_type": "code",
      "execution_count": null,
      "metadata": {
        "colab": {
          "base_uri": "https://localhost:8080/"
        },
        "id": "EU9JyMT09kPU",
        "outputId": "48234278-79f3-4811-e615-3c73b2cf25bd"
      },
      "outputs": [
        {
          "data": {
            "text/plain": [
              "False"
            ]
          },
          "execution_count": 86,
          "metadata": {},
          "output_type": "execute_result"
        }
      ],
      "source": [
        "'bob' in ser"
      ]
    },
    {
      "cell_type": "code",
      "execution_count": null,
      "metadata": {
        "colab": {
          "base_uri": "https://localhost:8080/"
        },
        "id": "YiO2_IRV9kPU",
        "outputId": "46a0c523-c651-4390-ded5-8cfdca2f2175"
      },
      "outputs": [
        {
          "data": {
            "text/plain": [
              "True"
            ]
          },
          "execution_count": 87,
          "metadata": {},
          "output_type": "execute_result"
        }
      ],
      "source": [
        "121 in ser.values"
      ]
    },
    {
      "cell_type": "code",
      "execution_count": null,
      "metadata": {
        "colab": {
          "base_uri": "https://localhost:8080/"
        },
        "id": "m5R7hM7o9kPV",
        "outputId": "d33ae475-f6da-4887-bc03-437f1ca9a39f"
      },
      "outputs": [
        {
          "data": {
            "text/plain": [
              "False"
            ]
          },
          "execution_count": 88,
          "metadata": {},
          "output_type": "execute_result"
        }
      ],
      "source": [
        "55 in ser.values"
      ]
    },
    {
      "cell_type": "code",
      "execution_count": null,
      "metadata": {
        "id": "7eUZvA5hlL6I",
        "outputId": "c95a6fee-fc48-434c-a4df-c518b258f506"
      },
      "outputs": [
        {
          "data": {
            "text/plain": [
              "terry      False\n",
              "micheal    False\n",
              "orion      False\n",
              "jason       True\n",
              "dtype: bool"
            ]
          },
          "execution_count": 89,
          "metadata": {},
          "output_type": "execute_result"
        }
      ],
      "source": [
        "ser < 100"
      ]
    },
    {
      "cell_type": "code",
      "execution_count": null,
      "metadata": {
        "colab": {
          "base_uri": "https://localhost:8080/"
        },
        "id": "K-u1nAUK9kPV",
        "outputId": "505c9809-8351-4929-b440-19aebfc16de3"
      },
      "outputs": [
        {
          "data": {
            "text/plain": [
              "terry      121\n",
              "micheal    200\n",
              "orion      150\n",
              "jason      100\n",
              "dtype: int64"
            ]
          },
          "execution_count": 90,
          "metadata": {},
          "output_type": "execute_result"
        }
      ],
      "source": [
        "ser[ser < 100] = 100\n",
        "ser"
      ]
    },
    {
      "cell_type": "code",
      "execution_count": null,
      "metadata": {
        "id": "z0wyTtwtlL6I",
        "outputId": "efc73f27-cb53-4689-e422-4a6d53fd4efc"
      },
      "outputs": [
        {
          "data": {
            "text/plain": [
              "terry       True\n",
              "micheal    False\n",
              "orion      False\n",
              "jason      False\n",
              "dtype: bool"
            ]
          },
          "execution_count": 91,
          "metadata": {},
          "output_type": "execute_result"
        }
      ],
      "source": [
        "ser.isin([121])"
      ]
    },
    {
      "cell_type": "code",
      "execution_count": null,
      "metadata": {
        "id": "nKI8hHSr9kPV",
        "outputId": "cebd101f-2d6f-4dba-9ca2-cc766ac338fa"
      },
      "outputs": [
        {
          "data": {
            "text/plain": [
              "terry      125\n",
              "micheal    200\n",
              "orion      150\n",
              "jason      100\n",
              "dtype: int64"
            ]
          },
          "execution_count": 92,
          "metadata": {},
          "output_type": "execute_result"
        }
      ],
      "source": [
        "ser[ser.isin([121])] = 125\n",
        "ser"
      ]
    },
    {
      "cell_type": "markdown",
      "metadata": {
        "id": "NqFDcwpplL6J"
      },
      "source": [
        "## <p style=\"background-color:#9d4f8c; font-family:newtimeroman; color:#FFF9ED; font-size:150%; text-align:center; border-radius:10px 10px;\">Recap for Several Selecting Attributes</p>\n",
        "\n",
        "<a id=\"6\"></a>\n",
        "<a href=\"#toc\" class=\"btn btn-primary btn-sm\" role=\"button\" aria-pressed=\"true\" \n",
        "style=\"color:blue; background-color:#dfa8e4\" data-toggle=\"popover\">Content</a>"
      ]
    },
    {
      "cell_type": "code",
      "execution_count": null,
      "metadata": {
        "colab": {
          "base_uri": "https://localhost:8080/"
        },
        "id": "e-s7Wty-uPZh",
        "outputId": "4e6cd861-86f6-4e8b-c332-6dc5297599b8"
      },
      "outputs": [
        {
          "data": {
            "text/plain": [
              "Index(['terry', 'micheal', 'orion', 'jason'], dtype='object')"
            ]
          },
          "execution_count": 93,
          "metadata": {},
          "output_type": "execute_result"
        }
      ],
      "source": [
        "ser.keys()"
      ]
    },
    {
      "cell_type": "code",
      "execution_count": null,
      "metadata": {
        "colab": {
          "base_uri": "https://localhost:8080/"
        },
        "id": "sX1BjCZruPZh",
        "outputId": "ac9d1be6-68f1-49ca-ec6a-73631cab1436"
      },
      "outputs": [
        {
          "data": {
            "text/plain": [
              "Index(['terry', 'micheal', 'orion', 'jason'], dtype='object')"
            ]
          },
          "execution_count": 94,
          "metadata": {},
          "output_type": "execute_result"
        }
      ],
      "source": [
        "ser.index"
      ]
    },
    {
      "cell_type": "code",
      "execution_count": null,
      "metadata": {
        "colab": {
          "base_uri": "https://localhost:8080/"
        },
        "id": "pRoQjE4luPZi",
        "outputId": "f6fe35d8-4f2c-4da7-c9a6-fe876170cd23"
      },
      "outputs": [
        {
          "data": {
            "text/plain": [
              "array([125, 200, 150, 100], dtype=int64)"
            ]
          },
          "execution_count": 95,
          "metadata": {},
          "output_type": "execute_result"
        }
      ],
      "source": [
        "ser.values"
      ]
    },
    {
      "cell_type": "code",
      "execution_count": null,
      "metadata": {
        "id": "kjoWoy0glL6L",
        "outputId": "5ae77b25-80cb-4f48-bab5-207d73db8e60"
      },
      "outputs": [
        {
          "data": {
            "text/plain": [
              "<bound method Series.items of terry      125\n",
              "micheal    200\n",
              "orion      150\n",
              "jason      100\n",
              "dtype: int64>"
            ]
          },
          "execution_count": 96,
          "metadata": {},
          "output_type": "execute_result"
        }
      ],
      "source": [
        "ser.items"
      ]
    },
    {
      "cell_type": "code",
      "execution_count": null,
      "metadata": {
        "colab": {
          "base_uri": "https://localhost:8080/"
        },
        "id": "Rebvt-lo9kPT",
        "outputId": "f45e92dc-ac31-4ba9-b0d0-5a9589504062"
      },
      "outputs": [
        {
          "data": {
            "text/plain": [
              "<zip at 0x223446f4448>"
            ]
          },
          "execution_count": 97,
          "metadata": {},
          "output_type": "execute_result"
        }
      ],
      "source": [
        "ser.items()"
      ]
    },
    {
      "cell_type": "code",
      "execution_count": null,
      "metadata": {
        "colab": {
          "base_uri": "https://localhost:8080/"
        },
        "id": "3TABuTMnuPZi",
        "outputId": "49a62e4e-e964-4101-bcb6-c0251b7b0bd9"
      },
      "outputs": [
        {
          "data": {
            "text/plain": [
              "[('terry', 125), ('micheal', 200), ('orion', 150), ('jason', 100)]"
            ]
          },
          "execution_count": 98,
          "metadata": {},
          "output_type": "execute_result"
        }
      ],
      "source": [
        "list(ser.items())"
      ]
    },
    {
      "cell_type": "code",
      "execution_count": null,
      "metadata": {
        "colab": {
          "base_uri": "https://localhost:8080/"
        },
        "id": "MeVom79b9kPT",
        "outputId": "c64b730f-50bd-4472-ba89-85b7731a0abc"
      },
      "outputs": [
        {
          "name": "stdout",
          "output_type": "stream",
          "text": [
            "terry 125\n",
            "micheal 200\n",
            "orion 150\n",
            "jason 100\n"
          ]
        }
      ],
      "source": [
        "for index, value in ser.items():\n",
        "    print(index, value)"
      ]
    },
    {
      "cell_type": "code",
      "execution_count": null,
      "metadata": {
        "colab": {
          "base_uri": "https://localhost:8080/"
        },
        "id": "jFy-AplP9kPU",
        "outputId": "bd07a303-3ab3-488b-b9a6-0156aec169d9"
      },
      "outputs": [
        {
          "data": {
            "text/plain": [
              "terry      125\n",
              "micheal    200\n",
              "orion      150\n",
              "jason      100\n",
              "dtype: int64"
            ]
          },
          "execution_count": 100,
          "metadata": {},
          "output_type": "execute_result"
        }
      ],
      "source": [
        "ser"
      ]
    },
    {
      "cell_type": "code",
      "execution_count": null,
      "metadata": {
        "id": "VlQqvIdLlL6N",
        "outputId": "9f4879ad-a1da-481b-ceb9-7f98cab3c9ba"
      },
      "outputs": [
        {
          "data": {
            "text/plain": [
              "terry      125\n",
              "orion      150\n",
              "micheal    200\n",
              "jason      100\n",
              "dtype: int64"
            ]
          },
          "execution_count": 101,
          "metadata": {},
          "output_type": "execute_result"
        }
      ],
      "source": [
        "ser.sort_index(ascending = False)"
      ]
    },
    {
      "cell_type": "code",
      "execution_count": null,
      "metadata": {
        "id": "YWheccFGlL6O",
        "outputId": "a5eba731-fb86-46ae-bf08-86fa537d7fa3"
      },
      "outputs": [
        {
          "data": {
            "text/plain": [
              "micheal    200\n",
              "orion      150\n",
              "terry      125\n",
              "jason      100\n",
              "dtype: int64"
            ]
          },
          "execution_count": 102,
          "metadata": {},
          "output_type": "execute_result"
        }
      ],
      "source": [
        "ser.sort_values(ascending = False)"
      ]
    },
    {
      "cell_type": "markdown",
      "metadata": {
        "id": "ojNeVMQjlL6O"
      },
      "source": [
        "## <p style=\"background-color:#FDFEFE; font-family:newtimeroman; color:#9d4f8c; font-size:150%; text-align:center; border-radius:10px 10px;\">The End of The Session - 03</p>\n",
        "\n",
        "<a id=\"7\"></a>\n",
        "<a href=\"#toc\" class=\"btn btn-primary btn-sm\" role=\"button\" aria-pressed=\"true\" \n",
        "style=\"color:blue; background-color:#dfa8e4\" data-toggle=\"popover\">Content</a>"
      ]
    },
    {
      "cell_type": "markdown",
      "metadata": {
        "id": "ftM6yLmhlL6P"
      },
      "source": [
        "<p style=\"text-align: center;\"><img src=\"https://docs.google.com/uc?id=1lY0Uj5R04yMY3-ZppPWxqCr5pvBLYPnV\" class=\"img-fluid\" \n",
        "alt=\"CLRSWY\"></p>\n",
        "\n",
        "## <p style=\"background-color:#FDFEFE; font-family:newtimeroman; color:#9d4f8c; font-size:100%; text-align:center; border-radius:10px 10px;\">WAY TO REINVENT YOURSELF</p>\n",
        "\n",
        "___"
      ]
    }
  ],
  "metadata": {
    "colab": {
      "name": "DAwPy_S3_(Pandas_Series).ipynb",
      "provenance": [],
      "include_colab_link": true
    },
    "kernelspec": {
      "display_name": "Python 3",
      "language": "python",
      "name": "python3"
    },
    "language_info": {
      "codemirror_mode": {
        "name": "ipython",
        "version": 3
      },
      "file_extension": ".py",
      "mimetype": "text/x-python",
      "name": "python",
      "nbconvert_exporter": "python",
      "pygments_lexer": "ipython3",
      "version": "3.7.6"
    },
    "toc": {
      "base_numbering": 1,
      "nav_menu": {},
      "number_sections": false,
      "sideBar": true,
      "skip_h1_title": false,
      "title_cell": "Table of Contents",
      "title_sidebar": "Contents",
      "toc_cell": false,
      "toc_position": {},
      "toc_section_display": true,
      "toc_window_display": false
    }
  },
  "nbformat": 4,
  "nbformat_minor": 0
}