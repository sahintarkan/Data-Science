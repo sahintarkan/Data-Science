{
  "cells": [
    {
      "cell_type": "markdown",
      "metadata": {
        "id": "view-in-github",
        "colab_type": "text"
      },
      "source": [
        "<a href=\"https://colab.research.google.com/github/sahintarkan/Data-Science/blob/main/DAwPy_S2_(Numpy_Concat_Split_Indexing_Selection_Operations)_%C4%B0lknur.ipynb\" target=\"_parent\"><img src=\"https://colab.research.google.com/assets/colab-badge.svg\" alt=\"Open In Colab\"/></a>"
      ]
    },
    {
      "cell_type": "markdown",
      "metadata": {
        "id": "yWnHJ1KUEOrl"
      },
      "source": [
        "___\n",
        "\n",
        "<p style=\"text-align: center;\"><img src=\"https://docs.google.com/uc?id=1lY0Uj5R04yMY3-ZppPWxqCr5pvBLYPnV\" class=\"img-fluid\" \n",
        "alt=\"CLRSWY\"></p>\n",
        "\n",
        "## <p style=\"background-color:#FDFEFE; font-family:newtimeroman; color:#9d4f8c; font-size:100%; text-align:center; border-radius:10px 10px;\">WAY TO REINVENT YOURSELF</p>\n",
        "\n",
        "___"
      ]
    },
    {
      "cell_type": "markdown",
      "metadata": {
        "id": "Ln9cMGpJEOrq"
      },
      "source": [
        "<img src=https://i.ibb.co/8NdjfdZ/Num-Py-logo.png width=\"700\" height=\"200\">\n",
        "\n",
        "## <p style=\"background-color:#FDFEFE; font-family:newtimeroman; color:#060108; font-size:200%; text-align:center; border-radius:10px 10px;\">Data Analysis with Python</p>\n",
        "\n",
        "## <p style=\"background-color:#FDFEFE; font-family:newtimeroman; color:#060108; font-size:150%; text-align:center; border-radius:10px 10px;\">Session - 02</p>\n",
        "\n",
        "## <p style=\"background-color:#FDFEFE; font-family:newtimeroman; color:#4d77cf; font-size:150%; text-align:center; border-radius:10px 10px;\">Numpy Arrays - Part - 02</p>"
      ]
    },
    {
      "cell_type": "markdown",
      "metadata": {
        "id": "k-2Po4XaRLID"
      },
      "source": [
        "<a id=\"toc\"></a>\n",
        "\n",
        "## <p style=\"background-color:#9d4f8c; font-family:newtimeroman; color:#FFF9ED; font-size:175%; text-align:center; border-radius:10px 10px;\">Content</p>\n",
        "\n",
        "* [IMPORTING LIBRARIES NEEDED IN THIS NOTEBOOK](#0)\n",
        "* [CONCATENATION OF THE ARRAYS](#00)\n",
        "    * [2D Matrix](#00.1)\n",
        "* [SPLITTING OF THE ARRAYS](#000)\n",
        "    * [2D Matrix](#000.1)\n",
        "* [SORTING OF THE ARRAYS](#0000)\n",
        "    * [2D Matrix](#0000.1)\n",
        "* [NUMPY INDEXING & SELECTION](#1)\n",
        "    * [Bracket Indexing & Selection](#1.1)\n",
        "    * [Indexing a 2D Array (Matrices)](#1.2)\n",
        "    * [Slicing a 2D Array (Matrices)](#1.3)\n",
        "    * [Fancy Indexing](#1.4)\n",
        "    * [Using Basic Index & Fancy Index Together](#1.5)\n",
        "    * [Using Basic Slicing & Fancy Index Together](#1.6)\n",
        "    * [More Indexing Help](#1.7)\n",
        "* [SELECTION ON A CONDITION](#2)\n",
        "* [BROADCASTING](#3)\n",
        "* [NUMPY OPERATIONS](#4)\n",
        "    * [Arithmetic Operations](#4.1)\n",
        "    * [Universal Array Functions](#4.2)\n",
        "    * [Statistical Calculations](#4.3)\n",
        "* [OFFICIAL TUTORIAL](#5)\n",
        "* [THE END OF THE SESSION-02](#6)"
      ]
    },
    {
      "cell_type": "markdown",
      "metadata": {
        "id": "9KT2JE3xRLIJ"
      },
      "source": [
        "## <p style=\"background-color:#9d4f8c; font-family:newtimeroman; color:#FFF9ED; font-size:175%; text-align:center; border-radius:10px 10px;\">Importing Libraries Needed in This Notebook</p>\n",
        "\n",
        "<a id=\"0\"></a>\n",
        "<a href=\"#toc\" class=\"btn btn-primary btn-sm\" role=\"button\" aria-pressed=\"true\" \n",
        "style=\"color:blue; background-color:#dfa8e4\" data-toggle=\"popover\">Content</a>\n",
        "\n",
        "Once you've installed NumPy you can import it as a library:\n",
        "\n",
        "**``NOTE:``** For installation instructions, please refer to the notebook at SESSION-01 (Numpy Part-01)"
      ]
    },
    {
      "cell_type": "code",
      "execution_count": null,
      "metadata": {
        "id": "fmgD1q3QRLIN"
      },
      "outputs": [],
      "source": [
        "import numpy as np"
      ]
    },
    {
      "cell_type": "markdown",
      "metadata": {
        "id": "GlB2iSBXRLIT"
      },
      "source": [
        "**REMINDER**<br>\n",
        "NumPy or Numeric Python is a package for computation on homogenous n-dimensional arrays. In numpy dimensions are called as axes.\n",
        "\n",
        "**Why do we need NumPy?**\n",
        "\n",
        "A question arises that why do we need NumPy when python lists are already there. The answer to it is we cannot perform operations on all the elements of two list directly. For example, we cannot multiply two lists directly we will have to do it element-wise. This is where the role of NumPy comes into play."
      ]
    },
    {
      "cell_type": "markdown",
      "metadata": {
        "id": "IJxKgryeRLIa"
      },
      "source": [
        "## <p style=\"background-color:#9d4f8c; font-family:newtimeroman; color:#FFF9ED; font-size:175%; text-align:center; border-radius:10px 10px;\">Concatenation of the Arrays</p>\n",
        "\n",
        "<a id=\"00\"></a>\n",
        "<a href=\"#toc\" class=\"btn btn-primary btn-sm\" role=\"button\" aria-pressed=\"true\" \n",
        "style=\"color:blue; background-color:#dfa8e4\" data-toggle=\"popover\">Content</a>\n",
        "\n",
        "In this lecture we will first discuss how to concatenate, split and sort the arrays.\n",
        "\n",
        "**``concatenate((a1, a2, ...), axis=0, out=None)``**"
      ]
    },
    {
      "cell_type": "code",
      "execution_count": null,
      "metadata": {
        "id": "e14xY30ARLIi"
      },
      "outputs": [],
      "source": [
        "x = np.array([1, 2, 3])\n",
        "y = np.array([4, 5, 6])\n",
        "z = np.array([7, 8, 9])"
      ]
    },
    {
      "cell_type": "code",
      "execution_count": null,
      "metadata": {
        "id": "8dOqjuJlRLIr",
        "outputId": "117c5f67-9fdb-49e2-d141-3e853918159c"
      },
      "outputs": [
        {
          "data": {
            "text/plain": [
              "array([1, 2, 3, 4, 5, 6])"
            ]
          },
          "execution_count": 3,
          "metadata": {},
          "output_type": "execute_result"
        }
      ],
      "source": [
        "np.concatenate([x,y])  # tek boyutlu iki veya daha fazla array'i arka arkaya birleştirir."
      ]
    },
    {
      "cell_type": "code",
      "execution_count": null,
      "metadata": {
        "id": "BjMwK0evRLIz",
        "outputId": "f11a09f0-47ce-42d8-8a12-8702a80954e1"
      },
      "outputs": [
        {
          "data": {
            "text/plain": [
              "array([1, 2, 3, 4, 5, 6, 7, 8, 9])"
            ]
          },
          "execution_count": 5,
          "metadata": {},
          "output_type": "execute_result"
        }
      ],
      "source": [
        "np.concatenate([x, y, z], axis=0)  # default axis değeri 0'dır. Yani tek boyutlularda axis=0 boyunca birleştirir."
      ]
    },
    {
      "cell_type": "code",
      "execution_count": null,
      "metadata": {
        "id": "g9oAmPahRLI6",
        "outputId": "fb6674cb-d68f-4554-c9ff-98759248152a"
      },
      "outputs": [
        {
          "ename": "AxisError",
          "evalue": "axis 1 is out of bounds for array of dimension 1",
          "output_type": "error",
          "traceback": [
            "\u001b[1;31m---------------------------------------------------------------------------\u001b[0m",
            "\u001b[1;31mAxisError\u001b[0m                                 Traceback (most recent call last)",
            "\u001b[1;32m~\\AppData\\Local\\Temp/ipykernel_14668/2803430815.py\u001b[0m in \u001b[0;36m<module>\u001b[1;34m\u001b[0m\n\u001b[1;32m----> 1\u001b[1;33m \u001b[0mnp\u001b[0m\u001b[1;33m.\u001b[0m\u001b[0mconcatenate\u001b[0m\u001b[1;33m(\u001b[0m\u001b[1;33m[\u001b[0m\u001b[0mx\u001b[0m\u001b[1;33m,\u001b[0m \u001b[0my\u001b[0m\u001b[1;33m,\u001b[0m \u001b[0mz\u001b[0m\u001b[1;33m]\u001b[0m\u001b[1;33m,\u001b[0m \u001b[0maxis\u001b[0m\u001b[1;33m=\u001b[0m\u001b[1;36m1\u001b[0m\u001b[1;33m)\u001b[0m\u001b[1;33m\u001b[0m\u001b[1;33m\u001b[0m\u001b[0m\n\u001b[0m",
            "\u001b[1;32m<__array_function__ internals>\u001b[0m in \u001b[0;36mconcatenate\u001b[1;34m(*args, **kwargs)\u001b[0m\n",
            "\u001b[1;31mAxisError\u001b[0m: axis 1 is out of bounds for array of dimension 1"
          ]
        }
      ],
      "source": [
        "np.concatenate([x, y, z], axis=1)  # tek boyutlu arraylerde axis=1 olduğu zaman hata verir."
      ]
    },
    {
      "cell_type": "code",
      "execution_count": null,
      "metadata": {
        "id": "UWA0shUcRLI9",
        "outputId": "07928187-b443-462b-af25-e6ab073604c2"
      },
      "outputs": [
        {
          "data": {
            "text/plain": [
              "array([[1, 2, 3],\n",
              "       [4, 5, 6],\n",
              "       [7, 8, 9]])"
            ]
          },
          "execution_count": 182,
          "metadata": {},
          "output_type": "execute_result"
        }
      ],
      "source": [
        "np.concatenate([x.reshape(1,3), y.reshape(1,3), z.reshape(1,3)], axis=0)  # arraylere reshape() ile boyut kazandırırsam bu şekilde çalışır."
      ]
    },
    {
      "cell_type": "code",
      "execution_count": null,
      "metadata": {
        "id": "LQw7_4w7RLJA",
        "outputId": "b198a9d4-35c2-4bd9-9dbf-c98daf77372c"
      },
      "outputs": [
        {
          "data": {
            "text/plain": [
              "array([array([[1, 2, 3],\n",
              "              [4, 5, 6]]), array([[ 7,  8,  9],\n",
              "                                  [10, 11, 12],\n",
              "                                  [13, 14, 15]]), array([7, 8, 9])],\n",
              "      dtype=object)"
            ]
          },
          "execution_count": 98,
          "metadata": {},
          "output_type": "execute_result"
        }
      ],
      "source": [
        "# ikinci yol:\n",
        "\n",
        "np.concatenate([[x, y, z]], axis=0)  # x,y,z 'yi ikinci bir köşeli parantez içine alarak axis=0(satırlar boyunca )da birleştirme yapabiliriz."
      ]
    },
    {
      "cell_type": "code",
      "execution_count": null,
      "metadata": {
        "id": "3Pp-B-5URLJC",
        "outputId": "e9de1045-4809-47a4-b644-181023f51bc8"
      },
      "outputs": [
        {
          "data": {
            "text/plain": [
              "array([[1, 2, 3],\n",
              "       [4, 5, 6],\n",
              "       [7, 8, 9]])"
            ]
          },
          "execution_count": 12,
          "metadata": {},
          "output_type": "execute_result"
        }
      ],
      "source": [
        "# 3. yol\n",
        "np.concatenate([x, y, z], axis=0).reshape(3,3)  # tek boyutlu birleştirdiğimiz arrayin şeklini değiştirerek de axis=0 boyunca birleştirme yapmış oluruz."
      ]
    },
    {
      "cell_type": "code",
      "execution_count": null,
      "metadata": {
        "id": "00V-LEWZRLJF",
        "outputId": "1aca4182-65db-4b17-fd14-455f12b271c3"
      },
      "outputs": [
        {
          "data": {
            "text/plain": [
              "[[array([1, 2, 3]), array([4, 5, 6]), array([7, 8, 9])]]"
            ]
          },
          "execution_count": 19,
          "metadata": {},
          "output_type": "execute_result"
        }
      ],
      "source": [
        "[[x,y,z]]"
      ]
    },
    {
      "cell_type": "markdown",
      "metadata": {
        "id": "vFCdFgeLRLJI"
      },
      "source": [
        "### <p style=\"background-color:#9d4f8c; font-family:newtimeroman; color:#FFF9ED; font-size:150%; text-align:LEFT; border-radius:10px 10px;\">2d Matrix</p>\n",
        "\n",
        "<a id=\"00.1\"></a>\n",
        "<a href=\"#toc\" class=\"btn btn-primary btn-sm\" role=\"button\" aria-pressed=\"true\" \n",
        "style=\"color:blue; background-color:#dfa8e4\" data-toggle=\"popover\">Content</a>"
      ]
    },
    {
      "cell_type": "code",
      "execution_count": null,
      "metadata": {
        "id": "UH172aJGRLJL",
        "outputId": "7dddb0b1-21d8-45f2-8f4a-1197653cf54a"
      },
      "outputs": [
        {
          "data": {
            "text/plain": [
              "(array([[1, 2, 3],\n",
              "        [4, 5, 6]]),\n",
              " array([[ 7,  8,  9],\n",
              "        [10, 11, 12],\n",
              "        [13, 14, 15]]))"
            ]
          },
          "execution_count": 99,
          "metadata": {},
          "output_type": "execute_result"
        }
      ],
      "source": [
        "# iki boyutlu arraylerde concatenate yapabilmek için birleştirilecek arraylerin satır veya sütun sayıları eşit olmalı.\n",
        "# Satır bazında (axis=0) birleştirme yapılacak ise sütun sayıları eşit olmalı.\n",
        "# Sütun bazında (axis=1) birleştirme yapılacak ise satır sayıları eşit olmalı.\n",
        "x = np.array([[1, 2, 3], [4, 5, 6]])  # 2 rows, 3 columns\n",
        "y = np.array([[7, 8, 9], [10, 11, 12], [13, 14, 15]])  # 3 rows, 3 columns\n",
        "x,y"
      ]
    },
    {
      "cell_type": "code",
      "execution_count": null,
      "metadata": {
        "id": "gbqnarbhRLJN",
        "outputId": "17def438-a142-4391-bdb0-e5ceae56f5c5"
      },
      "outputs": [
        {
          "data": {
            "text/plain": [
              "array([[ 1,  2,  3],\n",
              "       [ 4,  5,  6],\n",
              "       [ 7,  8,  9],\n",
              "       [10, 11, 12],\n",
              "       [13, 14, 15]])"
            ]
          },
          "execution_count": 27,
          "metadata": {},
          "output_type": "execute_result"
        }
      ],
      "source": [
        "#Ör: axis=0 bazında birleştirme yapıldığında sütun sayıları eşit ise birleştirmeyi yapar ve hata vermez.\n",
        "np.concatenate([x,y], axis=0)"
      ]
    },
    {
      "cell_type": "code",
      "execution_count": null,
      "metadata": {
        "id": "70ZD-h2nRLJP",
        "outputId": "a065baf1-fb26-482f-b3b7-590d7a8a2d93"
      },
      "outputs": [
        {
          "ename": "ValueError",
          "evalue": "all the input array dimensions for the concatenation axis must match exactly, but along dimension 0, the array at index 0 has size 2 and the array at index 1 has size 3",
          "output_type": "error",
          "traceback": [
            "\u001b[1;31m---------------------------------------------------------------------------\u001b[0m",
            "\u001b[1;31mValueError\u001b[0m                                Traceback (most recent call last)",
            "\u001b[1;32m~\\AppData\\Local\\Temp/ipykernel_14668/141728534.py\u001b[0m in \u001b[0;36m<module>\u001b[1;34m\u001b[0m\n\u001b[1;32m----> 1\u001b[1;33m \u001b[0mnp\u001b[0m\u001b[1;33m.\u001b[0m\u001b[0mconcatenate\u001b[0m\u001b[1;33m(\u001b[0m\u001b[1;33m[\u001b[0m\u001b[0mx\u001b[0m\u001b[1;33m,\u001b[0m\u001b[0my\u001b[0m\u001b[1;33m]\u001b[0m\u001b[1;33m,\u001b[0m \u001b[0maxis\u001b[0m\u001b[1;33m=\u001b[0m\u001b[1;36m1\u001b[0m\u001b[1;33m)\u001b[0m\u001b[1;33m\u001b[0m\u001b[1;33m\u001b[0m\u001b[0m\n\u001b[0m",
            "\u001b[1;32m<__array_function__ internals>\u001b[0m in \u001b[0;36mconcatenate\u001b[1;34m(*args, **kwargs)\u001b[0m\n",
            "\u001b[1;31mValueError\u001b[0m: all the input array dimensions for the concatenation axis must match exactly, but along dimension 0, the array at index 0 has size 2 and the array at index 1 has size 3"
          ]
        }
      ],
      "source": [
        "# Ör: axis=1 bazında birleştirme yapıldığında satır sayıları eşit dğilse birleştirmeyi yapamaz ve hata verir.\n",
        "\n",
        "np.concatenate([x,y], axis=1)"
      ]
    },
    {
      "cell_type": "code",
      "execution_count": null,
      "metadata": {
        "id": "wu_ih161RLJS"
      },
      "outputs": [],
      "source": [
        "a = np.random.randint(10, size = (2, 3))\n",
        "b = np.random.randint(10, size = (2, 3))"
      ]
    },
    {
      "cell_type": "code",
      "execution_count": null,
      "metadata": {
        "id": "_5iAz1TDRLJU",
        "outputId": "01476a98-fae7-4728-b292-8e4b0644d8e6"
      },
      "outputs": [
        {
          "data": {
            "text/plain": [
              "(array([[8, 5, 1],\n",
              "        [5, 3, 0]]),\n",
              " array([[7, 8, 2],\n",
              "        [1, 9, 5]]))"
            ]
          },
          "execution_count": 14,
          "metadata": {},
          "output_type": "execute_result"
        }
      ],
      "source": [
        "a, b"
      ]
    },
    {
      "cell_type": "code",
      "execution_count": null,
      "metadata": {
        "id": "eg1LuhK2RLJW",
        "outputId": "ecefe44b-dcfc-4192-dcee-bcb9e315c372"
      },
      "outputs": [
        {
          "data": {
            "text/plain": [
              "array([[8, 5, 1],\n",
              "       [5, 3, 0],\n",
              "       [7, 8, 2],\n",
              "       [1, 9, 5]])"
            ]
          },
          "execution_count": 17,
          "metadata": {},
          "output_type": "execute_result"
        }
      ],
      "source": [
        "np.concatenate([a,b], axis=0)  # 2,3 'lük iki arrayi axis=0 bazında birleştirince 4,3'lük bir array oluşur."
      ]
    },
    {
      "cell_type": "code",
      "execution_count": null,
      "metadata": {
        "id": "a9-JqzI-RLJZ",
        "outputId": "4de50c4f-cffd-412e-a274-c30c998b8d8e"
      },
      "outputs": [
        {
          "data": {
            "text/plain": [
              "array([[8, 5, 1, 7, 8, 2],\n",
              "       [5, 3, 0, 1, 9, 5]])"
            ]
          },
          "execution_count": 18,
          "metadata": {},
          "output_type": "execute_result"
        }
      ],
      "source": [
        "np.concatenate([a,b], axis=1)  # 2,3 'lük iki arrayi axis=1 bazında birleştirince 2,6'lık bir array oluşur."
      ]
    },
    {
      "cell_type": "markdown",
      "metadata": {
        "id": "FW_Nd1pPRLJc"
      },
      "source": [
        "## <p style=\"background-color:#9d4f8c; font-family:newtimeroman; color:#FFF9ED; font-size:175%; text-align:center; border-radius:10px 10px;\">Splitting of the Arrays</p>\n",
        "\n",
        "<a id=\"000\"></a>\n",
        "<a href=\"#toc\" class=\"btn btn-primary btn-sm\" role=\"button\" aria-pressed=\"true\" \n",
        "style=\"color:blue; background-color:#dfa8e4\" data-toggle=\"popover\">Content</a>\n",
        "\n",
        "**``np.split(ary, indices_or_sections, axis=0)``**"
      ]
    },
    {
      "cell_type": "code",
      "execution_count": null,
      "metadata": {
        "id": "6HnnL6A5RLJf",
        "outputId": "ca759359-8aee-4489-a74f-4b9ca3185b25"
      },
      "outputs": [
        {
          "data": {
            "text/plain": [
              "array([ 1,  2,  3, 99, 99,  3,  2,  1])"
            ]
          },
          "execution_count": 20,
          "metadata": {},
          "output_type": "execute_result"
        }
      ],
      "source": [
        "x = np.array([1,2,3,99,99,3,2,1])\n",
        "x"
      ]
    },
    {
      "cell_type": "code",
      "execution_count": null,
      "metadata": {
        "id": "KcTuUTavRLJi"
      },
      "outputs": [],
      "source": [
        "# np.split() fonksiyonu ile bir arrayi belirttiğiniz şekilde parçalara bölebilirsiniz.\n",
        "\n",
        "np.split(x, [3,5])  # 0:3, 3:5, 5:  şeklinde böldü"
      ]
    },
    {
      "cell_type": "code",
      "execution_count": null,
      "metadata": {
        "id": "tgJjvLqtRLJj",
        "outputId": "77185f71-9bf3-4da6-abff-a28ab73d0a72"
      },
      "outputs": [
        {
          "data": {
            "text/plain": [
              "(array([1, 2, 3]), array([99, 99]), array([3, 2, 1]))"
            ]
          },
          "execution_count": 22,
          "metadata": {},
          "output_type": "execute_result"
        }
      ],
      "source": [
        "a,b,c = np.split(x, [3,5])  # 0:3, 3:5, 5:  şeklinde böldüğümüz parçaları yeni birer değişkene atadık.\n",
        "a,b,c"
      ]
    },
    {
      "cell_type": "code",
      "execution_count": null,
      "metadata": {
        "id": "m0H5XXr-RLJl",
        "outputId": "2f1cebf9-e50f-4290-ca68-82d3d160aea6"
      },
      "outputs": [
        {
          "data": {
            "text/plain": [
              "[array([ 1,  2,  3, 99]), array([99,  3,  2,  1])]"
            ]
          },
          "execution_count": 25,
          "metadata": {},
          "output_type": "execute_result"
        }
      ],
      "source": [
        "np.split(x, [4])  # 0:4, 4:, şeklinde iki parçaya böldü."
      ]
    },
    {
      "cell_type": "code",
      "execution_count": null,
      "metadata": {
        "id": "Js4-lo0VRLJp",
        "outputId": "89a8663b-1c5f-4ada-8ef1-7d8860798e36"
      },
      "outputs": [
        {
          "data": {
            "text/plain": [
              "[array([1, 2]), array([ 3, 99]), array([99,  3]), array([2, 1])]"
            ]
          },
          "execution_count": 24,
          "metadata": {},
          "output_type": "execute_result"
        }
      ],
      "source": [
        "np.split(x, 4)  # index numarasını köşeli parantez içinde vermezsek 4 eşit parçaya böler.\n",
        "# Ancak bu durumda array eleman sayısının 4'e bölünebilen bir sayı olması gerekir."
      ]
    },
    {
      "cell_type": "code",
      "execution_count": null,
      "metadata": {
        "id": "FQN7wCg6RLJq"
      },
      "outputs": [],
      "source": [
        ""
      ]
    },
    {
      "cell_type": "markdown",
      "metadata": {
        "id": "-r4Ka06CRLJr"
      },
      "source": [
        "The number of the elements ``should be divisible`` by 4, otherwise raises an error. If the argument (here is 4) is not enclosed by square brackets, then it means dividing into 4 pieces."
      ]
    },
    {
      "cell_type": "markdown",
      "metadata": {
        "id": "c36iasmqRLJr"
      },
      "source": [
        "### <p style=\"background-color:#9d4f8c; font-family:newtimeroman; color:#FFF9ED; font-size:150%; text-align:LEFT; border-radius:10px 10px;\">2d Matrix</p>\n",
        "\n",
        "<a id=\"000.1\"></a>\n",
        "<a href=\"#toc\" class=\"btn btn-primary btn-sm\" role=\"button\" aria-pressed=\"true\" \n",
        "style=\"color:blue; background-color:#dfa8e4\" data-toggle=\"popover\">Content</a>"
      ]
    },
    {
      "cell_type": "code",
      "execution_count": null,
      "metadata": {
        "id": "hAk-Q6NDRLJs",
        "outputId": "efedf91b-051a-42fd-e26c-8a5de7dd2826"
      },
      "outputs": [
        {
          "data": {
            "text/plain": [
              "array([[ 0,  1,  2,  3],\n",
              "       [ 4,  5,  6,  7],\n",
              "       [ 8,  9, 10, 11],\n",
              "       [12, 13, 14, 15],\n",
              "       [16, 17, 18, 19]])"
            ]
          },
          "execution_count": 33,
          "metadata": {},
          "output_type": "execute_result"
        }
      ],
      "source": [
        "m = np.arange(20).reshape(5,4)\n",
        "m"
      ]
    },
    {
      "cell_type": "code",
      "execution_count": null,
      "metadata": {
        "id": "oPJ26PTLRLJt",
        "outputId": "dfe0d6da-4fa7-4911-c43b-d778bce61d74"
      },
      "outputs": [
        {
          "data": {
            "text/plain": [
              "[array([[0, 1, 2, 3]]),\n",
              " array([[ 4,  5,  6,  7],\n",
              "        [ 8,  9, 10, 11]]),\n",
              " array([[12, 13, 14, 15],\n",
              "        [16, 17, 18, 19]])]"
            ]
          },
          "execution_count": 35,
          "metadata": {},
          "output_type": "execute_result"
        }
      ],
      "source": [
        "# İki boyutlu arraylerde split işlemi yapılırken indexlerde birlikte axis'in de belirtilmesi gerekir.\n",
        "\n",
        "np.split(m, [1,3], axis = 0)  # axis=0 --> satırlar boyunca :1, 1:3:, 3:, şeklinde üç parçaya böldük."
      ]
    },
    {
      "cell_type": "code",
      "execution_count": null,
      "metadata": {
        "id": "7xNfArSDRLJu",
        "outputId": "b124c36e-8611-4090-e6a4-515089c0ea33"
      },
      "outputs": [
        {
          "data": {
            "text/plain": [
              "[array([[0, 1, 2, 3]]),\n",
              " array([[4, 5, 6, 7]]),\n",
              " array([[ 8,  9, 10, 11]]),\n",
              " array([[12, 13, 14, 15]]),\n",
              " array([[16, 17, 18, 19]])]"
            ]
          },
          "execution_count": 36,
          "metadata": {},
          "output_type": "execute_result"
        }
      ],
      "source": [
        "np.split(m, 5, axis = 0)  # axis=0 --> satırlar boyunca 5 eşit parçaya böldük."
      ]
    },
    {
      "cell_type": "code",
      "execution_count": null,
      "metadata": {
        "id": "PycV-UhxRLJv",
        "outputId": "7c89f980-1db1-4bf9-b38c-5354c3b2b358"
      },
      "outputs": [
        {
          "data": {
            "text/plain": [
              "[array([[ 0],\n",
              "        [ 4],\n",
              "        [ 8],\n",
              "        [12],\n",
              "        [16]]),\n",
              " array([[ 1,  2],\n",
              "        [ 5,  6],\n",
              "        [ 9, 10],\n",
              "        [13, 14],\n",
              "        [17, 18]]),\n",
              " array([[ 3],\n",
              "        [ 7],\n",
              "        [11],\n",
              "        [15],\n",
              "        [19]])]"
            ]
          },
          "execution_count": 37,
          "metadata": {},
          "output_type": "execute_result"
        }
      ],
      "source": [
        "np.split(m, [1,3], axis = 1)  axis=1 --> sütunlar boyunca :1, 1:3:, 3:, şeklinde üç parçaya böldük."
      ]
    },
    {
      "cell_type": "code",
      "execution_count": null,
      "metadata": {
        "id": "JM1liLUcRLJw",
        "outputId": "322216c6-ad0c-461a-cc7a-37347f9e1668"
      },
      "outputs": [
        {
          "data": {
            "text/plain": [
              "[array([[ 0,  1,  2,  3],\n",
              "        [ 4,  5,  6,  7],\n",
              "        [ 8,  9, 10, 11]]),\n",
              " array([[12, 13, 14, 15],\n",
              "        [16, 17, 18, 19]])]"
            ]
          },
          "execution_count": 38,
          "metadata": {},
          "output_type": "execute_result"
        }
      ],
      "source": [
        "np.vsplit(m,[3])  # vertical split ile satırlar boyunca(axis=0 gibi) :3, 3: şeklinde iki parçaya böldük."
      ]
    },
    {
      "cell_type": "code",
      "execution_count": null,
      "metadata": {
        "id": "nBt72JzxRLJx",
        "outputId": "c69839c0-c4e0-4eac-92ec-d35d664289da"
      },
      "outputs": [
        {
          "data": {
            "text/plain": [
              "[array([[ 0,  1,  2],\n",
              "        [ 4,  5,  6],\n",
              "        [ 8,  9, 10],\n",
              "        [12, 13, 14],\n",
              "        [16, 17, 18]]),\n",
              " array([[ 3],\n",
              "        [ 7],\n",
              "        [11],\n",
              "        [15],\n",
              "        [19]])]"
            ]
          },
          "execution_count": 39,
          "metadata": {},
          "output_type": "execute_result"
        }
      ],
      "source": [
        "np.hsplit(m,[3])  # horizontal split ile sütunlar boyunca (axis=1 gibi) :3,3: şeklinde iki parçaya böldük."
      ]
    },
    {
      "cell_type": "code",
      "execution_count": null,
      "metadata": {
        "id": "whQhg346RLJy"
      },
      "outputs": [],
      "source": [
        ""
      ]
    },
    {
      "cell_type": "markdown",
      "metadata": {
        "id": "MxbNv-XTRLJy"
      },
      "source": [
        "## <p style=\"background-color:#9d4f8c; font-family:newtimeroman; color:#FFF9ED; font-size:175%; text-align:center; border-radius:10px 10px;\">Sorting of the Arrays</p>\n",
        "\n",
        "<a id=\"0000\"></a>\n",
        "<a href=\"#toc\" class=\"btn btn-primary btn-sm\" role=\"button\" aria-pressed=\"true\" \n",
        "style=\"color:blue; background-color:#dfa8e4\" data-toggle=\"popover\">Content</a>"
      ]
    },
    {
      "cell_type": "code",
      "execution_count": null,
      "metadata": {
        "id": "7Mx4UlJwRLJz"
      },
      "outputs": [],
      "source": [
        "v = np.array([2,1,4,3,5,8,1])"
      ]
    },
    {
      "cell_type": "code",
      "execution_count": null,
      "metadata": {
        "id": "Q_rPguBORLJ0",
        "outputId": "3fd36e41-7567-4550-e7a6-3010be17aac3"
      },
      "outputs": [
        {
          "data": {
            "text/plain": [
              "array([1, 1, 2, 3, 4, 5, 8])"
            ]
          },
          "execution_count": 42,
          "metadata": {},
          "output_type": "execute_result"
        }
      ],
      "source": [
        "np.sort(v)  # sıralanmış bir array verir ancak orjinalini değiştirmez."
      ]
    },
    {
      "cell_type": "code",
      "execution_count": null,
      "metadata": {
        "id": "bxvHYReYRLJ1",
        "outputId": "cd0dbff5-ac1d-4af1-b632-9d09fd465b1a"
      },
      "outputs": [
        {
          "data": {
            "text/plain": [
              "array([2, 1, 4, 3, 5, 8, 1])"
            ]
          },
          "execution_count": 43,
          "metadata": {},
          "output_type": "execute_result"
        }
      ],
      "source": [
        "v"
      ]
    },
    {
      "cell_type": "code",
      "execution_count": null,
      "metadata": {
        "id": "eOEXmfpBRLJ1"
      },
      "outputs": [],
      "source": [
        "v.sort()  # bu şekilde kullanıldığında hem sıralar hem de orjinalinde bu değişikliği yapar."
      ]
    },
    {
      "cell_type": "code",
      "execution_count": null,
      "metadata": {
        "id": "yokrsdD8RLKD",
        "outputId": "58ef6d18-4052-4ab3-ed6d-187181e492ef"
      },
      "outputs": [
        {
          "data": {
            "text/plain": [
              "array([1, 1, 2, 3, 4, 5, 8])"
            ]
          },
          "execution_count": 45,
          "metadata": {},
          "output_type": "execute_result"
        }
      ],
      "source": [
        "v"
      ]
    },
    {
      "cell_type": "markdown",
      "metadata": {
        "id": "9ZfezyIQRLKE"
      },
      "source": [
        "### <p style=\"background-color:#9d4f8c; font-family:newtimeroman; color:#FFF9ED; font-size:150%; text-align:LEFT; border-radius:10px 10px;\">2d Matrix</p>\n",
        "\n",
        "<a id=\"0000.1\"></a>\n",
        "<a href=\"#toc\" class=\"btn btn-primary btn-sm\" role=\"button\" aria-pressed=\"true\" \n",
        "style=\"color:blue; background-color:#dfa8e4\" data-toggle=\"popover\">Content</a>"
      ]
    },
    {
      "cell_type": "code",
      "execution_count": null,
      "metadata": {
        "id": "3LrflJOFRLKE",
        "outputId": "6f944abf-27a4-4690-aabb-94075204cfcf"
      },
      "outputs": [
        {
          "data": {
            "text/plain": [
              "array([[24, 86, 69],\n",
              "       [61, 61, 18],\n",
              "       [11, 19, 95]])"
            ]
          },
          "execution_count": 46,
          "metadata": {},
          "output_type": "execute_result"
        }
      ],
      "source": [
        "twoD = np.random.randint(5, 100, (3,3))\n",
        "twoD"
      ]
    },
    {
      "cell_type": "code",
      "execution_count": null,
      "metadata": {
        "id": "P02yTJ3NRLKF",
        "outputId": "08716fc0-324b-4060-9410-29a0ecd50e7b"
      },
      "outputs": [
        {
          "data": {
            "text/plain": [
              "array([[11, 19, 18],\n",
              "       [24, 61, 69],\n",
              "       [61, 86, 95]])"
            ]
          },
          "execution_count": 48,
          "metadata": {},
          "output_type": "execute_result"
        }
      ],
      "source": [
        "# iki boyutlu arraylerde sıralama yaparken axis mutlaka belirtilmelidir.\n",
        "\n",
        "np.sort(twoD, axis=0)  # axis=0 verince satırlar boyunca sıralama yapar."
      ]
    },
    {
      "cell_type": "code",
      "execution_count": null,
      "metadata": {
        "id": "okcAT9l8RLKG",
        "outputId": "fc5d7061-0677-47b9-f4d8-56bf8bd69741"
      },
      "outputs": [
        {
          "data": {
            "text/plain": [
              "array([[24, 69, 86],\n",
              "       [18, 61, 61],\n",
              "       [11, 19, 95]])"
            ]
          },
          "execution_count": 49,
          "metadata": {},
          "output_type": "execute_result"
        }
      ],
      "source": [
        "np.sort(twoD, axis=1)  # axis=1 verince sütunlar boyunca sıralama yapar."
      ]
    },
    {
      "cell_type": "markdown",
      "metadata": {
        "id": "SaJzF_GeEOrr"
      },
      "source": [
        "## <p style=\"background-color:#9d4f8c; font-family:newtimeroman; color:#FFF9ED; font-size:175%; text-align:center; border-radius:10px 10px;\">Numpy Indexing & Selection</p>\n",
        "\n",
        "<a id=\"1\"></a>\n",
        "<a href=\"#toc\" class=\"btn btn-primary btn-sm\" role=\"button\" aria-pressed=\"true\" \n",
        "style=\"color:blue; background-color:#dfa8e4\" data-toggle=\"popover\">Content</a>"
      ]
    },
    {
      "cell_type": "markdown",
      "metadata": {
        "id": "y6gtA3sIRLKH"
      },
      "source": [
        "In this part of the lecture we will discuss how to select elements or groups of elements from an array.\n",
        "\n",
        "Array indexing is the same as accessing an array element. You can access an array element by referring to its index number. The indexes in NumPy arrays start with 0, meaning that the first element has index 0, and the second has index 1 etc. [SOURCE](https://www.w3schools.com/python/numpy/numpy_array_indexing.asp)\n",
        "\n",
        "### ``Types of Indexing``\n",
        "\n",
        "There are **``two types of indexing:``**\n",
        "\n",
        "**``1 - Basic Slicing and indexing:``** Consider the syntax x[obj] where x is the array and obj is the index. Slice object is the index in case of basic slicing. Basic slicing occurs when obj is :\n",
        "- a slice object that is of the form start : stop : step\n",
        "- an integer\n",
        "- or a tuple of slice objects and integers\n",
        "\n",
        "**``2 - Advanced indexing:``** Advanced indexing is triggered when obj is –\n",
        "\n",
        "- an ndarray of type integer or Boolean\n",
        "- or a tuple with at least one sequence object\n",
        "- is a non tuple sequence object\n",
        "\n",
        "For more information, please visit [INDEXING SOURCE](https://www.geeksforgeeks.org/numpy-indexing/)\n",
        "\n",
        "\n",
        "[INDEXING & SLICING Source 01](https://jakevdp.github.io/PythonDataScienceHandbook/03.02-data-indexing-and-selection.html),\n",
        "[INDEXING & SLICING Source 02](https://www.kite.com/python/answers/how-to-select-an-element-by-index-from-a-numpy-array-in-python),\n",
        "[INDEXING & SLICING Source 03](https://numpy.org/doc/stable/reference/arrays.indexing.html),\n",
        "[INDEXING & SLICING Source 04](https://www.pluralsight.com/guides/working-numpy-arrays-indexing-slicing-guide),\n",
        "[INDEXING & SLICING Source 05](https://www.brainstobytes.com/hands-on-numpy-iii-indexing-and-slicing/),\n",
        "[INDEXING & SLICING Source 06](https://pandas.pydata.org/pandas-docs/version/1.2.4/user_guide/indexing.html),\n",
        "[INDEXING & SLICING Source 07](https://www.tutorialspoint.com/numpy/numpy_advanced_indexing.htm),\n",
        "[INDEXING & SLICING Source 08](https://towardsdatascience.com/numpy-indexing-explained-c376abb2440d),\n",
        "[INDEXING & SLICING Video Source 01](https://www.pythoninformer.com/python-libraries/numpy/index-and-slice/),\n",
        "[INDEXING & SLICING Video Source 02](https://www.youtube.com/watch?v=9nbBTaz2qXI),\n",
        "[INDEXING & SLICING Video Source 03](https://www.youtube.com/watch?v=9nbBTaz2qXI) &\n",
        "[INDEXING & SLICING Video Source 03](https://www.youtube.com/watch?v=E1OFcMnU40o)"
      ]
    },
    {
      "cell_type": "code",
      "execution_count": null,
      "metadata": {
        "id": "B2NhZ0slRLKJ"
      },
      "outputs": [],
      "source": [
        "arr = np.arange(0,11)"
      ]
    },
    {
      "cell_type": "code",
      "execution_count": null,
      "metadata": {
        "id": "GN53YPw2RLKK",
        "outputId": "5f2616fc-ce50-4525-8eed-fb9357004765"
      },
      "outputs": [
        {
          "data": {
            "text/plain": [
              "array([ 0,  1,  2,  3,  4,  5,  6,  7,  8,  9, 10])"
            ]
          },
          "execution_count": 51,
          "metadata": {},
          "output_type": "execute_result"
        }
      ],
      "source": [
        "arr"
      ]
    },
    {
      "cell_type": "markdown",
      "metadata": {
        "id": "mNljteUtEOru"
      },
      "source": [
        "### <p style=\"background-color:#9d4f8c; font-family:newtimeroman; color:#FFF9ED; font-size:150%; text-align:LEFT; border-radius:10px 10px;\">Bracket Indexing & Selection</p>\n",
        "\n",
        "<a id=\"1.1\"></a>\n",
        "<a href=\"#toc\" class=\"btn btn-primary btn-sm\" role=\"button\" aria-pressed=\"true\" \n",
        "style=\"color:blue; background-color:#dfa8e4\" data-toggle=\"popover\">Content</a>\n",
        "\n",
        "The simplest way to pick one or some elements of an array looks very similar to python lists:"
      ]
    },
    {
      "cell_type": "code",
      "execution_count": null,
      "metadata": {
        "id": "BtIZCMn-RLKL",
        "outputId": "b6740cd6-3b3c-4ec7-829a-bdc63e3f463d"
      },
      "outputs": [
        {
          "data": {
            "text/plain": [
              "8"
            ]
          },
          "execution_count": 52,
          "metadata": {},
          "output_type": "execute_result"
        }
      ],
      "source": [
        "arr[8]  # 8. indexteki elemanı verir."
      ]
    },
    {
      "cell_type": "code",
      "execution_count": null,
      "metadata": {
        "id": "TcB-Mx1CRLKM",
        "outputId": "b6e89991-2cfe-4983-b36a-10b47507194c"
      },
      "outputs": [
        {
          "data": {
            "text/plain": [
              "8"
            ]
          },
          "execution_count": 53,
          "metadata": {},
          "output_type": "execute_result"
        }
      ],
      "source": [
        "arr[-3]  # -3. index teki eleman"
      ]
    },
    {
      "cell_type": "code",
      "execution_count": null,
      "metadata": {
        "id": "Ie17we8qRLKN",
        "outputId": "54f1d260-6730-4f2a-f13a-de498ca09e11"
      },
      "outputs": [
        {
          "data": {
            "text/plain": [
              "array([1, 2, 3, 4])"
            ]
          },
          "execution_count": 54,
          "metadata": {},
          "output_type": "execute_result"
        }
      ],
      "source": [
        "arr[1:5]  # 1-5 arasındaki indexte yer alan elemanlar"
      ]
    },
    {
      "cell_type": "code",
      "execution_count": null,
      "metadata": {
        "id": "8amAuBXERLKO",
        "outputId": "3098b61f-61c6-48c9-a226-0f47b9ee54f1"
      },
      "outputs": [
        {
          "data": {
            "text/plain": [
              "array([1, 3, 5, 7, 9])"
            ]
          },
          "execution_count": 55,
          "metadata": {},
          "output_type": "execute_result"
        }
      ],
      "source": [
        "arr[1::2]  # 1'den başlayıp 2 adım aralığı ile tek indexlere karşılık gelen elemanlar"
      ]
    },
    {
      "cell_type": "code",
      "execution_count": null,
      "metadata": {
        "id": "hqlmTMSFRLKO",
        "outputId": "a01bbfda-9d89-4dc7-c17a-013d18311a01"
      },
      "outputs": [
        {
          "data": {
            "text/plain": [
              "array([ 0,  2,  4,  6,  8, 10])"
            ]
          },
          "execution_count": 56,
          "metadata": {},
          "output_type": "execute_result"
        }
      ],
      "source": [
        "arr[::2]  # 0'den başlayıp 2 adım aralığı ile çift indexlere karşılık gelen elemanlar "
      ]
    },
    {
      "cell_type": "code",
      "execution_count": null,
      "metadata": {
        "id": "O5OVpwfdRLKR"
      },
      "outputs": [],
      "source": [
        ""
      ]
    },
    {
      "cell_type": "markdown",
      "metadata": {
        "id": "VlEYvXtHEOr1"
      },
      "source": [
        "### <p style=\"background-color:#9d4f8c; font-family:newtimeroman; color:#FFF9ED; font-size:150%; text-align:LEFT; border-radius:10px 10px;\">Indexing a 2D Array (Matrices)</p>\n",
        "\n",
        "<a id=\"1.2\"></a>\n",
        "<a href=\"#toc\" class=\"btn btn-primary btn-sm\" role=\"button\" aria-pressed=\"true\" \n",
        "style=\"color:blue; background-color:#dfa8e4\" data-toggle=\"popover\">Content</a>\n",
        "\n",
        "<p>The general format is <b>arr_2d[row][col]</b> or <b>arr_2d[row, col]</b>.<br> \n",
        "It's usually recommended using the comma notation for clarity.</p>\n",
        "\n",
        "![image.png](https://i.ibb.co/pvdHbBm/numpy-index.png)\n",
        "\n",
        "![image-2.png](https://i.ibb.co/jJPp6hk/numpy-indexing2.png)\n",
        "\n",
        "[SOURCE01](https://www.google.com/url?sa=i&url=https%3A%2F%2Fmedium.com%2F%40msjahid%2Fnumpy-array-indexing-slicing-23b70abb8433&psig=AOvVaw2ETiXFpQ-F-d0CMV8jD1dJ&ust=1644053862804000&source=images&cd=vfe&ved=0CAwQjhxqFwoTCIDj5JXg5fUCFQAAAAAdAAAAABAk), [SOURCE02](https://www.google.com/url?sa=i&url=https%3A%2F%2Fiq.opengenus.org%2F2d-array-in-numpy%2F&psig=AOvVaw2ETiXFpQ-F-d0CMV8jD1dJ&ust=1644053862804000&source=images&cd=vfe&ved=0CAwQjhxqFwoTCIDj5JXg5fUCFQAAAAAdAAAAABAp)<br>"
      ]
    },
    {
      "cell_type": "code",
      "execution_count": null,
      "metadata": {
        "id": "IgvZjuDzRLKS",
        "outputId": "8b2b2b0c-3091-4195-9384-f567c901a593"
      },
      "outputs": [
        {
          "data": {
            "text/plain": [
              "array([[ 5, 10, 15],\n",
              "       [20, 25, 30],\n",
              "       [35, 40, 45]])"
            ]
          },
          "execution_count": 58,
          "metadata": {},
          "output_type": "execute_result"
        }
      ],
      "source": [
        "arr_2d = np.array([[5, 10, 15], [20, 25, 30], [35, 40, 45]])\n",
        "arr_2d"
      ]
    },
    {
      "cell_type": "code",
      "execution_count": null,
      "metadata": {
        "id": "nYi8N2fYRLKT",
        "outputId": "e054d131-c9fe-4e19-f18c-d6dfe5125bdf"
      },
      "outputs": [
        {
          "data": {
            "text/plain": [
              "array([20, 25, 30])"
            ]
          },
          "execution_count": 60,
          "metadata": {},
          "output_type": "execute_result"
        }
      ],
      "source": [
        "# İki boyutlu arraylerde indexleme yapılırken önce satır, sonra sütun sayıları yazılır.\n",
        "\n",
        "arr_2d[1]  # sadece tek index değeri belirtirsek o indexe karşılık gelen satırı getirir. "
      ]
    },
    {
      "cell_type": "code",
      "execution_count": null,
      "metadata": {
        "id": "uvtXuzhfRLKU",
        "outputId": "ed07c411-f2d1-4135-bfdf-d790c3b7014f"
      },
      "outputs": [
        {
          "data": {
            "text/plain": [
              "25"
            ]
          },
          "execution_count": 62,
          "metadata": {},
          "output_type": "execute_result"
        }
      ],
      "source": [
        "arr_2d[1,1]  # veya arr_2d[1][1]   1. satır ve 1. sütundaki eleman"
      ]
    },
    {
      "cell_type": "code",
      "execution_count": null,
      "metadata": {
        "id": "tbZqL8FyRLKU",
        "outputId": "1680a6a1-b024-47cc-e567-4b0745709bd5"
      },
      "outputs": [
        {
          "data": {
            "text/plain": [
              "25"
            ]
          },
          "execution_count": 63,
          "metadata": {},
          "output_type": "execute_result"
        }
      ],
      "source": [
        "arr_2d[1][1]  # 1. satır ve 1. sütundaki eleman"
      ]
    },
    {
      "cell_type": "code",
      "execution_count": null,
      "metadata": {
        "id": "7FAKZA0rRLKV"
      },
      "outputs": [],
      "source": [
        ""
      ]
    },
    {
      "cell_type": "markdown",
      "metadata": {
        "id": "mJrUMfffRLKW"
      },
      "source": [
        "### <p style=\"background-color:#9d4f8c; font-family:newtimeroman; color:#FFF9ED; font-size:150%; text-align:LEFT; border-radius:10px 10px;\">Slicing a 2D Array (Matrices)</p>\n",
        "\n",
        "<a id=\"1.3\"></a>\n",
        "<a href=\"#toc\" class=\"btn btn-primary btn-sm\" role=\"button\" aria-pressed=\"true\" \n",
        "style=\"color:blue; background-color:#dfa8e4\" data-toggle=\"popover\">Content</a>\n",
        "\n",
        "If you know how to select subsets of Python lists, you know most of what you need to know about ndarray slicing. The elements of the array being indexed that correspond to the elements of the indexing object are returned in a new array. The most important aspect of indexing is to remember that there is more than one dimension, and the indexing method should be able to handle these other dimensions.\n",
        "\n",
        "![image-2.png](https://i.ibb.co/64DGhj7/Numpy-index.jpg)\n",
        "\n",
        "[SOURCE](https://www.google.com/url?sa=i&url=https%3A%2F%2Fstackoverflow.com%2Fquestions%2F16096753%2Fpython-array-slicing-how-can-2d-array-slicing-be-implemented&psig=AOvVaw0cHqeY-itYpRm19imsEBuR&ust=1644054927553000&source=images&cd=vfe&ved=0CAwQjhxqFwoTCNiUt4vk5fUCFQAAAAAdAAAAABAD)"
      ]
    },
    {
      "cell_type": "code",
      "execution_count": null,
      "metadata": {
        "id": "bonwCpvxRLKW",
        "outputId": "a7ed91d1-1bf7-4be9-d8a5-e84cc48bf64c"
      },
      "outputs": [
        {
          "data": {
            "text/plain": [
              "array([[ 5, 10, 15],\n",
              "       [20, 25, 30],\n",
              "       [35, 40, 45]])"
            ]
          },
          "execution_count": 64,
          "metadata": {},
          "output_type": "execute_result"
        }
      ],
      "source": [
        "arr_2d"
      ]
    },
    {
      "cell_type": "code",
      "execution_count": null,
      "metadata": {
        "id": "8hblkgW4RLKX",
        "outputId": "6d202052-05d0-4d77-f6a1-f85cb8c95fcb"
      },
      "outputs": [
        {
          "data": {
            "text/plain": [
              "array([[10, 15],\n",
              "       [25, 30]])"
            ]
          },
          "execution_count": 65,
          "metadata": {},
          "output_type": "execute_result"
        }
      ],
      "source": [
        "# İki boyutlu arraylerde slicelamada da önce satır, sonra sütun aralıkları yazılmalıdır.\n",
        "\n",
        "arr_2d[:2,1:]  # Baştan ikinci indexe kadar olan satırlar ile bu satırların baştan 2. indexine kadar olan sütunlarını verir."
      ]
    },
    {
      "cell_type": "code",
      "execution_count": null,
      "metadata": {
        "id": "iFOCwWmQRLKY",
        "outputId": "bcb976a3-c5f1-41ff-88b6-ed3ba7a088b0"
      },
      "outputs": [
        {
          "data": {
            "text/plain": [
              "array([35, 40])"
            ]
          },
          "execution_count": 66,
          "metadata": {},
          "output_type": "execute_result"
        }
      ],
      "source": [
        "arr_2d[2,:2]  # Bikinci satırın baştan 2. indexine kadar olan kısmını verir."
      ]
    },
    {
      "cell_type": "code",
      "execution_count": null,
      "metadata": {
        "id": "HqXDmnbrRLKZ"
      },
      "outputs": [],
      "source": [
        "arr_2d[1,:1] = 55  # Bu şekilde slicelama ile aldığımız parçadaki değerleri kalıcı olarak başka bir değer ile değiştirebiliriz."
      ]
    },
    {
      "cell_type": "code",
      "execution_count": null,
      "metadata": {
        "id": "ZDlBf3WdRLKZ",
        "outputId": "d7381cc9-9542-4834-8b46-dd437d37025a"
      },
      "outputs": [
        {
          "data": {
            "text/plain": [
              "array([[ 5, 10, 15],\n",
              "       [55, 25, 30],\n",
              "       [35, 40, 45]])"
            ]
          },
          "execution_count": 68,
          "metadata": {},
          "output_type": "execute_result"
        }
      ],
      "source": [
        "arr_2d"
      ]
    },
    {
      "cell_type": "code",
      "execution_count": null,
      "metadata": {
        "id": "bEj75yJRRLKa"
      },
      "outputs": [],
      "source": [
        "arr_2d[1,:1] = 5.5  # float değer atadığınızda arrayin default değeri int olduğu için int'a çevirerek atar."
      ]
    },
    {
      "cell_type": "code",
      "execution_count": null,
      "metadata": {
        "id": "lZ0DI4-7RLKb",
        "outputId": "aa9515e5-6bc0-44cb-b73a-e7deb563077a"
      },
      "outputs": [
        {
          "data": {
            "text/plain": [
              "array([[ 5, 10, 15],\n",
              "       [ 5, 25, 30],\n",
              "       [35, 40, 45]])"
            ]
          },
          "execution_count": 70,
          "metadata": {},
          "output_type": "execute_result"
        }
      ],
      "source": [
        "arr_2d"
      ]
    },
    {
      "cell_type": "code",
      "execution_count": null,
      "metadata": {
        "id": "opCggmCYRLKb"
      },
      "outputs": [],
      "source": [
        ""
      ]
    },
    {
      "cell_type": "markdown",
      "metadata": {
        "id": "Hjyd3uo3EOr3"
      },
      "source": [
        "### <p style=\"background-color:#9d4f8c; font-family:newtimeroman; color:#FFF9ED; font-size:150%; text-align:LEFT; border-radius:10px 10px;\">Fancy Indexing</p>\n",
        "\n",
        "<a id=\"1.4\"></a>\n",
        "<a href=\"#toc\" class=\"btn btn-primary btn-sm\" role=\"button\" aria-pressed=\"true\" \n",
        "style=\"color:blue; background-color:#dfa8e4\" data-toggle=\"popover\">Content</a>\n",
        "\n",
        "Fancy indexing is conceptually simple: it means passing an array of indices to access multiple array elements at once [SOURCE](https://jakevdp.github.io/PythonDataScienceHandbook/02.07-fancy-indexing.html#:~:text=Fancy%20indexing%20is%20conceptually%20simple,random.). In Fancy Indexing, we pass array of indices instead of single scalar(numbers) to fetch elements at different index points. Remember that the shape of the output depends on the shape of the index arrays rather than the shape of the array being indexed. [SOURCE01](https://www.google.com/url?sa=i&url=https%3A%2F%2Ftahamaddam.com%2Fcoding%2Fnumpy%2Fnumpy-fancy-indexing%2F&psig=AOvVaw3D06ReHkWL4NNeBSEHNddn&ust=1644055555472000&source=images&cd=vfe&ved=0CAwQjhxqFwoTCPDY4bTm5fUCFQAAAAAdAAAAABAD), [SOURCE02](https://www.google.com/url?sa=i&url=https%3A%2F%2Fstackoverflow.com%2Fquestions%2F52485840%2Fnumpy-fancy-indexing-with-tuples%3Frq%3D1&psig=AOvVaw3D06ReHkWL4NNeBSEHNddn&ust=1644055555472000&source=images&cd=vfe&ved=0CAwQjhxqFwoTCPDY4bTm5fUCFQAAAAAdAAAAABAO), [VIDEO SOURCE](https://www.youtube.com/watch?v=WpXH4PzDtYA)\n",
        "\n",
        "Fancy indexing allows you to select entire rows or columns out of order, to show this, let's quickly build out a numpy array:"
      ]
    },
    {
      "cell_type": "code",
      "execution_count": null,
      "metadata": {
        "id": "IDpcxzE1RLKd",
        "outputId": "301a65f7-aaeb-4aca-835a-88b7dcab7b4f"
      },
      "outputs": [
        {
          "data": {
            "text/plain": [
              "array([ 0,  3,  6,  9, 12, 15, 18, 21, 24, 27])"
            ]
          },
          "execution_count": 72,
          "metadata": {},
          "output_type": "execute_result"
        }
      ],
      "source": [
        "v= np.arange(0,30,3)\n",
        "v"
      ]
    },
    {
      "cell_type": "code",
      "execution_count": null,
      "metadata": {
        "id": "QQJ6078vRLKd",
        "outputId": "2257fb80-f70a-459b-dd0d-45508f6916d1"
      },
      "outputs": [
        {
          "data": {
            "text/plain": [
              "array([ 3,  9, 15])"
            ]
          },
          "execution_count": 73,
          "metadata": {},
          "output_type": "execute_result"
        }
      ],
      "source": [
        "# Aynı anda farklı kolon ve/veya sütunları/değerleri seçmek için fancy indexing kullanılır.\n",
        "\n",
        "v[[1, 3, 5]]  # Ör: tek boyutlu array de 1, 3 ve 5. indexteki değerleri getirir."
      ]
    },
    {
      "cell_type": "code",
      "execution_count": null,
      "metadata": {
        "id": "hIKDM5YYRLKe",
        "outputId": "644772cc-9221-411d-80b5-a2376315ea73"
      },
      "outputs": [
        {
          "data": {
            "text/plain": [
              "array([[0, 0, 0, 0, 0, 0, 0, 0, 0, 0],\n",
              "       [0, 0, 0, 0, 0, 0, 0, 0, 0, 0],\n",
              "       [0, 0, 0, 0, 0, 0, 0, 0, 0, 0],\n",
              "       [0, 0, 0, 0, 0, 0, 0, 0, 0, 0],\n",
              "       [0, 0, 0, 0, 0, 0, 0, 0, 0, 0],\n",
              "       [0, 0, 0, 0, 0, 0, 0, 0, 0, 0],\n",
              "       [0, 0, 0, 0, 0, 0, 0, 0, 0, 0],\n",
              "       [0, 0, 0, 0, 0, 0, 0, 0, 0, 0],\n",
              "       [0, 0, 0, 0, 0, 0, 0, 0, 0, 0],\n",
              "       [0, 0, 0, 0, 0, 0, 0, 0, 0, 0]])"
            ]
          },
          "execution_count": 74,
          "metadata": {},
          "output_type": "execute_result"
        }
      ],
      "source": [
        "arr2d = np.zeros((10,10), dtype=int)\n",
        "arr2d"
      ]
    },
    {
      "cell_type": "code",
      "execution_count": null,
      "metadata": {
        "id": "--VyaaXiRLKf",
        "outputId": "bfabed49-f4e9-45ce-83d7-9f2be92a026a"
      },
      "outputs": [
        {
          "data": {
            "text/plain": [
              "array([[0, 0, 0, 0, 0, 0, 0, 0, 0, 0],\n",
              "       [1, 1, 1, 1, 1, 1, 1, 1, 1, 1],\n",
              "       [2, 2, 2, 2, 2, 2, 2, 2, 2, 2],\n",
              "       [3, 3, 3, 3, 3, 3, 3, 3, 3, 3],\n",
              "       [4, 4, 4, 4, 4, 4, 4, 4, 4, 4],\n",
              "       [5, 5, 5, 5, 5, 5, 5, 5, 5, 5],\n",
              "       [6, 6, 6, 6, 6, 6, 6, 6, 6, 6],\n",
              "       [7, 7, 7, 7, 7, 7, 7, 7, 7, 7],\n",
              "       [8, 8, 8, 8, 8, 8, 8, 8, 8, 8],\n",
              "       [9, 9, 9, 9, 9, 9, 9, 9, 9, 9]])"
            ]
          },
          "execution_count": 76,
          "metadata": {},
          "output_type": "execute_result"
        }
      ],
      "source": [
        "for i in range(len(arr2d)):\n",
        "    arr2d[i]=i\n",
        "\n",
        "arr2d"
      ]
    },
    {
      "cell_type": "code",
      "execution_count": null,
      "metadata": {
        "id": "VZBxebXORLKg",
        "outputId": "588fc4b7-86a3-4156-972c-f1d35fbd4c4f"
      },
      "outputs": [
        {
          "data": {
            "text/plain": [
              "array([2, 2, 2, 2, 2, 2, 2, 2, 2, 2])"
            ]
          },
          "execution_count": 77,
          "metadata": {},
          "output_type": "execute_result"
        }
      ],
      "source": [
        "arr2d[2]  # arr2d arrayinin 2. satırı"
      ]
    },
    {
      "cell_type": "markdown",
      "metadata": {
        "id": "ZTDDLbAIEOr6"
      },
      "source": [
        "Fancy indexing allows the following"
      ]
    },
    {
      "cell_type": "code",
      "execution_count": null,
      "metadata": {
        "id": "T2ttZIIeRLKi",
        "outputId": "a545bcab-f7cf-4364-8fd1-cc5c18efee71"
      },
      "outputs": [
        {
          "data": {
            "text/plain": [
              "array([[1, 1, 1, 1, 1, 1, 1, 1, 1, 1],\n",
              "       [3, 3, 3, 3, 3, 3, 3, 3, 3, 3],\n",
              "       [5, 5, 5, 5, 5, 5, 5, 5, 5, 5]])"
            ]
          },
          "execution_count": 78,
          "metadata": {},
          "output_type": "execute_result"
        }
      ],
      "source": [
        "arr2d[[1,3,5]]  # arr2d arrayinin 1, 3, 5. satırı "
      ]
    },
    {
      "cell_type": "code",
      "execution_count": null,
      "metadata": {
        "id": "JR4v4ZoRRLKi",
        "outputId": "0c0f22c7-3438-4301-88dd-ba403280f63a"
      },
      "outputs": [
        {
          "data": {
            "text/plain": [
              "array([[7, 7, 7, 7, 7, 7, 7, 7, 7, 7],\n",
              "       [5, 5, 5, 5, 5, 5, 5, 5, 5, 5],\n",
              "       [2, 2, 2, 2, 2, 2, 2, 2, 2, 2]])"
            ]
          },
          "execution_count": 79,
          "metadata": {},
          "output_type": "execute_result"
        }
      ],
      "source": [
        "arr2d[[7,5,2]]  # arr2d arrayinin 7, 5, 2. satırı (yazdığımız sırayla)"
      ]
    },
    {
      "cell_type": "code",
      "execution_count": null,
      "metadata": {
        "id": "0Qe0bxI9RLKj"
      },
      "outputs": [],
      "source": [
        ""
      ]
    },
    {
      "cell_type": "markdown",
      "metadata": {
        "id": "uF0orNo5EOr6"
      },
      "source": [
        "<h3>any_array[[row indices], [column indices]]</h3>"
      ]
    },
    {
      "cell_type": "code",
      "execution_count": null,
      "metadata": {
        "id": "qr0jDFsORLKk",
        "outputId": "e720566f-70d9-41c6-ce25-dfe45537743d"
      },
      "outputs": [
        {
          "data": {
            "text/plain": [
              "array([[ 1,  2,  3,  4],\n",
              "       [ 5,  6,  7,  8],\n",
              "       [ 9, 10, 11, 12],\n",
              "       [13, 14, 15, 16]])"
            ]
          },
          "execution_count": 83,
          "metadata": {},
          "output_type": "execute_result"
        }
      ],
      "source": [
        "jj = np.arange(1,17).reshape(4,4)\n",
        "jj"
      ]
    },
    {
      "cell_type": "code",
      "execution_count": null,
      "metadata": {
        "id": "0W4kKLt5RLKl",
        "outputId": "b2e3459b-5a95-49d7-b16f-66a3d2bd8e81"
      },
      "outputs": [
        {
          "data": {
            "text/plain": [
              "array([ 5, 12])"
            ]
          },
          "execution_count": 85,
          "metadata": {},
          "output_type": "execute_result"
        }
      ],
      "source": [
        "# İki boyutlu arraylerde fancy index yöntemiyle satır indexleri ve sütun indexleri de belirtilerek noktasal değerlere ulaşılabilir.\n",
        "\n",
        "jj[[1,2],[0,3]]  # 1. satırın 0. elemanı, 2. satırın 3. elemanı"
      ]
    },
    {
      "cell_type": "code",
      "execution_count": null,
      "metadata": {
        "id": "gc_NK72fRLKm",
        "outputId": "6919f965-bdb4-4787-b1f8-2df511be4eff"
      },
      "outputs": [
        {
          "data": {
            "text/plain": [
              "array([ 5, 12,  3])"
            ]
          },
          "execution_count": 86,
          "metadata": {},
          "output_type": "execute_result"
        }
      ],
      "source": [
        "jj[[1,2,0],[0,3,2]]  # 1. satırın 0. elemanı, 2. satırın 3. elemanı, 0. satırın 2. elemanı"
      ]
    },
    {
      "cell_type": "code",
      "execution_count": null,
      "metadata": {
        "id": "ioyYbK3YRLKm"
      },
      "outputs": [],
      "source": [
        ""
      ]
    },
    {
      "cell_type": "markdown",
      "metadata": {
        "id": "nnT2nQpmEOr7"
      },
      "source": [
        "### <p style=\"background-color:#9d4f8c; font-family:newtimeroman; color:#FFF9ED; font-size:150%; text-align:LEFT; border-radius:10px 10px;\">Using ***Basic Index*** & ***Fancy Index*** Together</p>\n",
        "\n",
        "<a id=\"1.5\"></a>\n",
        "<a href=\"#toc\" class=\"btn btn-primary btn-sm\" role=\"button\" aria-pressed=\"true\" \n",
        "style=\"color:blue; background-color:#dfa8e4\" data-toggle=\"popover\">Content</a>\n",
        "\n"
      ]
    },
    {
      "cell_type": "code",
      "execution_count": null,
      "metadata": {
        "id": "Eh4eeQknRLKo",
        "outputId": "014a6d7d-45c9-4b7e-cd36-e53020778750"
      },
      "outputs": [
        {
          "data": {
            "text/plain": [
              "array([[ 1,  2,  3,  4],\n",
              "       [ 5,  6,  7,  8],\n",
              "       [ 9, 10, 11, 12],\n",
              "       [13, 14, 15, 16]])"
            ]
          },
          "execution_count": 87,
          "metadata": {},
          "output_type": "execute_result"
        }
      ],
      "source": [
        "jj"
      ]
    },
    {
      "cell_type": "code",
      "execution_count": null,
      "metadata": {
        "id": "NPrxmP7vRLKo",
        "outputId": "5c9037d0-35c5-47be-8002-19ada2677393"
      },
      "outputs": [
        {
          "data": {
            "text/plain": [
              "array([6, 8])"
            ]
          },
          "execution_count": 88,
          "metadata": {},
          "output_type": "execute_result"
        }
      ],
      "source": [
        "# Bazen bascin index ile fancy index metodu birlikte kullanılabilir.\n",
        "\n",
        "jj[1,[1,3]]  # 1. satırın 1. elemanı, 1. satırın 3. elemanı    "
      ]
    },
    {
      "cell_type": "code",
      "execution_count": null,
      "metadata": {
        "id": "9pWgZpoORLKp",
        "outputId": "87be278e-f889-423d-c838-b8a13b69814f"
      },
      "outputs": [
        {
          "data": {
            "text/plain": [
              "array([6, 8])"
            ]
          },
          "execution_count": 183,
          "metadata": {},
          "output_type": "execute_result"
        }
      ],
      "source": [
        "# veya \n",
        "\n",
        "jj[[1],[1,3]]  # satır indexi köşeli parantez içinde de yazılabilir."
      ]
    },
    {
      "cell_type": "markdown",
      "metadata": {
        "id": "V9EwT91qEOr8"
      },
      "source": [
        "### <p style=\"background-color:#9d4f8c; font-family:newtimeroman; color:#FFF9ED; font-size:150%; text-align:LEFT; border-radius:10px 10px;\">Using ***Basic Slicing*** & ***Fancy Index*** Together</p>\n",
        "\n",
        "<a id=\"1.6\"></a>\n",
        "<a href=\"#toc\" class=\"btn btn-primary btn-sm\" role=\"button\" aria-pressed=\"true\" \n",
        "style=\"color:blue; background-color:#dfa8e4\" data-toggle=\"popover\">Content</a>\n"
      ]
    },
    {
      "cell_type": "code",
      "execution_count": null,
      "metadata": {
        "id": "HEvotHhFRLKq",
        "outputId": "ce1ca3d5-cfb0-4fcb-b3bc-f034a35f45f5"
      },
      "outputs": [
        {
          "data": {
            "text/plain": [
              "array([[ 1,  2,  3,  4],\n",
              "       [ 5,  6,  7,  8],\n",
              "       [ 9, 10, 11, 12],\n",
              "       [13, 14, 15, 16]])"
            ]
          },
          "execution_count": 89,
          "metadata": {},
          "output_type": "execute_result"
        }
      ],
      "source": [
        "jj"
      ]
    },
    {
      "cell_type": "code",
      "execution_count": null,
      "metadata": {
        "id": "8YzJpq9RRLKr",
        "outputId": "3857381b-2be6-42d4-e7e6-4a2430de0546"
      },
      "outputs": [
        {
          "data": {
            "text/plain": [
              "array([[ 2,  4],\n",
              "       [ 6,  8],\n",
              "       [10, 12],\n",
              "       [14, 16]])"
            ]
          },
          "execution_count": 92,
          "metadata": {},
          "output_type": "execute_result"
        }
      ],
      "source": [
        "# Basic slicing ve fancy index te birlikte kullanılabilir.\n",
        "\n",
        "jj[:,[1,3]]  # tüm satırların 1. ve 3. sütunları"
      ]
    },
    {
      "cell_type": "code",
      "execution_count": null,
      "metadata": {
        "id": "zZrbjFtZRLKs",
        "outputId": "f3eab2f4-14da-43a4-a196-03bd6117d904"
      },
      "outputs": [
        {
          "data": {
            "text/plain": [
              "array([[ 6,  8],\n",
              "       [10, 12]])"
            ]
          },
          "execution_count": 93,
          "metadata": {},
          "output_type": "execute_result"
        }
      ],
      "source": [
        "jj[1:3,[1,3]]  # 1-3. satırların 1. ve 3. sütunları"
      ]
    },
    {
      "cell_type": "code",
      "execution_count": null,
      "metadata": {
        "id": "feKNit-_RLKt",
        "outputId": "0ae8c719-af6f-4389-f31b-cdb57f89d8c4"
      },
      "outputs": [
        {
          "data": {
            "text/plain": [
              "array([[ 6,  7],\n",
              "       [10, 11]])"
            ]
          },
          "execution_count": 94,
          "metadata": {},
          "output_type": "execute_result"
        }
      ],
      "source": [
        "jj[1:3,1:3]  # 1-3. satırların 1-3. sütunları"
      ]
    },
    {
      "cell_type": "code",
      "execution_count": null,
      "metadata": {
        "id": "xixMmnCJRLKt",
        "outputId": "24c6d4e8-f399-4994-bb1b-f69aa13b2c6b"
      },
      "outputs": [
        {
          "data": {
            "text/plain": [
              "array([[ 6,  7],\n",
              "       [10, 11],\n",
              "       [14, 15]])"
            ]
          },
          "execution_count": 96,
          "metadata": {},
          "output_type": "execute_result"
        }
      ],
      "source": [
        "jj[1:,1:3]  # 1. satır ve sonrasının 1-3. sütunları"
      ]
    },
    {
      "cell_type": "code",
      "execution_count": null,
      "metadata": {
        "id": "u85MGpgmRLKu"
      },
      "outputs": [],
      "source": [
        ""
      ]
    },
    {
      "cell_type": "markdown",
      "metadata": {
        "id": "StVz_DG2EOr8"
      },
      "source": [
        "### <p style=\"background-color:#9d4f8c; font-family:newtimeroman; color:#FFF9ED; font-size:150%; text-align:LEFT; border-radius:10px 10px;\">More Indexing Help</p>\n",
        "\n",
        "<a id=\"1.7\"></a>\n",
        "<a href=\"#toc\" class=\"btn btn-primary btn-sm\" role=\"button\" aria-pressed=\"true\" \n",
        "style=\"color:blue; background-color:#dfa8e4\" data-toggle=\"popover\">Content</a>\n",
        "\n",
        "\n",
        "Indexing a 2d matrix can be a bit confusing at first, especially when you start to add in step size. Try google image searching NumPy indexing to find useful images.\n",
        "\n",
        "![image.png](https://i.ibb.co/xmcGm9C/numpy-index1.png)\n",
        "\n",
        "[SOURCE](https://www.google.com/url?sa=i&url=https%3A%2F%2Fscipy-lectures.org%2Fintro%2Fnumpy%2Farray_object.html&psig=AOvVaw21eb1iMrmWndUhejWXLkY-&ust=1644056657663000&source=images&cd=vfe&ved=0CAwQjhxqFwoTCICAqr_q5fUCFQAAAAAdAAAAABAD)\n",
        "\n",
        "Numpy arrays can be indexed with slices, but also with boolean or integer arrays (masks). This method is called fancy indexing. It creates copies not views. [SOURCE](http://cs-tklab.na-inet.jp/~tkouya/python/scipy-lectures/intro/numpy/array_object.html)\n",
        "\n",
        "![image-2.png](https://i.ibb.co/bHYsGLb/numpy-indexing-1.png)"
      ]
    },
    {
      "cell_type": "markdown",
      "metadata": {
        "id": "PuAMbPrhEOr8"
      },
      "source": [
        "## <p style=\"background-color:#9d4f8c; font-family:newtimeroman; color:#FFF9ED; font-size:175%; text-align:center; border-radius:10px 10px;\">Selection on a Condition</p>\n",
        "\n",
        "<a id=\"2\"></a>\n",
        "<a href=\"#toc\" class=\"btn btn-primary btn-sm\" role=\"button\" aria-pressed=\"true\" \n",
        "style=\"color:blue; background-color:#dfa8e4\" data-toggle=\"popover\">Content</a>\n",
        "\n",
        "Let's briefly go over how to use brackets for selection based off of comparison operators."
      ]
    },
    {
      "cell_type": "code",
      "execution_count": null,
      "metadata": {
        "id": "zukIzCupRLKw",
        "outputId": "eeb27956-6f95-4412-983b-8ec0c8b26032"
      },
      "outputs": [
        {
          "data": {
            "text/plain": [
              "array([ 0,  1,  2,  3,  4,  5,  6,  7,  8,  9, 10])"
            ]
          },
          "execution_count": 100,
          "metadata": {},
          "output_type": "execute_result"
        }
      ],
      "source": [
        "arr"
      ]
    },
    {
      "cell_type": "code",
      "execution_count": null,
      "metadata": {
        "id": "LwkWGCAgRLKx",
        "outputId": "1099cfe1-bb0a-41fc-8f4a-e0a75d3b3e74"
      },
      "outputs": [
        {
          "data": {
            "text/plain": [
              "array([False, False, False, False, False,  True,  True,  True,  True,\n",
              "        True,  True])"
            ]
          },
          "execution_count": 101,
          "metadata": {},
          "output_type": "execute_result"
        }
      ],
      "source": [
        "# bir array'e bir condition uygulandığında arrayin elemanlarının teker teker bu koşulu sağlayıp sağlamadığı\n",
        "# kontrol edilerek array sayısı kadar boolean değer içeren bir array oluşturulur.\n",
        "# Ör:\n",
        "\n",
        "arr > 4  # arr nin elamanları için bu koşul kontrol edilerek uyanlar için True, uymayanlar için False değer içeren bir array elde ettik."
      ]
    },
    {
      "cell_type": "code",
      "execution_count": null,
      "metadata": {
        "id": "i1chwgUeRLKy",
        "outputId": "d04a513b-0781-431d-a96e-9d696e43f159"
      },
      "outputs": [
        {
          "data": {
            "text/plain": [
              "array([ 5,  6,  7,  8,  9, 10])"
            ]
          },
          "execution_count": 102,
          "metadata": {},
          "output_type": "execute_result"
        }
      ],
      "source": [
        "arr[arr > 4]  # bu koşulu [] içinde arr'nin yanına yazdığımızda bu koşulu sağlayan elemanlarını içeren bir array elde ederiz."
      ]
    },
    {
      "cell_type": "code",
      "execution_count": null,
      "metadata": {
        "id": "4sAhqAArRLKz",
        "outputId": "47aeb5db-b28f-423d-bb1b-7fc5a35f0f9b"
      },
      "outputs": [
        {
          "data": {
            "text/plain": [
              "array([ 0,  1,  2,  8,  9, 10])"
            ]
          },
          "execution_count": 103,
          "metadata": {},
          "output_type": "execute_result"
        }
      ],
      "source": [
        "arr[(arr < 3) | (arr > 7)]  # bazen birden fazla condition da uygulamak gerekebilir."
      ]
    },
    {
      "cell_type": "code",
      "execution_count": null,
      "metadata": {
        "id": "Xm3Cyk2QRLKz",
        "outputId": "d9e3b2e7-7a38-4b44-d781-11566ebaa606"
      },
      "outputs": [
        {
          "data": {
            "text/plain": [
              "array([ 0,  1,  2,  8, 10])"
            ]
          },
          "execution_count": 104,
          "metadata": {},
          "output_type": "execute_result"
        }
      ],
      "source": [
        "arr[(arr < 3) | (arr > 7) & (arr!=9)]"
      ]
    },
    {
      "cell_type": "code",
      "execution_count": null,
      "metadata": {
        "id": "1adGZisjRLK0"
      },
      "outputs": [],
      "source": [
        ""
      ]
    },
    {
      "cell_type": "markdown",
      "metadata": {
        "id": "q2LJLRlxEOrx"
      },
      "source": [
        "## <p style=\"background-color:#9d4f8c; font-family:newtimeroman; color:#FFF9ED; font-size:175%; text-align:center; border-radius:10px 10px;\">Broadcasting</p>\n",
        "\n",
        "<a id=\"3\"></a>\n",
        "<a href=\"#toc\" class=\"btn btn-primary btn-sm\" role=\"button\" aria-pressed=\"true\" \n",
        "style=\"color:blue; background-color:#dfa8e4\" data-toggle=\"popover\">Content</a>\n",
        "\n",
        "Numpy arrays differ from a normal Python list because of their ability to broadcast [SOURCE](https://numpy.org/doc/stable/user/theory.broadcasting.html).<br>\n",
        "\n",
        "**``Broadcasting``** is the name given to the method that NumPy uses to allow array arithmetic between arrays with a different shape or size [SOURCE](https://machinelearningmastery.com/broadcasting-with-numpy-arrays/#:~:text=Broadcasting%20is%20the%20name%20given,a%20different%20shape%20or%20size.&text=Subject%20to%20certain%20constraints%2C%20the,that%20they%20have%20compatible%20shapes.).<br>\n",
        "\n",
        "The term broadcasting describes how numpy treats arrays with different shapes during arithmetic operations. Subject to certain constraints, the smaller array is **``broadcast``** across the larger array so that they have compatible shapes. Broadcasting provides a means of vectorizing array operations so that looping occurs in C instead of Python. It does this without making needless copies of data and usually leads to efficient algorithm implementations. There are, however, cases where broadcasting is a bad idea because it leads to inefficient use of memory that slows computation [SOURCE](https://docs.scipy.org/doc/numpy-1.13.0/user/basics.broadcasting.html).<br> \n",
        "\n",
        "Broadcasting is an operation of matching the dimensions of differently shaped arrays in order to be able to perform further operations on those arrays (eg per-element aritmetic) [SOURCE01](https://towardsdatascience.com/broadcasting-in-numpy-58856f926d73), [SOURCE02](https://towardsdatascience.com/a-numpy-affair-broadcasting-ead20d9661f).<br>\n",
        "\n",
        "**NumPy Broadcasting Limitations**<br>\n",
        "Broadcasting is a very easy and handy tool when working with Numpy arrays. Although, there are many rules and restrictions to perform the operations.\n",
        "\n",
        "There are constraints on the dimension and shape of the arrays. We can perform broadcasting in cases where both the arrays have the same shape or only if either of the two has a size of 1. Also, we have to consider the dimensions in reverse order. We count it from the trailing dimension [SOURCE](https://data-flair.training/blogs/numpy-broadcasting/).<br>\n",
        "\n",
        "Be informed about the discussion on [When broadcasting is a bad idea? (numpy)](https://stackoverflow.com/questions/47309818/when-broadcasting-is-a-bad-idea-numpy) at Stackoverflow.\n",
        "\n",
        "More Sources: [SOURCE01](https://inblog.in/Broadcasting-in-Numpy-A-Complete-Guide-jfKy2vzHiY), [SOURCE02](https://www.pluralsight.com/guides/broadcasting-numpy-arrays-arithmeetic-operations), [SOURCE03](https://www.geeksforgeeks.org/python-broadcasting-with-numpy-arrays/), [SOURCE04](https://www.askpython.com/python-modules/numpy/numpy-broadcasting), [SOURCE05](https://stackoverflow.com/questions/32832923/numpy-what-is-broadcasting), [SOURCE06](https://stackoverflow.com/questions/61090539/how-can-i-use-broadcasting-with-numpy-to-speed-up-this-correlation-calculation), [SOURCE07](https://stackoverflow.com/questions/68185016/numpy-broadcasting-two-arrays-of-different-shape-to-matrix), [SOURCE08](https://stackoverflow.com/questions/50569344/broadcasting-using-numpys-sum-function)"
      ]
    },
    {
      "cell_type": "code",
      "execution_count": null,
      "metadata": {
        "id": "ytvtuO2SRLK1",
        "outputId": "1a40b4d7-37a3-4159-b1c3-7f47a9a06126"
      },
      "outputs": [
        {
          "data": {
            "text/plain": [
              "array([ 0,  1,  2,  3,  4,  5,  6,  7,  8,  9, 10])"
            ]
          },
          "execution_count": 105,
          "metadata": {},
          "output_type": "execute_result"
        }
      ],
      "source": [
        "arr"
      ]
    },
    {
      "cell_type": "code",
      "execution_count": null,
      "metadata": {
        "id": "MWqULBHZRLK2"
      },
      "outputs": [],
      "source": [
        "arr[:5] = 77  # arrayin belirli bir bölümünü alıp değerlerini değiştirebiliriz."
      ]
    },
    {
      "cell_type": "code",
      "execution_count": null,
      "metadata": {
        "id": "KfKS-YJqRLK3",
        "outputId": "8971fa7b-3c4a-4613-eb3f-23282f560b0d"
      },
      "outputs": [
        {
          "data": {
            "text/plain": [
              "array([77, 77, 77, 77, 77,  5,  6,  7,  8,  9, 10])"
            ]
          },
          "execution_count": 107,
          "metadata": {},
          "output_type": "execute_result"
        }
      ],
      "source": [
        "arr"
      ]
    },
    {
      "cell_type": "code",
      "execution_count": null,
      "metadata": {
        "id": "3KOklDjVRLK4"
      },
      "outputs": [],
      "source": [
        ""
      ]
    },
    {
      "cell_type": "markdown",
      "metadata": {
        "id": "DRMk8hpoEOr0"
      },
      "source": [
        "Now **``note``** that the changes also occur in our original array!"
      ]
    },
    {
      "cell_type": "code",
      "execution_count": null,
      "metadata": {
        "id": "dDkEGVYwRLK4"
      },
      "outputs": [],
      "source": [
        "arr = np.arange(11)"
      ]
    },
    {
      "cell_type": "code",
      "execution_count": null,
      "metadata": {
        "id": "lveLDoGARLK5",
        "outputId": "38f037eb-7d18-4ade-d338-1fb5cded7238"
      },
      "outputs": [
        {
          "data": {
            "text/plain": [
              "array([ 0,  1,  2,  3,  4,  5,  6,  7,  8,  9, 10])"
            ]
          },
          "execution_count": 110,
          "metadata": {},
          "output_type": "execute_result"
        }
      ],
      "source": [
        "arr"
      ]
    },
    {
      "cell_type": "code",
      "execution_count": null,
      "metadata": {
        "id": "GZ2fZIdBRLK6",
        "outputId": "6dcb09f9-3e02-481b-9cbe-fd4896bd4f6a"
      },
      "outputs": [
        {
          "data": {
            "text/plain": [
              "array([0, 1, 2, 3, 4, 5])"
            ]
          },
          "execution_count": 112,
          "metadata": {},
          "output_type": "execute_result"
        }
      ],
      "source": [
        "arr_slice = arr[:6]\n",
        "\n",
        "arr_slice"
      ]
    },
    {
      "cell_type": "code",
      "execution_count": null,
      "metadata": {
        "id": "v3xuM9zqRLK7",
        "outputId": "5de1c784-3f29-4344-b212-8220bced6990"
      },
      "outputs": [
        {
          "data": {
            "text/plain": [
              "array([55, 55, 55, 55, 55, 55])"
            ]
          },
          "execution_count": 114,
          "metadata": {},
          "output_type": "execute_result"
        }
      ],
      "source": [
        "arr_slice[:] = 55\n",
        "arr_slice"
      ]
    },
    {
      "cell_type": "code",
      "execution_count": null,
      "metadata": {
        "id": "1fevK8eGRLK7",
        "outputId": "d39c4bde-16b9-46e5-c0ea-82e0a761bb13"
      },
      "outputs": [
        {
          "data": {
            "text/plain": [
              "array([55, 55, 55, 55, 55, 55,  6,  7,  8,  9, 10])"
            ]
          },
          "execution_count": 115,
          "metadata": {},
          "output_type": "execute_result"
        }
      ],
      "source": [
        "arr  # arr den kopyaladığım arrayde yaptığım değişiklikler orjinal arrayi de değiştirir."
      ]
    },
    {
      "cell_type": "code",
      "execution_count": null,
      "metadata": {
        "id": "1Yj6TprXRLK8",
        "outputId": "beb8cd63-9b1b-4c43-a1cf-af235e30ad0f"
      },
      "outputs": [
        {
          "data": {
            "text/plain": [
              "array([55, 55, 55, 55, 55, 55,  6,  7,  8,  9, 10])"
            ]
          },
          "execution_count": 116,
          "metadata": {},
          "output_type": "execute_result"
        }
      ],
      "source": [
        "# Bunu engellemek için copy() fonksiyonu ile arrayin kopyasını alarak çalışmalıyız."
      ]
    },
    {
      "cell_type": "code",
      "execution_count": null,
      "metadata": {
        "id": "klSMkc1yRLK9"
      },
      "outputs": [],
      "source": [
        ""
      ]
    },
    {
      "cell_type": "markdown",
      "metadata": {
        "id": "erHJLMDVEOr0"
      },
      "source": [
        "Data is not copied, it's a view of the original array! This avoids memory problems!"
      ]
    },
    {
      "cell_type": "code",
      "execution_count": null,
      "metadata": {
        "id": "LEk9H4-IRLK-",
        "outputId": "0f23f442-3880-4962-803d-9af0f328ed20"
      },
      "outputs": [
        {
          "data": {
            "text/plain": [
              "array([55, 55, 55, 55, 55, 55,  6,  7,  8,  9, 10])"
            ]
          },
          "execution_count": 117,
          "metadata": {},
          "output_type": "execute_result"
        }
      ],
      "source": [
        "#  arrayin kopyasını alarak kopyası üzerinden işlem yaparsanız orjinal arrayde yaptığınız değişiklikler gerçekleşmez.\n",
        "\n",
        "arr_copy=arr.copy()\n",
        "arr_copy"
      ]
    },
    {
      "cell_type": "code",
      "execution_count": null,
      "metadata": {
        "id": "XRPTyF9TRLLA",
        "outputId": "45fc1cfd-ea3e-4c9c-913f-c05529b4efc5"
      },
      "outputs": [
        {
          "data": {
            "text/plain": [
              "array([ 0,  1,  2,  3,  4,  5,  6,  7,  8,  9, 10])"
            ]
          },
          "execution_count": 120,
          "metadata": {},
          "output_type": "execute_result"
        }
      ],
      "source": [
        "arr_copy[:6] = [0,1, 2, 3, 4, 5]\n",
        "arr_copy"
      ]
    },
    {
      "cell_type": "code",
      "execution_count": null,
      "metadata": {
        "id": "bfsP-Ip_RLLB",
        "outputId": "b1d848cd-e0c5-4c67-9920-5a3345575a83"
      },
      "outputs": [
        {
          "data": {
            "text/plain": [
              "array([55, 55, 55, 55, 55, 55,  6,  7,  8,  9, 10])"
            ]
          },
          "execution_count": 121,
          "metadata": {},
          "output_type": "execute_result"
        }
      ],
      "source": [
        "arr"
      ]
    },
    {
      "cell_type": "code",
      "execution_count": null,
      "metadata": {
        "id": "7BCvXJDaRLLC"
      },
      "outputs": [],
      "source": [
        ""
      ]
    },
    {
      "cell_type": "markdown",
      "metadata": {
        "id": "5ZSc-mkWEOr9"
      },
      "source": [
        "## <p style=\"background-color:#9d4f8c; font-family:newtimeroman; color:#FFF9ED; font-size:175%; text-align:center; border-radius:10px 10px;\">Numpy Operations</p>\n",
        "\n",
        "<a id=\"4\"></a>\n",
        "<a href=\"#toc\" class=\"btn btn-primary btn-sm\" role=\"button\" aria-pressed=\"true\" \n",
        "style=\"color:blue; background-color:#dfa8e4\" data-toggle=\"popover\">Content</a>\n",
        "\n",
        "![image.png](https://i.ibb.co/n65mpTL/numpy-operations.png)"
      ]
    },
    {
      "cell_type": "markdown",
      "metadata": {
        "id": "W9C14mPVEOr-"
      },
      "source": [
        "### <p style=\"background-color:#9d4f8c; font-family:newtimeroman; color:#FFF9ED; font-size:150%; text-align:LEFT; border-radius:10px 10px;\">Arithmetic Operations</p>\n",
        "\n",
        "<a id=\"4.1\"></a>\n",
        "<a href=\"#toc\" class=\"btn btn-primary btn-sm\" role=\"button\" aria-pressed=\"true\" \n",
        "style=\"color:blue; background-color:#dfa8e4\" data-toggle=\"popover\">Content</a>\n",
        "\n",
        "#### You can easily perform array with array arithmetic, or scalar with array arithmetic."
      ]
    },
    {
      "cell_type": "code",
      "execution_count": null,
      "metadata": {
        "id": "QU3n5m6sRLLF",
        "outputId": "fd7394ce-0366-442d-b2b7-d6a737fa15ea"
      },
      "outputs": [
        {
          "data": {
            "text/plain": [
              "array([0, 1, 2, 3, 4, 5, 6, 7, 8, 9])"
            ]
          },
          "execution_count": 124,
          "metadata": {},
          "output_type": "execute_result"
        }
      ],
      "source": [
        "arr = np.arange(0,10)\n",
        "arr"
      ]
    },
    {
      "cell_type": "code",
      "execution_count": null,
      "metadata": {
        "id": "UfxJq__kRLLG",
        "outputId": "3a0cd18c-7c42-4bac-e802-54906d169957"
      },
      "outputs": [
        {
          "data": {
            "text/plain": [
              "array([ 0,  2,  4,  6,  8, 10, 12, 14, 16, 18])"
            ]
          },
          "execution_count": 125,
          "metadata": {},
          "output_type": "execute_result"
        }
      ],
      "source": [
        "arr + arr  # bir array başka bir array ile toplanabilir. Bu durumda arraylerin shape leri uyumlu olmalı. element-wise işlem yapar."
      ]
    },
    {
      "cell_type": "code",
      "execution_count": null,
      "metadata": {
        "id": "LjegqSx5RLLH",
        "outputId": "2cef93e5-dd0b-4588-e7d0-8f0b02ad71cb"
      },
      "outputs": [
        {
          "data": {
            "text/plain": [
              "array([0, 0, 0, 0, 0, 0, 0, 0, 0, 0])"
            ]
          },
          "execution_count": 127,
          "metadata": {},
          "output_type": "execute_result"
        }
      ],
      "source": [
        "arr - arr  # bir array başka bir arrayden çıkarılabilir."
      ]
    },
    {
      "cell_type": "code",
      "execution_count": null,
      "metadata": {
        "id": "wz8dhOPoRLLJ",
        "outputId": "7f684655-6464-49ce-a04e-1bc6ce32c73d"
      },
      "outputs": [
        {
          "data": {
            "text/plain": [
              "array([ 0,  1,  4,  9, 16, 25, 36, 49, 64, 81])"
            ]
          },
          "execution_count": 128,
          "metadata": {},
          "output_type": "execute_result"
        }
      ],
      "source": [
        "arr * arr # bir array başka bir array ile çarpılabilir."
      ]
    },
    {
      "cell_type": "code",
      "execution_count": null,
      "metadata": {
        "id": "zIzj500JRLLK",
        "outputId": "96684b99-4e9c-4ff2-8ae7-623cd1580d5e"
      },
      "outputs": [
        {
          "data": {
            "text/plain": [
              "array([nan,  1.,  1.,  1.,  1.,  1.,  1.,  1.,  1.,  1.])"
            ]
          },
          "execution_count": 130,
          "metadata": {},
          "output_type": "execute_result"
        }
      ],
      "source": [
        "arr / arr # bir array başka bir arraye bölünebilir."
      ]
    },
    {
      "cell_type": "code",
      "execution_count": null,
      "metadata": {
        "id": "23Q8rfCGRLLL"
      },
      "outputs": [],
      "source": [
        "import warnings\n",
        "warnings.filterwarnings('ignore')"
      ]
    },
    {
      "cell_type": "code",
      "execution_count": null,
      "metadata": {
        "id": "8JRRE7tQRLLM",
        "outputId": "9bb21dbf-c73a-4bfd-d7d2-62e81a7857df"
      },
      "outputs": [
        {
          "data": {
            "text/plain": [
              "array([nan,  1.,  1.,  1.,  1.,  1.,  1.,  1.,  1.,  1.])"
            ]
          },
          "execution_count": 131,
          "metadata": {},
          "output_type": "execute_result"
        }
      ],
      "source": [
        "arr / arr"
      ]
    },
    {
      "cell_type": "code",
      "execution_count": null,
      "metadata": {
        "id": "wQYkYy-MRLLN",
        "outputId": "c35cb12e-53b7-4d7a-8e9c-144ebbdb2011"
      },
      "outputs": [
        {
          "data": {
            "text/plain": [
              "array([       inf, 1.        , 0.5       , 0.33333333, 0.25      ,\n",
              "       0.2       , 0.16666667, 0.14285714, 0.125     , 0.11111111])"
            ]
          },
          "execution_count": 132,
          "metadata": {},
          "output_type": "execute_result"
        }
      ],
      "source": [
        "1 / arr  # bir sayıyı bir arraye bölebilirsiniz."
      ]
    },
    {
      "cell_type": "code",
      "execution_count": null,
      "metadata": {
        "id": "BBJMplO1RLLO",
        "outputId": "409a2cba-c275-4eb1-d44c-67b26a14f03f"
      },
      "outputs": [
        {
          "data": {
            "text/plain": [
              "array([ 0,  1,  4,  9, 16, 25, 36, 49, 64, 81], dtype=int32)"
            ]
          },
          "execution_count": 133,
          "metadata": {},
          "output_type": "execute_result"
        }
      ],
      "source": [
        "arr ** 2  # bir arrayin istediğiniz kuvvetini alabilirsiniz. "
      ]
    },
    {
      "cell_type": "code",
      "execution_count": null,
      "metadata": {
        "id": "1v_bOqUdRLLQ",
        "outputId": "a254fa48-8bcf-4d30-e862-a3070ae54cab"
      },
      "outputs": [
        {
          "data": {
            "text/plain": [
              "array([ 1,  2,  3,  4,  5,  6,  7,  8,  9, 10])"
            ]
          },
          "execution_count": 134,
          "metadata": {},
          "output_type": "execute_result"
        }
      ],
      "source": [
        "arr + 1  # bir arrayi başka bir sayı ile toplayabilirsiniz."
      ]
    },
    {
      "cell_type": "code",
      "execution_count": null,
      "metadata": {
        "id": "ANFVkQT7RLLR",
        "outputId": "50188fa0-6b48-47e0-9c26-8512e30589c2"
      },
      "outputs": [
        {
          "data": {
            "text/plain": [
              "array([-5, -4, -3, -2, -1,  0,  1,  2,  3,  4])"
            ]
          },
          "execution_count": 135,
          "metadata": {},
          "output_type": "execute_result"
        }
      ],
      "source": [
        "arr -5  # bir arrayden başka bir sayıyı çıkartabilirsiniz."
      ]
    },
    {
      "cell_type": "code",
      "execution_count": null,
      "metadata": {
        "id": "tWybQsKPRLLS",
        "outputId": "12857590-a725-41d1-cf39-bfa0cdb43fe6"
      },
      "outputs": [
        {
          "data": {
            "text/plain": [
              "array([ 0,  7, 14, 21, 28, 35, 42, 49, 56, 63])"
            ]
          },
          "execution_count": 137,
          "metadata": {},
          "output_type": "execute_result"
        }
      ],
      "source": [
        "arr * 7  # bir arrayi başka bir sayı ile çarpabilirsiniz."
      ]
    },
    {
      "cell_type": "code",
      "execution_count": null,
      "metadata": {
        "id": "xBCGsV1BRLLT",
        "outputId": "171121ba-d81b-4b83-a6cd-c20311561ee0"
      },
      "outputs": [
        {
          "data": {
            "text/plain": [
              "array([        1,         1,         4,        27,       256,      3125,\n",
              "           46656,    823543,  16777216, 387420489], dtype=int32)"
            ]
          },
          "execution_count": 141,
          "metadata": {},
          "output_type": "execute_result"
        }
      ],
      "source": [
        "arr ** arr  # bir arrayin başka bir array ile kuvvetini alabilirsiniz."
      ]
    },
    {
      "cell_type": "code",
      "execution_count": null,
      "metadata": {
        "id": "kkLDGedZRLLU",
        "outputId": "661d46b9-dde8-4117-baa5-72b96bfbbedf"
      },
      "outputs": [
        {
          "data": {
            "text/plain": [
              "array([-1,  0,  1,  2,  3,  4,  5,  6,  7,  8])"
            ]
          },
          "execution_count": 148,
          "metadata": {},
          "output_type": "execute_result"
        }
      ],
      "source": [
        "np.subtract(arr, 1)  # np.subtract()  fonksiyonu içine yazılan arrayleri birbirinden çıkarır. Veya bir array'den bir sayıyı da çıkarabilirsiniz."
      ]
    },
    {
      "cell_type": "code",
      "execution_count": null,
      "metadata": {
        "id": "wI8yhm5dRLLU",
        "outputId": "0b948cfb-1e8e-4de3-8fee-f1d2b9fc5e7d"
      },
      "outputs": [
        {
          "data": {
            "text/plain": [
              "array([ 1,  0, -1, -2, -3, -4, -5, -6, -7, -8])"
            ]
          },
          "execution_count": 149,
          "metadata": {},
          "output_type": "execute_result"
        }
      ],
      "source": [
        "np.subtract(1, arr)  # np.subtract()  fonksiyonu bir sayıdan bi arrayi de çıkarabilirsiniz."
      ]
    },
    {
      "cell_type": "code",
      "execution_count": null,
      "metadata": {
        "id": "HbryGLFrRLLV",
        "outputId": "d7b02607-fd45-4cd1-e872-b36b49d228cb"
      },
      "outputs": [
        {
          "data": {
            "text/plain": [
              "array([ 2,  3,  4,  5,  6,  7,  8,  9, 10, 11])"
            ]
          },
          "execution_count": 150,
          "metadata": {},
          "output_type": "execute_result"
        }
      ],
      "source": [
        "np.add(2, arr)  # np.add() fonksiyonu ile bir array ile bir sayı/arrayi toplayabilirsiniz."
      ]
    },
    {
      "cell_type": "code",
      "execution_count": null,
      "metadata": {
        "id": "TbtY-ViwRLLW",
        "outputId": "dda6ab63-3da0-4a7d-f2f1-5f210a75740f"
      },
      "outputs": [
        {
          "data": {
            "text/plain": [
              "array([0. , 0.5, 1. , 1.5, 2. , 2.5, 3. , 3.5, 4. , 4.5])"
            ]
          },
          "execution_count": 151,
          "metadata": {},
          "output_type": "execute_result"
        }
      ],
      "source": [
        "np.divide(arr, 2)  # np.divide() fonksiyonu ile bir arrayi  bir sayı/arraye bölebilirsiniz."
      ]
    },
    {
      "cell_type": "code",
      "execution_count": null,
      "metadata": {
        "id": "o6id3JSmRLLW",
        "outputId": "90d499b2-7c90-4b1d-fed6-73ba548f40c2"
      },
      "outputs": [
        {
          "data": {
            "text/plain": [
              "array([       inf, 2.        , 1.        , 0.66666667, 0.5       ,\n",
              "       0.4       , 0.33333333, 0.28571429, 0.25      , 0.22222222])"
            ]
          },
          "execution_count": 152,
          "metadata": {},
          "output_type": "execute_result"
        }
      ],
      "source": [
        "np.divide(2, arr)"
      ]
    },
    {
      "cell_type": "code",
      "execution_count": null,
      "metadata": {
        "id": "Uqjqx5IURLLY",
        "outputId": "d826d141-9f47-4c84-e065-bbf189eb2b52"
      },
      "outputs": [
        {
          "data": {
            "text/plain": [
              "array([ 0,  3,  6,  9, 12, 15, 18, 21, 24, 27])"
            ]
          },
          "execution_count": 153,
          "metadata": {},
          "output_type": "execute_result"
        }
      ],
      "source": [
        "np.multiply(arr, 3)  # np.multiply() fonksiyonu ile bir array ile bir sayı/arrayi çarpabilirsiniz."
      ]
    },
    {
      "cell_type": "code",
      "execution_count": null,
      "metadata": {
        "id": "nnIDR1hERLLY",
        "outputId": "e37d73f8-90fb-4f6f-ea77-780d9309bc0e"
      },
      "outputs": [
        {
          "data": {
            "text/plain": [
              "array([   0,    1,   16,   81,  256,  625, 1296, 2401, 4096, 6561],\n",
              "      dtype=int32)"
            ]
          },
          "execution_count": 154,
          "metadata": {},
          "output_type": "execute_result"
        }
      ],
      "source": [
        "np.power(arr,4)  # np.power() fonksiyonu ile bir arrayin bir sayı/array kuvvetini alabilirsiniz."
      ]
    },
    {
      "cell_type": "code",
      "execution_count": null,
      "metadata": {
        "id": "JT9KqqF9RLLZ",
        "outputId": "6f79a070-108f-432b-be8f-9e0dab93077f"
      },
      "outputs": [
        {
          "data": {
            "text/plain": [
              "array([0, 1, 0, 1, 0, 1, 0, 1, 0, 1], dtype=int32)"
            ]
          },
          "execution_count": 155,
          "metadata": {},
          "output_type": "execute_result"
        }
      ],
      "source": [
        "np.mod(arr, 2)  # np.mod() fonksiyonu ile bir array ile bir sayı/arrayin modulus(kalan değer) bulabilirsiniz."
      ]
    },
    {
      "cell_type": "code",
      "execution_count": null,
      "metadata": {
        "id": "JLIMAoXXRLLa",
        "outputId": "faa68e51-9f9a-4c11-808c-f5e48f91c6fb"
      },
      "outputs": [
        {
          "data": {
            "text/plain": [
              "0"
            ]
          },
          "execution_count": 156,
          "metadata": {},
          "output_type": "execute_result"
        }
      ],
      "source": [
        "np.mod(arr[6], 2)  # arrayin sadece tek bir elemanı için veya bir bölümü için de bu fonksiyonları kullanabilirisiniz."
      ]
    },
    {
      "cell_type": "code",
      "execution_count": null,
      "metadata": {
        "id": "alBQzdgqRLLa",
        "outputId": "223533a2-91ce-4beb-f0cc-acaef54fa625"
      },
      "outputs": [
        {
          "data": {
            "text/plain": [
              "9"
            ]
          },
          "execution_count": 157,
          "metadata": {},
          "output_type": "execute_result"
        }
      ],
      "source": [
        "np.absolute(-9)  # negatif bir sayının mutlak değerini almak için"
      ]
    },
    {
      "cell_type": "code",
      "execution_count": null,
      "metadata": {
        "id": "wRB9d_uFRLLb",
        "outputId": "16d42c33-9c99-4bf9-b388-2fbc08fa547e"
      },
      "outputs": [
        {
          "data": {
            "text/plain": [
              "9"
            ]
          },
          "execution_count": 158,
          "metadata": {},
          "output_type": "execute_result"
        }
      ],
      "source": [
        "np.abs(-9)  # negatif bir sayının mutlak değerini almak için"
      ]
    },
    {
      "cell_type": "code",
      "execution_count": null,
      "metadata": {
        "id": "qNljNlZhRLLc",
        "outputId": "d21a6348-3939-456c-a6c1-ecf031246722"
      },
      "outputs": [
        {
          "data": {
            "text/plain": [
              "array([10,  9,  8,  7,  6,  5,  4,  3,  2,  1])"
            ]
          },
          "execution_count": 159,
          "metadata": {},
          "output_type": "execute_result"
        }
      ],
      "source": [
        "np.abs(10-arr)  # bir arrayin elemanlarının mutlak değerini almak için"
      ]
    },
    {
      "cell_type": "code",
      "execution_count": null,
      "metadata": {
        "id": "x3lho8RjRLLd",
        "outputId": "c20f3b8e-ac6d-4311-e923-6612609a4071"
      },
      "outputs": [
        {
          "data": {
            "text/plain": [
              "array([0, 1, 2, 3, 4, 5, 6, 7, 8, 9])"
            ]
          },
          "execution_count": 138,
          "metadata": {},
          "output_type": "execute_result"
        }
      ],
      "source": [
        "arr"
      ]
    },
    {
      "cell_type": "code",
      "execution_count": null,
      "metadata": {
        "id": "gI6-DTtRRLLe",
        "outputId": "fa14cc08-04b7-4782-cb22-12ebf7a2415a"
      },
      "outputs": [
        {
          "data": {
            "text/plain": [
              "array([0.        , 1.        , 1.41421356, 1.73205081, 2.        ,\n",
              "       2.23606798, 2.44948974, 2.64575131, 2.82842712, 3.        ])"
            ]
          },
          "execution_count": 139,
          "metadata": {},
          "output_type": "execute_result"
        }
      ],
      "source": [
        "np.sqrt(arr)  # bir arrayin elemanlarının karekökünü almak için"
      ]
    },
    {
      "cell_type": "code",
      "execution_count": null,
      "metadata": {
        "id": "4JYaOIAeRLLe",
        "outputId": "d9707ef6-4cf5-49ab-950a-fb63a3f66197"
      },
      "outputs": [
        {
          "data": {
            "text/plain": [
              "array([1.00000000e+00, 2.71828183e+00, 7.38905610e+00, 2.00855369e+01,\n",
              "       5.45981500e+01, 1.48413159e+02, 4.03428793e+02, 1.09663316e+03,\n",
              "       2.98095799e+03, 8.10308393e+03])"
            ]
          },
          "execution_count": 140,
          "metadata": {},
          "output_type": "execute_result"
        }
      ],
      "source": [
        "np.exp(arr)  # bir arrayin elemanlarının exponansiylini almak için"
      ]
    },
    {
      "cell_type": "code",
      "execution_count": null,
      "metadata": {
        "id": "zw39y7hSRLLf",
        "outputId": "dc99e93e-1aa1-4e2e-cf94-46fee7904f32"
      },
      "outputs": [
        {
          "data": {
            "text/plain": [
              "array([ 0.        ,  0.84147098,  0.90929743,  0.14112001, -0.7568025 ,\n",
              "       -0.95892427, -0.2794155 ,  0.6569866 ,  0.98935825,  0.41211849])"
            ]
          },
          "execution_count": 142,
          "metadata": {},
          "output_type": "execute_result"
        }
      ],
      "source": [
        "np.sin(arr)  # bir arrayin elemanlarının sinusunu almak için"
      ]
    },
    {
      "cell_type": "code",
      "execution_count": null,
      "metadata": {
        "id": "zd25lG9BRLLf",
        "outputId": "c9e25b79-d8ba-4111-9208-edc3d160fbdd"
      },
      "outputs": [
        {
          "data": {
            "text/plain": [
              "1.0"
            ]
          },
          "execution_count": 143,
          "metadata": {},
          "output_type": "execute_result"
        }
      ],
      "source": [
        "np.sin(np.pi/2)"
      ]
    },
    {
      "cell_type": "code",
      "execution_count": null,
      "metadata": {
        "id": "WIXwvl1uRLLg",
        "outputId": "86c69b0e-9061-49b2-8de6-f4f6f575b770"
      },
      "outputs": [
        {
          "data": {
            "text/plain": [
              "0.9999999999999999"
            ]
          },
          "execution_count": 144,
          "metadata": {},
          "output_type": "execute_result"
        }
      ],
      "source": [
        "np.tan(np.pi/4)"
      ]
    },
    {
      "cell_type": "code",
      "execution_count": null,
      "metadata": {
        "id": "1jeiTcsURLLg",
        "outputId": "0ac6f437-ac7a-4def-8759-e26caff1b2f0"
      },
      "outputs": [
        {
          "data": {
            "text/plain": [
              "array([      -inf, 0.        , 0.69314718, 1.09861229, 1.38629436,\n",
              "       1.60943791, 1.79175947, 1.94591015, 2.07944154, 2.19722458])"
            ]
          },
          "execution_count": 145,
          "metadata": {},
          "output_type": "execute_result"
        }
      ],
      "source": [
        "np.log(arr)  # bir arrayin elemanlarının logaritmasını almak için"
      ]
    },
    {
      "cell_type": "code",
      "execution_count": null,
      "metadata": {
        "id": "VwlEf_BvRLLh",
        "outputId": "ddd1475f-85dc-45ea-8418-bdc08c91c3c8"
      },
      "outputs": [
        {
          "data": {
            "text/plain": [
              "array([      -inf, 0.        , 0.30103   , 0.47712125, 0.60205999,\n",
              "       0.69897   , 0.77815125, 0.84509804, 0.90308999, 0.95424251])"
            ]
          },
          "execution_count": 146,
          "metadata": {},
          "output_type": "execute_result"
        }
      ],
      "source": [
        "np.log10(arr)  # bir arrayin elemanlarının log10'unu almak için"
      ]
    },
    {
      "cell_type": "code",
      "execution_count": null,
      "metadata": {
        "id": "_lPE-ZoaRLLh",
        "outputId": "fbb50d48-24dd-4587-fb93-b6d888e122be"
      },
      "outputs": [
        {
          "data": {
            "text/plain": [
              "array([0, 1, 2, 3, 4, 5, 6, 7, 8, 9])"
            ]
          },
          "execution_count": 147,
          "metadata": {},
          "output_type": "execute_result"
        }
      ],
      "source": [
        "arr"
      ]
    },
    {
      "cell_type": "code",
      "execution_count": null,
      "metadata": {
        "id": "MKdh_YThRLLi"
      },
      "outputs": [],
      "source": [
        ""
      ]
    },
    {
      "cell_type": "markdown",
      "metadata": {
        "id": "dAJYKy1REOsA"
      },
      "source": [
        "### <p style=\"background-color:#9d4f8c; font-family:newtimeroman; color:#FFF9ED; font-size:150%; text-align:LEFT; border-radius:10px 10px;\">Universal Array Functions</p>\n",
        "\n",
        "<a id=\"4.2\"></a>\n",
        "<a href=\"#toc\" class=\"btn btn-primary btn-sm\" role=\"button\" aria-pressed=\"true\" \n",
        "style=\"color:blue; background-color:#dfa8e4\" data-toggle=\"popover\">Content</a>\n",
        "\n",
        "![image.png](https://i.ibb.co/QYWBrtK/numpy-operations1.png)\n",
        "\n",
        "[SOURCE01](https://medium.com/swlh/universal-functions-ufuncs-a-weapon-of-numpy-b8d0145a3808), \n",
        "[SOURCE02](https://www.brainstobytes.com/hands-on-numpy-universal-functions-and-array-oriented-programming/)\n",
        "\n",
        "\n"
      ]
    },
    {
      "cell_type": "markdown",
      "metadata": {
        "id": "JEPmWEIqEOsA"
      },
      "source": [
        "#### Numpy comes with many [universal array functions](http://docs.scipy.org/doc/numpy/reference/ufuncs.html), which are essentially just mathematical operations you can use to perform the operation across the array. Let's show some common ones:"
      ]
    },
    {
      "cell_type": "code",
      "execution_count": null,
      "metadata": {
        "id": "x8DCE3h-RLLj",
        "outputId": "700c432d-8e40-4068-a6de-3556bfbcb949"
      },
      "outputs": [
        {
          "data": {
            "text/plain": [
              "array([1, 1, 2, 2, 3, 3, 3])"
            ]
          },
          "execution_count": 161,
          "metadata": {},
          "output_type": "execute_result"
        }
      ],
      "source": [
        "v = np.array([1, 1, 2, 2, 3, 3, 3])\n",
        "v"
      ]
    },
    {
      "cell_type": "code",
      "execution_count": null,
      "metadata": {
        "id": "QFjNp3xpRLLj",
        "outputId": "b0a02417-bd5c-41f8-a3e1-f8d24c795e58"
      },
      "outputs": [
        {
          "data": {
            "text/plain": [
              "2.142857142857143"
            ]
          },
          "execution_count": 162,
          "metadata": {},
          "output_type": "execute_result"
        }
      ],
      "source": [
        "np.mean(v)  # arrayin ortalaması"
      ]
    },
    {
      "cell_type": "code",
      "execution_count": null,
      "metadata": {
        "id": "VjGjaLKsRLLk",
        "outputId": "6e538fba-3a69-4c49-d1f8-f1e141a48b11"
      },
      "outputs": [
        {
          "data": {
            "text/plain": [
              "2.142857142857143"
            ]
          },
          "execution_count": 164,
          "metadata": {},
          "output_type": "execute_result"
        }
      ],
      "source": [
        "v.mean() # arrayin ortalaması"
      ]
    },
    {
      "cell_type": "code",
      "execution_count": null,
      "metadata": {
        "id": "AH4bY9eiRLLk",
        "outputId": "58fee85b-29c2-4a8f-e4d2-ce045282c4a8"
      },
      "outputs": [
        {
          "data": {
            "text/plain": [
              "2.0"
            ]
          },
          "execution_count": 167,
          "metadata": {},
          "output_type": "execute_result"
        }
      ],
      "source": [
        "np.median(v)  # veya np.percentile(v, 50)  # arrayin medyanı"
      ]
    },
    {
      "cell_type": "code",
      "execution_count": null,
      "metadata": {
        "id": "uVh6_V4HRLLl",
        "outputId": "137f0939-6f5c-4a52-fc31-230d9cee5963"
      },
      "outputs": [
        {
          "data": {
            "text/plain": [
              "2.0"
            ]
          },
          "execution_count": 168,
          "metadata": {},
          "output_type": "execute_result"
        }
      ],
      "source": [
        "np.percentile(v, 50)  # arrayin medyanı "
      ]
    },
    {
      "cell_type": "code",
      "execution_count": null,
      "metadata": {
        "id": "mLlzOqXmRLLl",
        "outputId": "88e4c06d-604a-4d25-e5d8-ea77f5fd1d3c"
      },
      "outputs": [
        {
          "ename": "AttributeError",
          "evalue": "'numpy.ndarray' object has no attribute 'median'",
          "output_type": "error",
          "traceback": [
            "\u001b[1;31m---------------------------------------------------------------------------\u001b[0m",
            "\u001b[1;31mAttributeError\u001b[0m                            Traceback (most recent call last)",
            "\u001b[1;32m~\\AppData\\Local\\Temp/ipykernel_14668/3316976843.py\u001b[0m in \u001b[0;36m<module>\u001b[1;34m\u001b[0m\n\u001b[1;32m----> 1\u001b[1;33m \u001b[0mv\u001b[0m\u001b[1;33m.\u001b[0m\u001b[0mmedian\u001b[0m\u001b[1;33m(\u001b[0m\u001b[1;33m)\u001b[0m\u001b[1;33m\u001b[0m\u001b[1;33m\u001b[0m\u001b[0m\n\u001b[0m",
            "\u001b[1;31mAttributeError\u001b[0m: 'numpy.ndarray' object has no attribute 'median'"
          ]
        }
      ],
      "source": [
        "v.median()  # bu şekilde çalışmaz. sadece np.median() olarak çalışır."
      ]
    },
    {
      "cell_type": "code",
      "execution_count": null,
      "metadata": {
        "id": "3CV_7Bq8RLLm",
        "outputId": "87c9a3ae-318f-431d-896a-047fc03dbd19"
      },
      "outputs": [
        {
          "data": {
            "text/plain": [
              "0.8329931278350429"
            ]
          },
          "execution_count": 170,
          "metadata": {},
          "output_type": "execute_result"
        }
      ],
      "source": [
        "v.std()  # arrayin standart sapması"
      ]
    },
    {
      "cell_type": "code",
      "execution_count": null,
      "metadata": {
        "id": "AMgFh8udRLLm",
        "outputId": "caf18a21-62d6-4b47-aabf-3ee8b2928153"
      },
      "outputs": [
        {
          "data": {
            "text/plain": [
              "0.6938775510204082"
            ]
          },
          "execution_count": 171,
          "metadata": {},
          "output_type": "execute_result"
        }
      ],
      "source": [
        "v.var()  # arrayin varyasyonu"
      ]
    },
    {
      "cell_type": "code",
      "execution_count": null,
      "metadata": {
        "id": "sB3LVxYLRLLm",
        "outputId": "9e87ddd7-b112-40b2-a251-65f5ed2ef682"
      },
      "outputs": [
        {
          "data": {
            "text/plain": [
              "15"
            ]
          },
          "execution_count": 172,
          "metadata": {},
          "output_type": "execute_result"
        }
      ],
      "source": [
        "v.sum()  # arrayin toplamı"
      ]
    },
    {
      "cell_type": "code",
      "execution_count": null,
      "metadata": {
        "id": "F9i5n1rBRLLn",
        "outputId": "1b17bc5b-5c53-469c-fe52-ce2c77aede08"
      },
      "outputs": [
        {
          "data": {
            "text/plain": [
              "array([[-1.74976547,  0.3426804 ,  1.1530358 , -0.25243604,  0.98132079],\n",
              "       [ 0.51421884,  0.22117967, -1.07004333, -0.18949583,  0.25500144],\n",
              "       [-0.45802699,  0.43516349, -0.58359505,  0.81684707,  0.67272081]])"
            ]
          },
          "execution_count": 176,
          "metadata": {},
          "output_type": "execute_result"
        }
      ],
      "source": [
        "# random olarak üretilen değerlerle tekrar çalışmak istediğinizde aynı değerlere ulaşmak için bu yöntem kullanılır.\n",
        "\n",
        "np.random.seed(100)\n",
        "arr= np.random.randn(3,5)\n",
        "arr"
      ]
    },
    {
      "cell_type": "code",
      "execution_count": null,
      "metadata": {
        "id": "PAuggvdeRLLn",
        "outputId": "2e049aaa-5135-4613-9911-1e72960007f8"
      },
      "outputs": [
        {
          "data": {
            "text/plain": [
              "array([[ 1.        , -0.59546206,  0.21180175],\n",
              "       [-0.59546206,  1.        ,  0.33872371],\n",
              "       [ 0.21180175,  0.33872371,  1.        ]])"
            ]
          },
          "execution_count": 177,
          "metadata": {},
          "output_type": "execute_result"
        }
      ],
      "source": [
        "np.corrcoef(arr)  # bir arrayin correlation coefficient ının bulmak için"
      ]
    },
    {
      "cell_type": "code",
      "execution_count": null,
      "metadata": {
        "id": "-P1UYBCFRLLo",
        "outputId": "437c2c21-25b3-4a46-c0ec-9ffa08253ff1"
      },
      "outputs": [
        {
          "data": {
            "text/plain": [
              "1"
            ]
          },
          "execution_count": 185,
          "metadata": {},
          "output_type": "execute_result"
        }
      ],
      "source": [
        "v. min()  # arraydeki min. değeri bulmak için"
      ]
    },
    {
      "cell_type": "code",
      "execution_count": null,
      "metadata": {
        "id": "jH76W_MlRLLo",
        "outputId": "4275da88-524f-4840-9626-c97b06fcb679"
      },
      "outputs": [
        {
          "data": {
            "text/plain": [
              "3"
            ]
          },
          "execution_count": 186,
          "metadata": {},
          "output_type": "execute_result"
        }
      ],
      "source": [
        "v. max()  # arraydeki max. değeri bulmak için"
      ]
    },
    {
      "cell_type": "code",
      "execution_count": null,
      "metadata": {
        "id": "09cB7rJ4RLLp"
      },
      "outputs": [],
      "source": [
        ""
      ]
    },
    {
      "cell_type": "markdown",
      "metadata": {
        "id": "WpQVMB3xEOsF"
      },
      "source": [
        "### <p style=\"background-color:#9d4f8c; font-family:newtimeroman; color:#FFF9ED; font-size:150%; text-align:LEFT; border-radius:10px 10px;\">Statistical Calculations</p>\n",
        "\n",
        "<a id=\"4.3\"></a>\n",
        "<a href=\"#toc\" class=\"btn btn-primary btn-sm\" role=\"button\" aria-pressed=\"true\" \n",
        "style=\"color:blue; background-color:#dfa8e4\" data-toggle=\"popover\">Content</a>\n",
        "\n",
        "Statistics is concerned with collecting and then analyzing that data. It includes methods for collecting the samples, describing the data, and then concluding that data. NumPy is the fundamental package for scientific calculations and hence goes hand-in-hand for NumPy statistical Functions.\n",
        "\n",
        "NumPy contains various statistical functions that are used to perform statistical data analysis. These statistical functions are useful when finding a maximum or minimum of elements. It is also used to find basic statistical concepts like standard deviation, variance, etc.\n",
        "\n",
        "NumPy is equipped with the following statistical functions:\n",
        "\n",
        "**``np.amin(arr)``** This function determines the minimum value of the element along a specified axis.<br>\n",
        "**``np.amax(arr)``** This function determines the maximum value of the element along a specified axis.<br>\n",
        "**``arr.min()``** Returns minimum value of arr<br>\n",
        "**``arr.max(axis=0)``** Returns maximum value of specific axis<br>\n",
        "**``np.mean(arr, axis=0)``** It determines the mean value of the data set.<br>\n",
        "**``np.median(arr)``** It determines the median value of the data set.<br>\n",
        "**``np.std(arr, axis=1)``** It determines the standard deviation.<br>\n",
        "**``np.var(arr)``** It determines the variance.<br>\n",
        "**``np.ptp(arr)``** It returns a range of values (maximum - minimum) along an axis.<br>\n",
        "**``np.average(arr)``** It determines the weighted average.<br>\n",
        "**``np.percentile(arr)``** It determines the nth percentile of data along the specified axis.<br>\n",
        "**``np.corrcoef(arr)``** Returns correlation coefficient of array\n",
        "\n",
        "More Sources: [SOURCE01](https://data-flair.training/blogs/numpy-statistical-functions/), [SOURCE02](https://python-tricks.com/statistical-functions-in-numpy/), [SOURCE03](https://numpy.org/doc/stable/reference/routines.statistics.html), [SOURCE04](https://www.tutorialspoint.com/numpy/numpy_statistical_functions.htm), [SOURCE05](https://www.i2tutorials.com/numpy-tutorial/numpy-statistical-functions/), [SOURCE06](https://towardsdatascience.com/use-numpy-for-statistics-and-arithmetic-operations-in-2020-2e157b784df4), [SOURCE07](https://cloudxlab.com/assessment/displayslide/2509/numpy-mathematical-and-statistical-functions-on-numpy-arrays), [SOURCE08](https://stackoverflow.com/questions/63888139/calculating-some-statistics-for-each-column-of-a-numpy-ndarray), [SOURCE09](https://www.codecademy.com/learn/intro-statistics-numpy)"
      ]
    },
    {
      "cell_type": "code",
      "execution_count": null,
      "metadata": {
        "id": "ioy-WygLRLLq",
        "outputId": "d99c41f2-6249-41c6-b785-630d4f28f58f"
      },
      "outputs": [
        {
          "data": {
            "text/plain": [
              "array([[ 0,  1,  2,  3,  4],\n",
              "       [ 5,  6,  7,  8,  9],\n",
              "       [10, 11, 12, 13, 14]])"
            ]
          },
          "execution_count": 190,
          "metadata": {},
          "output_type": "execute_result"
        }
      ],
      "source": [
        "arr = np.arange(15).reshape(3,5)\n",
        "arr"
      ]
    },
    {
      "cell_type": "code",
      "execution_count": null,
      "metadata": {
        "id": "ImEANgbORLLq",
        "outputId": "448ad984-0c98-4193-c0a9-a40c01890d42"
      },
      "outputs": [
        {
          "data": {
            "text/plain": [
              "array([0, 1, 2, 3, 4])"
            ]
          },
          "execution_count": 191,
          "metadata": {},
          "output_type": "execute_result"
        }
      ],
      "source": [
        "np.amin(arr, axis=0)  # axis=0 boyunca min değerleri döndürür"
      ]
    },
    {
      "cell_type": "code",
      "execution_count": null,
      "metadata": {
        "id": "ppqQjNcXRLLq",
        "outputId": "39bbc686-1ab7-413e-af46-9a45be7b2a83"
      },
      "outputs": [
        {
          "data": {
            "text/plain": [
              "array([0, 1, 2, 3, 4])"
            ]
          },
          "execution_count": 192,
          "metadata": {},
          "output_type": "execute_result"
        }
      ],
      "source": [
        "np.min(arr, axis=0) # axis=0 boyunca min değerleri döndürür"
      ]
    },
    {
      "cell_type": "code",
      "execution_count": null,
      "metadata": {
        "id": "kQIe5B3ERLLr",
        "outputId": "f6f8525c-3b2d-4191-af0f-52f6d61c8092"
      },
      "outputs": [
        {
          "data": {
            "text/plain": [
              "array([ 4,  9, 14])"
            ]
          },
          "execution_count": 193,
          "metadata": {},
          "output_type": "execute_result"
        }
      ],
      "source": [
        "np.amax(arr, axis=1)  # axis=1 boyunca max değerleri döndürür"
      ]
    },
    {
      "cell_type": "code",
      "execution_count": null,
      "metadata": {
        "id": "C_5ZHNUkRLLr",
        "outputId": "5b02b393-a65a-4fc7-c96b-1b9c3a71a9b4"
      },
      "outputs": [
        {
          "data": {
            "text/plain": [
              "array([5., 6., 7., 8., 9.])"
            ]
          },
          "execution_count": 194,
          "metadata": {},
          "output_type": "execute_result"
        }
      ],
      "source": [
        "np.mean(arr, axis=0)  # axis=0 boyunca meam değerleri döndürür"
      ]
    },
    {
      "cell_type": "code",
      "execution_count": null,
      "metadata": {
        "id": "YCUownxTRLLs",
        "outputId": "14dcce91-2d36-4003-a89e-31168d031721"
      },
      "outputs": [
        {
          "data": {
            "text/plain": [
              "array([1.41421356, 1.41421356, 1.41421356])"
            ]
          },
          "execution_count": 195,
          "metadata": {},
          "output_type": "execute_result"
        }
      ],
      "source": [
        "np.std(arr, axis=1)  # axis=1 boyunca std değerleri döndürür"
      ]
    },
    {
      "cell_type": "code",
      "execution_count": null,
      "metadata": {
        "id": "36FEDtX-RLLs",
        "outputId": "f7cb20b7-b0b9-410b-f7d7-ac192fb20bf6"
      },
      "outputs": [
        {
          "data": {
            "text/plain": [
              "array([16.66666667, 16.66666667, 16.66666667, 16.66666667, 16.66666667])"
            ]
          },
          "execution_count": 196,
          "metadata": {},
          "output_type": "execute_result"
        }
      ],
      "source": [
        "np.var(arr, axis=0)  # axis=1 boyunca var değerleri döndürür"
      ]
    },
    {
      "cell_type": "code",
      "execution_count": null,
      "metadata": {
        "id": "4TT_1eigRLLs",
        "outputId": "3db4d18f-e69d-4fba-c321-09e3474e196f"
      },
      "outputs": [
        {
          "data": {
            "text/plain": [
              "array([2.5, 3.5, 4.5, 5.5, 6.5])"
            ]
          },
          "execution_count": 197,
          "metadata": {},
          "output_type": "execute_result"
        }
      ],
      "source": [
        "np.percentile(arr, 25, axis=0)  # # axis=0 boyunca q1(%25) değerleri döndürür"
      ]
    },
    {
      "cell_type": "code",
      "execution_count": null,
      "metadata": {
        "id": "zOS5K0WHRLLt",
        "outputId": "3860b6c7-acf3-4211-e4aa-18cc51f86af3"
      },
      "outputs": [
        {
          "data": {
            "text/plain": [
              "array([[1., 1., 1.],\n",
              "       [1., 1., 1.],\n",
              "       [1., 1., 1.]])"
            ]
          },
          "execution_count": 199,
          "metadata": {},
          "output_type": "execute_result"
        }
      ],
      "source": [
        "np.corrcoef(arr)"
      ]
    },
    {
      "cell_type": "markdown",
      "metadata": {
        "id": "T8AiAtVPRLLt"
      },
      "source": [
        "## <p style=\"background-color:#9d4f8c; font-family:newtimeroman; color:#FFF9ED; font-size:175%; text-align:center; border-radius:10px 10px;\">Official Tutorial</p>\n",
        "\n",
        "<a id=\"5\"></a>\n",
        "<a href=\"#toc\" class=\"btn btn-primary btn-sm\" role=\"button\" aria-pressed=\"true\" \n",
        "style=\"color:blue; background-color:#dfa8e4\" data-toggle=\"popover\">Content</a>"
      ]
    },
    {
      "cell_type": "markdown",
      "metadata": {
        "id": "ZRaDLo8tEOsK"
      },
      "source": [
        "## You can take a look at an attractive [official tutorial](https://numpy.org/devdocs/user/absolute_beginners.html) for beginners of NumPy."
      ]
    },
    {
      "cell_type": "markdown",
      "metadata": {
        "id": "2j7VSJzLEOsJ"
      },
      "source": [
        "## <p style=\"background-color:#FDFEFE; font-family:newtimeroman; color:#9d4f8c; font-size:150%; text-align:center; border-radius:10px 10px;\">The End of the NumPy Session - 02</p>\n",
        "\n",
        "<a id=\"6\"></a>\n",
        "<a href=\"#toc\" class=\"btn btn-primary btn-sm\" role=\"button\" aria-pressed=\"true\" \n",
        "style=\"color:blue; background-color:#dfa8e4\" data-toggle=\"popover\">Content</a>"
      ]
    },
    {
      "cell_type": "markdown",
      "metadata": {
        "id": "l_NHv4a9EOsK"
      },
      "source": [
        "<p style=\"text-align: center;\"><img src=\"https://docs.google.com/uc?id=1lY0Uj5R04yMY3-ZppPWxqCr5pvBLYPnV\" class=\"img-fluid\" \n",
        "alt=\"CLRSWY\"></p>\n",
        "\n",
        "## <p style=\"background-color:#FDFEFE; font-family:newtimeroman; color:#9d4f8c; font-size:100%; text-align:center; border-radius:10px 10px;\">WAY TO REINVENT YOURSELF</p>\n",
        "___"
      ]
    }
  ],
  "metadata": {
    "colab": {
      "name": "DAwPy_S2_(Numpy_Concat_Split_Indexing_Selection_Operations)-İlknur.ipynb",
      "provenance": [],
      "include_colab_link": true
    },
    "kernelspec": {
      "display_name": "Python 3 (ipykernel)",
      "language": "python",
      "name": "python3"
    },
    "language_info": {
      "codemirror_mode": {
        "name": "ipython",
        "version": 3
      },
      "file_extension": ".py",
      "mimetype": "text/x-python",
      "name": "python",
      "nbconvert_exporter": "python",
      "pygments_lexer": "ipython3",
      "version": "3.9.7"
    },
    "toc": {
      "base_numbering": 1,
      "nav_menu": {},
      "number_sections": false,
      "sideBar": true,
      "skip_h1_title": false,
      "title_cell": "Table of Contents",
      "title_sidebar": "Contents",
      "toc_cell": false,
      "toc_position": {
        "height": "calc(100% - 180px)",
        "left": "10px",
        "top": "150px",
        "width": "194.091px"
      },
      "toc_section_display": true,
      "toc_window_display": true
    }
  },
  "nbformat": 4,
  "nbformat_minor": 0
}